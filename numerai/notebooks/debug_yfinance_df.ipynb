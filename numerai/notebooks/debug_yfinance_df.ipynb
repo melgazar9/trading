{
 "cells": [
  {
   "cell_type": "code",
   "execution_count": 1,
   "id": "educational-assistant",
   "metadata": {},
   "outputs": [],
   "source": [
    "from functools import reduce\n",
    "import pandas as pd\n",
    "import numpy as np\n",
    "import simplejson\n",
    "import yfinance\n",
    "import datetime"
   ]
  },
  {
   "cell_type": "code",
   "execution_count": 2,
   "id": "sexual-sheriff",
   "metadata": {},
   "outputs": [
    {
     "data": {
      "text/html": [
       "<div>\n",
       "<style scoped>\n",
       "    .dataframe tbody tr th:only-of-type {\n",
       "        vertical-align: middle;\n",
       "    }\n",
       "\n",
       "    .dataframe tbody tr th {\n",
       "        vertical-align: top;\n",
       "    }\n",
       "\n",
       "    .dataframe thead th {\n",
       "        text-align: right;\n",
       "    }\n",
       "</style>\n",
       "<table border=\"1\" class=\"dataframe\">\n",
       "  <thead>\n",
       "    <tr style=\"text-align: right;\">\n",
       "      <th></th>\n",
       "      <th>index</th>\n",
       "      <th>date</th>\n",
       "      <th>yahoo_ticker</th>\n",
       "      <th>adj_close_1d</th>\n",
       "      <th>close_1d</th>\n",
       "      <th>high_1d</th>\n",
       "      <th>low_1d</th>\n",
       "      <th>open_1d</th>\n",
       "      <th>volume_1d</th>\n",
       "      <th>adj_close_1h_0</th>\n",
       "      <th>...</th>\n",
       "      <th>volume_1h_14</th>\n",
       "      <th>volume_1h_15</th>\n",
       "      <th>volume_1h_16</th>\n",
       "      <th>volume_1h_17</th>\n",
       "      <th>volume_1h_18</th>\n",
       "      <th>volume_1h_19</th>\n",
       "      <th>volume_1h_20</th>\n",
       "      <th>volume_1h_21</th>\n",
       "      <th>volume_1h_22</th>\n",
       "      <th>volume_1h_23</th>\n",
       "    </tr>\n",
       "  </thead>\n",
       "  <tbody>\n",
       "    <tr>\n",
       "      <th>23819794</th>\n",
       "      <td>23819794</td>\n",
       "      <td>2021-05-13 00:00:00-05:00</td>\n",
       "      <td>TENERGY.AT</td>\n",
       "      <td>NaN</td>\n",
       "      <td>NaN</td>\n",
       "      <td>NaN</td>\n",
       "      <td>NaN</td>\n",
       "      <td>NaN</td>\n",
       "      <td>NaN</td>\n",
       "      <td>NaN</td>\n",
       "      <td>...</td>\n",
       "      <td>NaN</td>\n",
       "      <td>NaN</td>\n",
       "      <td>NaN</td>\n",
       "      <td>NaN</td>\n",
       "      <td>NaN</td>\n",
       "      <td>NaN</td>\n",
       "      <td>NaN</td>\n",
       "      <td>NaN</td>\n",
       "      <td>NaN</td>\n",
       "      <td>NaN</td>\n",
       "    </tr>\n",
       "    <tr>\n",
       "      <th>23819795</th>\n",
       "      <td>23819795</td>\n",
       "      <td>2021-05-13 00:00:00-05:00</td>\n",
       "      <td>U11.SI</td>\n",
       "      <td>NaN</td>\n",
       "      <td>NaN</td>\n",
       "      <td>NaN</td>\n",
       "      <td>NaN</td>\n",
       "      <td>NaN</td>\n",
       "      <td>NaN</td>\n",
       "      <td>NaN</td>\n",
       "      <td>...</td>\n",
       "      <td>NaN</td>\n",
       "      <td>NaN</td>\n",
       "      <td>NaN</td>\n",
       "      <td>NaN</td>\n",
       "      <td>NaN</td>\n",
       "      <td>NaN</td>\n",
       "      <td>863600.0</td>\n",
       "      <td>1086000.0</td>\n",
       "      <td>403700.0</td>\n",
       "      <td>41600.0</td>\n",
       "    </tr>\n",
       "    <tr>\n",
       "      <th>23819796</th>\n",
       "      <td>23819796</td>\n",
       "      <td>2021-05-13 00:00:00-05:00</td>\n",
       "      <td>U96.SI</td>\n",
       "      <td>NaN</td>\n",
       "      <td>NaN</td>\n",
       "      <td>NaN</td>\n",
       "      <td>NaN</td>\n",
       "      <td>NaN</td>\n",
       "      <td>NaN</td>\n",
       "      <td>NaN</td>\n",
       "      <td>...</td>\n",
       "      <td>NaN</td>\n",
       "      <td>NaN</td>\n",
       "      <td>NaN</td>\n",
       "      <td>NaN</td>\n",
       "      <td>NaN</td>\n",
       "      <td>NaN</td>\n",
       "      <td>1633100.0</td>\n",
       "      <td>372400.0</td>\n",
       "      <td>480700.0</td>\n",
       "      <td>2400.0</td>\n",
       "    </tr>\n",
       "    <tr>\n",
       "      <th>23819797</th>\n",
       "      <td>23819797</td>\n",
       "      <td>2021-05-13 00:00:00-05:00</td>\n",
       "      <td>V03.SI</td>\n",
       "      <td>NaN</td>\n",
       "      <td>NaN</td>\n",
       "      <td>NaN</td>\n",
       "      <td>NaN</td>\n",
       "      <td>NaN</td>\n",
       "      <td>NaN</td>\n",
       "      <td>NaN</td>\n",
       "      <td>...</td>\n",
       "      <td>NaN</td>\n",
       "      <td>NaN</td>\n",
       "      <td>NaN</td>\n",
       "      <td>NaN</td>\n",
       "      <td>NaN</td>\n",
       "      <td>NaN</td>\n",
       "      <td>155400.0</td>\n",
       "      <td>116600.0</td>\n",
       "      <td>101000.0</td>\n",
       "      <td>8600.0</td>\n",
       "    </tr>\n",
       "    <tr>\n",
       "      <th>23819798</th>\n",
       "      <td>23819798</td>\n",
       "      <td>2021-05-13 00:00:00-05:00</td>\n",
       "      <td>Z74.SI</td>\n",
       "      <td>NaN</td>\n",
       "      <td>NaN</td>\n",
       "      <td>NaN</td>\n",
       "      <td>NaN</td>\n",
       "      <td>NaN</td>\n",
       "      <td>NaN</td>\n",
       "      <td>NaN</td>\n",
       "      <td>...</td>\n",
       "      <td>NaN</td>\n",
       "      <td>NaN</td>\n",
       "      <td>NaN</td>\n",
       "      <td>NaN</td>\n",
       "      <td>NaN</td>\n",
       "      <td>NaN</td>\n",
       "      <td>9847200.0</td>\n",
       "      <td>2575800.0</td>\n",
       "      <td>3613300.0</td>\n",
       "      <td>278600.0</td>\n",
       "    </tr>\n",
       "  </tbody>\n",
       "</table>\n",
       "<p>5 rows × 153 columns</p>\n",
       "</div>"
      ],
      "text/plain": [
       "             index                      date yahoo_ticker  adj_close_1d  \\\n",
       "23819794  23819794 2021-05-13 00:00:00-05:00   TENERGY.AT           NaN   \n",
       "23819795  23819795 2021-05-13 00:00:00-05:00       U11.SI           NaN   \n",
       "23819796  23819796 2021-05-13 00:00:00-05:00       U96.SI           NaN   \n",
       "23819797  23819797 2021-05-13 00:00:00-05:00       V03.SI           NaN   \n",
       "23819798  23819798 2021-05-13 00:00:00-05:00       Z74.SI           NaN   \n",
       "\n",
       "          close_1d  high_1d  low_1d  open_1d  volume_1d  adj_close_1h_0  ...  \\\n",
       "23819794       NaN      NaN     NaN      NaN        NaN             NaN  ...   \n",
       "23819795       NaN      NaN     NaN      NaN        NaN             NaN  ...   \n",
       "23819796       NaN      NaN     NaN      NaN        NaN             NaN  ...   \n",
       "23819797       NaN      NaN     NaN      NaN        NaN             NaN  ...   \n",
       "23819798       NaN      NaN     NaN      NaN        NaN             NaN  ...   \n",
       "\n",
       "          volume_1h_14  volume_1h_15  volume_1h_16  volume_1h_17  \\\n",
       "23819794           NaN           NaN           NaN           NaN   \n",
       "23819795           NaN           NaN           NaN           NaN   \n",
       "23819796           NaN           NaN           NaN           NaN   \n",
       "23819797           NaN           NaN           NaN           NaN   \n",
       "23819798           NaN           NaN           NaN           NaN   \n",
       "\n",
       "          volume_1h_18  volume_1h_19  volume_1h_20  volume_1h_21  \\\n",
       "23819794           NaN           NaN           NaN           NaN   \n",
       "23819795           NaN           NaN      863600.0     1086000.0   \n",
       "23819796           NaN           NaN     1633100.0      372400.0   \n",
       "23819797           NaN           NaN      155400.0      116600.0   \n",
       "23819798           NaN           NaN     9847200.0     2575800.0   \n",
       "\n",
       "          volume_1h_22  volume_1h_23  \n",
       "23819794           NaN           NaN  \n",
       "23819795      403700.0       41600.0  \n",
       "23819796      480700.0        2400.0  \n",
       "23819797      101000.0        8600.0  \n",
       "23819798     3613300.0      278600.0  \n",
       "\n",
       "[5 rows x 153 columns]"
      ]
     },
     "execution_count": 2,
     "metadata": {},
     "output_type": "execute_result"
    }
   ],
   "source": [
    "numerai_filepath = 'D:/trading/data/numerai/datasets/build_dataset_dfs/df_yahoo_tmp.feather'\n",
    "df_yahoo = pd.read_feather(numerai_filepath)\n",
    "df_yahoo.tail()"
   ]
  },
  {
   "cell_type": "code",
   "execution_count": 3,
   "id": "unusual-biotechnology",
   "metadata": {},
   "outputs": [],
   "source": [
    "date_plus_ticker_before = df_yahoo['date'].astype(str) + df_yahoo['yahoo_ticker'].astype(str)"
   ]
  },
  {
   "cell_type": "code",
   "execution_count": 4,
   "id": "acceptable-edgar",
   "metadata": {},
   "outputs": [
    {
     "data": {
      "text/plain": [
       "True"
      ]
     },
     "execution_count": 4,
     "metadata": {},
     "output_type": "execute_result"
    }
   ],
   "source": [
    "len(set(date_plus_ticker_before)) != len(date_plus_ticker_before)"
   ]
  },
  {
   "cell_type": "code",
   "execution_count": 5,
   "id": "important-citation",
   "metadata": {
    "scrolled": true
   },
   "outputs": [
    {
     "data": {
      "text/plain": [
       "0"
      ]
     },
     "execution_count": 5,
     "metadata": {},
     "output_type": "execute_result"
    }
   ],
   "source": [
    "df_yahoo['yahoo_ticker'].isnull().sum()"
   ]
  },
  {
   "cell_type": "code",
   "execution_count": 8,
   "id": "finite-identity",
   "metadata": {},
   "outputs": [],
   "source": [
    "import os\n",
    "os.chdir('trading')"
   ]
  },
  {
   "cell_type": "code",
   "execution_count": 9,
   "id": "greek-cassette",
   "metadata": {},
   "outputs": [
    {
     "name": "stdout",
     "output_type": "stream",
     "text": [
      "Number of eligible tickers: 5421\n",
      "Number of eligible tickers in map: 5420\n",
      "tickers before cleaning: (5420, 3)\n",
      "tickers after cleaning: (5373, 3)\n"
     ]
    }
   ],
   "source": [
    "#####################\n",
    "###### Imports ######\n",
    "#####################\n",
    "\n",
    "import os\n",
    "from configparser import ConfigParser\n",
    "import sys\n",
    "from IPython.display import display\n",
    "from datetime import datetime\n",
    "import time\n",
    "import numerapi\n",
    "\n",
    "start_time = time.time()\n",
    "\n",
    "if not os.getcwd().endswith('trading'): os.chdir('../../..') # local machine\n",
    "\n",
    "assert os.getcwd().endswith('trading'), 'Wrong path!'\n",
    "os.environ['NUMEXPR_MAX_THREADS'] = '32'\n",
    "os.environ['NUMEXPR_NUM_THREADS'] = '16'\n",
    "\n",
    "sys.path.append(os.getcwd())\n",
    "from dev.scripts.ML_utils import * # run if on local machine\n",
    "from dev.scripts.trading_utils import * # run if on local machine\n",
    "from numerai.dev.scripts.numerai_utils import *\n",
    "from numerai.dev.configs.build_numerai_dataset_cfg import *\n",
    "\n",
    "\n",
    "###  pd options / configs ###\n",
    "\n",
    "pd.set_option('display.float_format', lambda x: '%.5f' % x)\n",
    "pd.set_option('display.max_columns', 10)\n",
    "config = ConfigParser()\n",
    "config.read('numerai/numerai_keys.ini')\n",
    "\n",
    "### connect to the numerai signals API ###\n",
    "\n",
    "napi = numerapi.SignalsAPI(config['KEYS']['NUMERAI_PUBLIC_KEY'], config['KEYS']['NUMERAI_SECRET_KEY'])\n",
    "\n",
    "### Load eligible tickers ###\n",
    "\n",
    "ticker_map = download_ticker_map(napi, **DOWNLOAD_VALID_TICKERS_PARAMS)"
   ]
  },
  {
   "cell_type": "code",
   "execution_count": 12,
   "id": "adjustable-australian",
   "metadata": {},
   "outputs": [
    {
     "name": "stdout",
     "output_type": "stream",
     "text": [
      "<class 'pandas.core.frame.DataFrame'>\n",
      "RangeIndex: 23819799 entries, 0 to 23819798\n",
      "Columns: 153 entries, index to volume_1h_23\n",
      "dtypes: datetime64[ns, US/Central](1), float64(150), int64(1), object(1)\n",
      "memory usage: 27.2+ GB\n",
      "None\n"
     ]
    },
    {
     "data": {
      "text/plain": [
       "8"
      ]
     },
     "execution_count": 12,
     "metadata": {},
     "output_type": "execute_result"
    }
   ],
   "source": [
    "if VERBOSE: print(df_yahoo.info())\n",
    "gc.collect()"
   ]
  },
  {
   "cell_type": "code",
   "execution_count": 15,
   "id": "tested-movement",
   "metadata": {},
   "outputs": [],
   "source": [
    "if CREATE_BLOOMBERG_TICKER_FROM_YAHOO or DOWNLOAD_YAHOO_DATA:\n",
    "    if 'ticker' in df_yahoo.columns:\n",
    "        df_yahoo.rename(columns={'ticker': 'yahoo_ticker'}, inplace=True)\n",
    "    df_yahoo.loc[:, 'bloomberg_ticker'] = df_yahoo['yahoo_ticker'].map(dict(zip(ticker_map['yahoo'], ticker_map['bloomberg_ticker'])))"
   ]
  },
  {
   "cell_type": "code",
   "execution_count": 40,
   "id": "german-supervision",
   "metadata": {},
   "outputs": [
    {
     "data": {
      "text/plain": [
       "1538"
      ]
     },
     "execution_count": 40,
     "metadata": {},
     "output_type": "execute_result"
    }
   ],
   "source": [
    "gc.collect()"
   ]
  },
  {
   "cell_type": "code",
   "execution_count": 18,
   "id": "massive-neighbor",
   "metadata": {
    "scrolled": true
   },
   "outputs": [
    {
     "data": {
      "text/plain": [
       "(23819799, 154)"
      ]
     },
     "execution_count": 18,
     "metadata": {},
     "output_type": "execute_result"
    }
   ],
   "source": [
    "df_yahoo.shape"
   ]
  },
  {
   "cell_type": "code",
   "execution_count": 17,
   "id": "governing-network",
   "metadata": {},
   "outputs": [
    {
     "data": {
      "text/plain": [
       "(0, 132717)"
      ]
     },
     "execution_count": 17,
     "metadata": {},
     "output_type": "execute_result"
    }
   ],
   "source": [
    "df_yahoo['yahoo_ticker'].isnull().sum(), df_yahoo['bloomberg_ticker'].isnull().sum()"
   ]
  },
  {
   "cell_type": "code",
   "execution_count": 19,
   "id": "identified-rachel",
   "metadata": {},
   "outputs": [
    {
     "data": {
      "text/plain": [
       "0.0055717094841984185"
      ]
     },
     "execution_count": 19,
     "metadata": {},
     "output_type": "execute_result"
    }
   ],
   "source": [
    "132717/23819799"
   ]
  },
  {
   "cell_type": "code",
   "execution_count": 22,
   "id": "educated-fighter",
   "metadata": {},
   "outputs": [
    {
     "name": "stdout",
     "output_type": "stream",
     "text": [
      "\n",
      "validating unique date + ticker index...\n",
      "\n"
     ]
    }
   ],
   "source": [
    "print('\\nvalidating unique date + ticker index...\\n')\n",
    "if DROP_NULL_TICKERS: df_yahoo.dropna(subset=[TICKER_COL], inplace=True)"
   ]
  },
  {
   "cell_type": "code",
   "execution_count": 23,
   "id": "spoken-emergency",
   "metadata": {},
   "outputs": [
    {
     "ename": "AssertionError",
     "evalue": "TICKER_COL and DATETIME_COL do not make a unique index!",
     "output_type": "error",
     "traceback": [
      "\u001b[1;31m---------------------------------------------------------------------------\u001b[0m",
      "\u001b[1;31mAssertionError\u001b[0m                            Traceback (most recent call last)",
      "\u001b[1;32m<ipython-input-23-bc3f35ab96c9>\u001b[0m in \u001b[0;36m<module>\u001b[1;34m\u001b[0m\n\u001b[0;32m      1\u001b[0m \u001b[0mdatetime_ticker_cat\u001b[0m \u001b[1;33m=\u001b[0m \u001b[1;33m(\u001b[0m\u001b[0mdf_yahoo\u001b[0m\u001b[1;33m[\u001b[0m\u001b[0mDATETIME_COL\u001b[0m\u001b[1;33m]\u001b[0m\u001b[1;33m.\u001b[0m\u001b[0mastype\u001b[0m\u001b[1;33m(\u001b[0m\u001b[0mstr\u001b[0m\u001b[1;33m)\u001b[0m \u001b[1;33m+\u001b[0m \u001b[1;34m' '\u001b[0m \u001b[1;33m+\u001b[0m \u001b[0mdf_yahoo\u001b[0m\u001b[1;33m[\u001b[0m\u001b[0mTICKER_COL\u001b[0m\u001b[1;33m]\u001b[0m\u001b[1;33m.\u001b[0m\u001b[0mastype\u001b[0m\u001b[1;33m(\u001b[0m\u001b[0mstr\u001b[0m\u001b[1;33m)\u001b[0m\u001b[1;33m)\u001b[0m\u001b[1;33m.\u001b[0m\u001b[0mtolist\u001b[0m\u001b[1;33m(\u001b[0m\u001b[1;33m)\u001b[0m\u001b[1;33m\u001b[0m\u001b[1;33m\u001b[0m\u001b[0m\n\u001b[1;32m----> 2\u001b[1;33m \u001b[1;32massert\u001b[0m \u001b[0mlen\u001b[0m\u001b[1;33m(\u001b[0m\u001b[0mdatetime_ticker_cat\u001b[0m\u001b[1;33m)\u001b[0m \u001b[1;33m==\u001b[0m \u001b[0mlen\u001b[0m\u001b[1;33m(\u001b[0m\u001b[0mset\u001b[0m\u001b[1;33m(\u001b[0m\u001b[0mdatetime_ticker_cat\u001b[0m\u001b[1;33m)\u001b[0m\u001b[1;33m)\u001b[0m\u001b[1;33m,\u001b[0m \u001b[1;34m'TICKER_COL and DATETIME_COL do not make a unique index!'\u001b[0m\u001b[1;33m\u001b[0m\u001b[1;33m\u001b[0m\u001b[0m\n\u001b[0m\u001b[0;32m      3\u001b[0m \u001b[1;32mdel\u001b[0m \u001b[0mdatetime_ticker_cat\u001b[0m\u001b[1;33m\u001b[0m\u001b[1;33m\u001b[0m\u001b[0m\n",
      "\u001b[1;31mAssertionError\u001b[0m: TICKER_COL and DATETIME_COL do not make a unique index!"
     ]
    }
   ],
   "source": [
    "datetime_ticker_cat = (df_yahoo[DATETIME_COL].astype(str) + ' ' + df_yahoo[TICKER_COL].astype(str)).tolist()\n",
    "assert len(datetime_ticker_cat) == len(set(datetime_ticker_cat)), 'TICKER_COL and DATETIME_COL do not make a unique index!'\n",
    "del datetime_ticker_cat"
   ]
  },
  {
   "cell_type": "code",
   "execution_count": 29,
   "id": "hidden-accident",
   "metadata": {},
   "outputs": [],
   "source": [
    "tmp = pd.Series(datetime_ticker_cat)[pd.Series(datetime_ticker_cat).duplicated()]"
   ]
  },
  {
   "cell_type": "code",
   "execution_count": 35,
   "id": "detailed-enough",
   "metadata": {},
   "outputs": [
    {
     "data": {
      "text/plain": [
       "['2021-05-14 00:00:00-05:00 AEM SP',\n",
       " '2018-12-24 00:00:00-06:00 ALA CN',\n",
       " '2021-05-14 00:00:00-05:00 ALM SM',\n",
       " '2021-05-14 00:00:00-05:00 ATO FP',\n",
       " '2021-05-14 00:00:00-05:00 BEKB BB',\n",
       " '2021-05-14 00:00:00-05:00 BMW GR',\n",
       " '2021-05-14 00:00:00-05:00 BOKA NA',\n",
       " '2021-05-14 00:00:00-05:00 EDEN FP',\n",
       " '2021-05-14 00:00:00-05:00 GNDI3 BZ',\n",
       " '2021-05-14 00:00:00-05:00 KINDSDB SS',\n",
       " '2021-05-14 00:00:00-05:00 SOF BB',\n",
       " '2021-05-14 00:00:00-05:00 UHR SW',\n",
       " '2018-12-24 00:00:00-06:00 WFG CN']"
      ]
     },
     "execution_count": 35,
     "metadata": {},
     "output_type": "execute_result"
    }
   ],
   "source": [
    "[i for i in tmp if not i.endswith('nan')]"
   ]
  },
  {
   "cell_type": "code",
   "execution_count": null,
   "id": "stylish-garage",
   "metadata": {},
   "outputs": [],
   "source": [
    "df_yahoo['yahoo_ticker'].isnull().sum(), df_yahoo['bloomberg_ticker'].isnull().sum()"
   ]
  }
 ],
 "metadata": {
  "kernelspec": {
   "display_name": "Python 3",
   "language": "python",
   "name": "python3"
  },
  "language_info": {
   "codemirror_mode": {
    "name": "ipython",
    "version": 3
   },
   "file_extension": ".py",
   "mimetype": "text/x-python",
   "name": "python",
   "nbconvert_exporter": "python",
   "pygments_lexer": "ipython3",
   "version": "3.7.9"
  }
 },
 "nbformat": 4,
 "nbformat_minor": 5
}

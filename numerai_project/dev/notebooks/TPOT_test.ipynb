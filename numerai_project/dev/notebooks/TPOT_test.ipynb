{
 "cells": [
  {
   "cell_type": "code",
   "execution_count": 1,
   "id": "069bcc6c",
   "metadata": {},
   "outputs": [],
   "source": [
    "from tpot import TPOTClassifier, TPOTRegressor\n",
    "import dill\n",
    "import pandas as pd\n",
    "\n",
    "from configparser import ConfigParser\n",
    "import numerapi\n",
    "import os\n",
    "import sys\n",
    "if not os.getcwd().endswith('trading'): os.chdir('../../../../trading') # local machine\n",
    "assert os.getcwd().endswith('trading'), 'Wrong path!'\n",
    "from pandas.api.types import is_datetime64_any_dtype as is_datetime\n",
    "from collections import Counter\n",
    "from skimpy import clean_columns\n",
    "\n",
    "import multiprocessing as mp\n",
    "from sklearn.metrics import mean_squared_error\n",
    "from pandarallel import pandarallel # parallel pandas\n",
    "import time\n",
    "import numpy as np\n",
    "from sklearn.preprocessing import FunctionTransformer, OrdinalEncoder, LabelEncoder\n",
    "from sklearn.pipeline import Pipeline, make_pipeline\n",
    "from category_encoders import TargetEncoder\n",
    "from sklearn.impute import SimpleImputer\n",
    "\n",
    "import platform\n",
    "from datetime import datetime\n",
    "from sklearn.base import TransformerMixin\n",
    "if platform.system() != 'Windows':\n",
    "    mp.set_start_method('forkserver')\n",
    "sys.path.append(os.getcwd())"
   ]
  },
  {
   "cell_type": "code",
   "execution_count": 35,
   "id": "30bc3f97",
   "metadata": {},
   "outputs": [],
   "source": [
    "pd.set_option('display.float_format', lambda x: '%.5f' % x)"
   ]
  },
  {
   "cell_type": "code",
   "execution_count": 3,
   "id": "0f49d25d",
   "metadata": {},
   "outputs": [],
   "source": [
    "model_dict = dill.load(open('/media/melgazar9/HDD_10TB/trading/objects/XGBRegressor_2022-03-17_16_28_00.pkl', 'rb'))"
   ]
  },
  {
   "cell_type": "code",
   "execution_count": 11,
   "id": "79567b61",
   "metadata": {},
   "outputs": [
    {
     "data": {
      "text/plain": [
       "dict_keys(['model', 'df_pred', 'feature_creator', 'feature_transformer', 'input_features', 'final_features', 'final_dtype_mapping', 'dropped_features', 'input_df'])"
      ]
     },
     "execution_count": 11,
     "metadata": {},
     "output_type": "execute_result"
    }
   ],
   "source": [
    "model_dict.keys()"
   ]
  },
  {
   "cell_type": "markdown",
   "id": "9980d7bf",
   "metadata": {},
   "source": [
    "### train test split"
   ]
  },
  {
   "cell_type": "code",
   "execution_count": 18,
   "id": "dfb4f3a6",
   "metadata": {},
   "outputs": [],
   "source": [
    "TARGET = 'target_20d'\n",
    "PRESERVE_VARS = ['XGBRegressor_pred', 'target_4d', 'yahoo_ticker', 'date_localized', 'dataset_split']\n",
    "ID_VARS = ['date']\n",
    "\n",
    "DROP_COLS = model_dict['dropped_features'] # [i for i in model_dict['df_pred'].columns if is_datetime(model_dict['df_pred'][i]) and i not in ID_VARS + PRESERVE_VARS]\n",
    "OBJECT_COLS = [i for i in model_dict['df_pred'].columns if model_dict['df_pred'][i].dtype == 'object' and i not in ID_VARS + PRESERVE_VARS]"
   ]
  },
  {
   "cell_type": "code",
   "execution_count": 19,
   "id": "d3e0f40e",
   "metadata": {},
   "outputs": [],
   "source": [
    "try:\n",
    "    model_dict['df_pred'].set_index(ID_VARS, inplace=True)\n",
    "except:\n",
    "    pass\n",
    "try:\n",
    "    model_dict['df_pred'].drop(DROP_COLS, axis=1, inplace=True)\n",
    "except:\n",
    "    pass"
   ]
  },
  {
   "cell_type": "code",
   "execution_count": 27,
   "id": "f42018a8",
   "metadata": {},
   "outputs": [
    {
     "data": {
      "text/plain": [
       "((936205, 813), (936205,), (201196, 813), (201196,), (204094, 813), (204094,))"
      ]
     },
     "execution_count": 27,
     "metadata": {},
     "output_type": "execute_result"
    }
   ],
   "source": [
    "X_train = model_dict['df_pred'][model_dict['df_pred']['dataset_split']=='train'][model_dict['input_features']]\n",
    "y_train = model_dict['df_pred'][model_dict['df_pred']['dataset_split']=='train'][TARGET]\n",
    "\n",
    "X_val = model_dict['df_pred'][model_dict['df_pred']['dataset_split']=='val'][model_dict['input_features']]\n",
    "y_val = model_dict['df_pred'][model_dict['df_pred']['dataset_split']=='val'][TARGET]\n",
    "\n",
    "X_test = model_dict['df_pred'][model_dict['df_pred']['dataset_split']=='test'][model_dict['input_features']]\n",
    "y_test = model_dict['df_pred'][model_dict['df_pred']['dataset_split']=='test'][TARGET]\n",
    "X_train.shape, y_train.shape, X_val.shape, y_val.shape, X_test.shape, y_test.shape"
   ]
  },
  {
   "cell_type": "code",
   "execution_count": 28,
   "id": "a236fc1f",
   "metadata": {},
   "outputs": [
    {
     "data": {
      "text/html": [
       "<div>\n",
       "<style scoped>\n",
       "    .dataframe tbody tr th:only-of-type {\n",
       "        vertical-align: middle;\n",
       "    }\n",
       "\n",
       "    .dataframe tbody tr th {\n",
       "        vertical-align: top;\n",
       "    }\n",
       "\n",
       "    .dataframe thead th {\n",
       "        text-align: right;\n",
       "    }\n",
       "</style>\n",
       "<table border=\"1\" class=\"dataframe\">\n",
       "  <thead>\n",
       "    <tr style=\"text-align: right;\">\n",
       "      <th></th>\n",
       "      <th>open_1h_2_diff</th>\n",
       "      <th>high_move_pct_1h_4</th>\n",
       "      <th>range_1h_3</th>\n",
       "      <th>low_move_pct_1h_11_ewm_mean</th>\n",
       "      <th>adj_close_1h_2_pct_change</th>\n",
       "      <th>low_1h_5_pct_change</th>\n",
       "      <th>open_1h_3_pct_change</th>\n",
       "      <th>dayofweek_pct_change</th>\n",
       "      <th>low_move_1h_7_ewm_mean</th>\n",
       "      <th>high_move_pct_change_1h_3_rolling_mean</th>\n",
       "      <th>...</th>\n",
       "      <th>high_1h_6_diff</th>\n",
       "      <th>volume_1h_4</th>\n",
       "      <th>high_minus_prev_close_1h_2</th>\n",
       "      <th>high_move_pct_1h_10</th>\n",
       "      <th>low_move_pct_change_1h_9_rolling_mean</th>\n",
       "      <th>high_move_1h_9_ewm_mean</th>\n",
       "      <th>low_move_pct_1h_6_ewm_mean</th>\n",
       "      <th>low_move_1h_1_rolling_mean</th>\n",
       "      <th>low_move_pct_1h_12_ewm_mean</th>\n",
       "      <th>move_pct_change_1h_14</th>\n",
       "    </tr>\n",
       "    <tr>\n",
       "      <th>date</th>\n",
       "      <th></th>\n",
       "      <th></th>\n",
       "      <th></th>\n",
       "      <th></th>\n",
       "      <th></th>\n",
       "      <th></th>\n",
       "      <th></th>\n",
       "      <th></th>\n",
       "      <th></th>\n",
       "      <th></th>\n",
       "      <th></th>\n",
       "      <th></th>\n",
       "      <th></th>\n",
       "      <th></th>\n",
       "      <th></th>\n",
       "      <th></th>\n",
       "      <th></th>\n",
       "      <th></th>\n",
       "      <th></th>\n",
       "      <th></th>\n",
       "      <th></th>\n",
       "    </tr>\n",
       "  </thead>\n",
       "  <tbody>\n",
       "    <tr>\n",
       "      <th>2015-02-06</th>\n",
       "      <td>NaN</td>\n",
       "      <td>NaN</td>\n",
       "      <td>NaN</td>\n",
       "      <td>NaN</td>\n",
       "      <td>NaN</td>\n",
       "      <td>NaN</td>\n",
       "      <td>NaN</td>\n",
       "      <td>0.0</td>\n",
       "      <td>NaN</td>\n",
       "      <td>NaN</td>\n",
       "      <td>...</td>\n",
       "      <td>NaN</td>\n",
       "      <td>NaN</td>\n",
       "      <td>NaN</td>\n",
       "      <td>NaN</td>\n",
       "      <td>NaN</td>\n",
       "      <td>NaN</td>\n",
       "      <td>NaN</td>\n",
       "      <td>NaN</td>\n",
       "      <td>NaN</td>\n",
       "      <td>NaN</td>\n",
       "    </tr>\n",
       "    <tr>\n",
       "      <th>2015-02-13</th>\n",
       "      <td>NaN</td>\n",
       "      <td>NaN</td>\n",
       "      <td>NaN</td>\n",
       "      <td>NaN</td>\n",
       "      <td>NaN</td>\n",
       "      <td>NaN</td>\n",
       "      <td>NaN</td>\n",
       "      <td>0.0</td>\n",
       "      <td>NaN</td>\n",
       "      <td>NaN</td>\n",
       "      <td>...</td>\n",
       "      <td>NaN</td>\n",
       "      <td>NaN</td>\n",
       "      <td>NaN</td>\n",
       "      <td>NaN</td>\n",
       "      <td>NaN</td>\n",
       "      <td>NaN</td>\n",
       "      <td>NaN</td>\n",
       "      <td>NaN</td>\n",
       "      <td>NaN</td>\n",
       "      <td>NaN</td>\n",
       "    </tr>\n",
       "    <tr>\n",
       "      <th>2015-02-27</th>\n",
       "      <td>NaN</td>\n",
       "      <td>NaN</td>\n",
       "      <td>NaN</td>\n",
       "      <td>NaN</td>\n",
       "      <td>NaN</td>\n",
       "      <td>NaN</td>\n",
       "      <td>NaN</td>\n",
       "      <td>0.0</td>\n",
       "      <td>NaN</td>\n",
       "      <td>NaN</td>\n",
       "      <td>...</td>\n",
       "      <td>NaN</td>\n",
       "      <td>NaN</td>\n",
       "      <td>NaN</td>\n",
       "      <td>NaN</td>\n",
       "      <td>NaN</td>\n",
       "      <td>NaN</td>\n",
       "      <td>NaN</td>\n",
       "      <td>NaN</td>\n",
       "      <td>NaN</td>\n",
       "      <td>NaN</td>\n",
       "    </tr>\n",
       "    <tr>\n",
       "      <th>2015-03-06</th>\n",
       "      <td>NaN</td>\n",
       "      <td>NaN</td>\n",
       "      <td>NaN</td>\n",
       "      <td>NaN</td>\n",
       "      <td>NaN</td>\n",
       "      <td>NaN</td>\n",
       "      <td>NaN</td>\n",
       "      <td>0.0</td>\n",
       "      <td>NaN</td>\n",
       "      <td>NaN</td>\n",
       "      <td>...</td>\n",
       "      <td>NaN</td>\n",
       "      <td>NaN</td>\n",
       "      <td>NaN</td>\n",
       "      <td>NaN</td>\n",
       "      <td>NaN</td>\n",
       "      <td>NaN</td>\n",
       "      <td>NaN</td>\n",
       "      <td>NaN</td>\n",
       "      <td>NaN</td>\n",
       "      <td>NaN</td>\n",
       "    </tr>\n",
       "    <tr>\n",
       "      <th>2015-03-13</th>\n",
       "      <td>NaN</td>\n",
       "      <td>NaN</td>\n",
       "      <td>NaN</td>\n",
       "      <td>NaN</td>\n",
       "      <td>NaN</td>\n",
       "      <td>NaN</td>\n",
       "      <td>NaN</td>\n",
       "      <td>0.0</td>\n",
       "      <td>NaN</td>\n",
       "      <td>NaN</td>\n",
       "      <td>...</td>\n",
       "      <td>NaN</td>\n",
       "      <td>NaN</td>\n",
       "      <td>NaN</td>\n",
       "      <td>NaN</td>\n",
       "      <td>NaN</td>\n",
       "      <td>NaN</td>\n",
       "      <td>NaN</td>\n",
       "      <td>NaN</td>\n",
       "      <td>NaN</td>\n",
       "      <td>NaN</td>\n",
       "    </tr>\n",
       "  </tbody>\n",
       "</table>\n",
       "<p>5 rows × 813 columns</p>\n",
       "</div>"
      ],
      "text/plain": [
       "            open_1h_2_diff  high_move_pct_1h_4  range_1h_3  \\\n",
       "date                                                         \n",
       "2015-02-06             NaN                 NaN         NaN   \n",
       "2015-02-13             NaN                 NaN         NaN   \n",
       "2015-02-27             NaN                 NaN         NaN   \n",
       "2015-03-06             NaN                 NaN         NaN   \n",
       "2015-03-13             NaN                 NaN         NaN   \n",
       "\n",
       "            low_move_pct_1h_11_ewm_mean  adj_close_1h_2_pct_change  \\\n",
       "date                                                                 \n",
       "2015-02-06                          NaN                        NaN   \n",
       "2015-02-13                          NaN                        NaN   \n",
       "2015-02-27                          NaN                        NaN   \n",
       "2015-03-06                          NaN                        NaN   \n",
       "2015-03-13                          NaN                        NaN   \n",
       "\n",
       "            low_1h_5_pct_change  open_1h_3_pct_change  dayofweek_pct_change  \\\n",
       "date                                                                          \n",
       "2015-02-06                  NaN                   NaN                   0.0   \n",
       "2015-02-13                  NaN                   NaN                   0.0   \n",
       "2015-02-27                  NaN                   NaN                   0.0   \n",
       "2015-03-06                  NaN                   NaN                   0.0   \n",
       "2015-03-13                  NaN                   NaN                   0.0   \n",
       "\n",
       "            low_move_1h_7_ewm_mean  high_move_pct_change_1h_3_rolling_mean  \\\n",
       "date                                                                         \n",
       "2015-02-06                     NaN                                     NaN   \n",
       "2015-02-13                     NaN                                     NaN   \n",
       "2015-02-27                     NaN                                     NaN   \n",
       "2015-03-06                     NaN                                     NaN   \n",
       "2015-03-13                     NaN                                     NaN   \n",
       "\n",
       "            ...  high_1h_6_diff  volume_1h_4 high_minus_prev_close_1h_2  \\\n",
       "date        ...                                                           \n",
       "2015-02-06  ...             NaN          NaN                        NaN   \n",
       "2015-02-13  ...             NaN          NaN                        NaN   \n",
       "2015-02-27  ...             NaN          NaN                        NaN   \n",
       "2015-03-06  ...             NaN          NaN                        NaN   \n",
       "2015-03-13  ...             NaN          NaN                        NaN   \n",
       "\n",
       "            high_move_pct_1h_10  low_move_pct_change_1h_9_rolling_mean  \\\n",
       "date                                                                     \n",
       "2015-02-06                  NaN                                    NaN   \n",
       "2015-02-13                  NaN                                    NaN   \n",
       "2015-02-27                  NaN                                    NaN   \n",
       "2015-03-06                  NaN                                    NaN   \n",
       "2015-03-13                  NaN                                    NaN   \n",
       "\n",
       "            high_move_1h_9_ewm_mean  low_move_pct_1h_6_ewm_mean  \\\n",
       "date                                                              \n",
       "2015-02-06                      NaN                         NaN   \n",
       "2015-02-13                      NaN                         NaN   \n",
       "2015-02-27                      NaN                         NaN   \n",
       "2015-03-06                      NaN                         NaN   \n",
       "2015-03-13                      NaN                         NaN   \n",
       "\n",
       "            low_move_1h_1_rolling_mean  low_move_pct_1h_12_ewm_mean  \\\n",
       "date                                                                  \n",
       "2015-02-06                         NaN                          NaN   \n",
       "2015-02-13                         NaN                          NaN   \n",
       "2015-02-27                         NaN                          NaN   \n",
       "2015-03-06                         NaN                          NaN   \n",
       "2015-03-13                         NaN                          NaN   \n",
       "\n",
       "            move_pct_change_1h_14  \n",
       "date                               \n",
       "2015-02-06                    NaN  \n",
       "2015-02-13                    NaN  \n",
       "2015-02-27                    NaN  \n",
       "2015-03-06                    NaN  \n",
       "2015-03-13                    NaN  \n",
       "\n",
       "[5 rows x 813 columns]"
      ]
     },
     "execution_count": 28,
     "metadata": {},
     "output_type": "execute_result"
    }
   ],
   "source": [
    "X_train.head()"
   ]
  },
  {
   "cell_type": "code",
   "execution_count": 42,
   "id": "c15cb257",
   "metadata": {},
   "outputs": [
    {
     "name": "stderr",
     "output_type": "stream",
     "text": [
      "/home/melgazar9/scripts/github/trading/venv/lib/python3.9/site-packages/sklearn/preprocessing/_encoders.py:170: UserWarning: Found unknown categories in columns [0, 1, 6, 10, 12, 14, 16, 17, 18, 19, 20, 21, 22, 23, 24, 25, 26, 27, 29, 30, 31, 34, 35, 36, 38, 40, 43, 44, 45, 46] during transform. These unknown categories will be encoded as all zeros\n",
      "  warnings.warn(\n",
      "/home/melgazar9/scripts/github/trading/venv/lib/python3.9/site-packages/sklearn/preprocessing/_encoders.py:170: UserWarning: Found unknown categories in columns [0, 1, 6, 10, 12, 14, 16, 17, 18, 19, 20, 21, 22, 23, 24, 25, 26, 27, 29, 30, 31, 34, 35, 36, 38, 40, 43, 44, 45, 46] during transform. These unknown categories will be encoded as all zeros\n",
      "  warnings.warn(\n"
     ]
    }
   ],
   "source": [
    "X_train_transformed = pd.DataFrame(model_dict['feature_transformer'].transform(X_train), columns=model_dict['final_features'])\n",
    "X_val_transformed = pd.DataFrame(model_dict['feature_transformer'].transform(X_val), columns=model_dict['final_features'])\n",
    "X_test_transformed = pd.DataFrame(model_dict['feature_transformer'].transform(X_test), columns=model_dict['final_features'])"
   ]
  },
  {
   "cell_type": "markdown",
   "id": "7b53414a",
   "metadata": {},
   "source": [
    "### Original XGBRegressor score"
   ]
  },
  {
   "cell_type": "code",
   "execution_count": 30,
   "id": "41125d0c",
   "metadata": {},
   "outputs": [
    {
     "name": "stdout",
     "output_type": "stream",
     "text": [
      "\n",
      "Train xgboost RMSE: 0.21952151803234238\n",
      "\n",
      "Train xgboost RMSE: 0.21672828832361798\n",
      "\n",
      "Train xgboost RMSE: 0.21214639522304019\n",
      "\n"
     ]
    }
   ],
   "source": [
    "print('\\nTrain xgboost RMSE: {}\\n'.format(\n",
    "    np.sqrt(mean_squared_error(model_dict['df_pred'][model_dict['df_pred']['dataset_split']=='train']['XGBRegressor_pred'],\n",
    "                       model_dict['df_pred'][model_dict['df_pred']['dataset_split']=='train']['target_20d']))))\n",
    "\n",
    "print('Train xgboost RMSE: {}\\n'.format(\n",
    "    np.sqrt(mean_squared_error(model_dict['df_pred'][model_dict['df_pred']['dataset_split']=='val']['XGBRegressor_pred'],\n",
    "                       model_dict['df_pred'][model_dict['df_pred']['dataset_split']=='val']['target_20d']))))\n",
    "\n",
    "print('Train xgboost RMSE: {}\\n'.format(\n",
    "    np.sqrt(mean_squared_error(model_dict['df_pred'][model_dict['df_pred']['dataset_split']=='test']['XGBRegressor_pred'],\n",
    "                       model_dict['df_pred'][model_dict['df_pred']['dataset_split']=='test']['target_20d']))))\n"
   ]
  },
  {
   "cell_type": "code",
   "execution_count": 43,
   "id": "81bc3ab2",
   "metadata": {},
   "outputs": [
    {
     "data": {
      "text/html": [
       "<div>\n",
       "<style scoped>\n",
       "    .dataframe tbody tr th:only-of-type {\n",
       "        vertical-align: middle;\n",
       "    }\n",
       "\n",
       "    .dataframe tbody tr th {\n",
       "        vertical-align: top;\n",
       "    }\n",
       "\n",
       "    .dataframe thead th {\n",
       "        text-align: right;\n",
       "    }\n",
       "</style>\n",
       "<table border=\"1\" class=\"dataframe\">\n",
       "  <thead>\n",
       "    <tr style=\"text-align: right;\">\n",
       "      <th></th>\n",
       "      <th>XGBRegressor_pred</th>\n",
       "    </tr>\n",
       "  </thead>\n",
       "  <tbody>\n",
       "    <tr>\n",
       "      <th>count</th>\n",
       "      <td>1341495.00000</td>\n",
       "    </tr>\n",
       "    <tr>\n",
       "      <th>mean</th>\n",
       "      <td>0.50458</td>\n",
       "    </tr>\n",
       "    <tr>\n",
       "      <th>std</th>\n",
       "      <td>0.03052</td>\n",
       "    </tr>\n",
       "    <tr>\n",
       "      <th>min</th>\n",
       "      <td>0.19821</td>\n",
       "    </tr>\n",
       "    <tr>\n",
       "      <th>25%</th>\n",
       "      <td>0.48830</td>\n",
       "    </tr>\n",
       "    <tr>\n",
       "      <th>50%</th>\n",
       "      <td>0.50438</td>\n",
       "    </tr>\n",
       "    <tr>\n",
       "      <th>75%</th>\n",
       "      <td>0.52005</td>\n",
       "    </tr>\n",
       "    <tr>\n",
       "      <th>max</th>\n",
       "      <td>0.82168</td>\n",
       "    </tr>\n",
       "  </tbody>\n",
       "</table>\n",
       "</div>"
      ],
      "text/plain": [
       "       XGBRegressor_pred\n",
       "count      1341495.00000\n",
       "mean             0.50458\n",
       "std              0.03052\n",
       "min              0.19821\n",
       "25%              0.48830\n",
       "50%              0.50438\n",
       "75%              0.52005\n",
       "max              0.82168"
      ]
     },
     "execution_count": 43,
     "metadata": {},
     "output_type": "execute_result"
    }
   ],
   "source": [
    "model_dict['df_pred'][['XGBRegressor_pred']].describe()"
   ]
  },
  {
   "cell_type": "code",
   "execution_count": 44,
   "id": "f5483ab3",
   "metadata": {},
   "outputs": [
    {
     "data": {
      "text/plain": [
       "<AxesSubplot:ylabel='Frequency'>"
      ]
     },
     "execution_count": 44,
     "metadata": {},
     "output_type": "execute_result"
    },
    {
     "data": {
      "image/png": "[encoded data removed]",
      "text/plain": [
       "<Figure size 432x288 with 1 Axes>"
      ]
     },
     "metadata": {
      "needs_background": "light"
     },
     "output_type": "display_data"
    }
   ],
   "source": [
    "model_dict['df_pred']['XGBRegressor_pred'].plot(kind='hist', bins=30)"
   ]
  },
  {
   "cell_type": "code",
   "execution_count": 59,
   "id": "4677460f",
   "metadata": {},
   "outputs": [
    {
     "data": {
      "text/plain": [
       "<AxesSubplot:ylabel='Frequency'>"
      ]
     },
     "execution_count": 59,
     "metadata": {},
     "output_type": "execute_result"
    },
    {
     "data": {
      "image/png": "[encoded data removed]",
      "text/plain": [
       "<Figure size 432x288 with 1 Axes>"
      ]
     },
     "metadata": {
      "needs_background": "light"
     },
     "output_type": "display_data"
    }
   ],
   "source": [
    "y_train.plot(kind='hist', bins=5)"
   ]
  },
  {
   "cell_type": "markdown",
   "id": "c50e710a",
   "metadata": {},
   "source": [
    "### Train TPOT model"
   ]
  },
  {
   "cell_type": "code",
   "execution_count": 45,
   "id": "0ba618fe",
   "metadata": {},
   "outputs": [
    {
     "data": {
      "text/plain": [
       "Series([], dtype: int64)"
      ]
     },
     "execution_count": 45,
     "metadata": {},
     "output_type": "execute_result"
    }
   ],
   "source": [
    "X_train_transformed.isnull().sum()[X_train_transformed.isnull().sum() > 0]"
   ]
  },
  {
   "cell_type": "code",
   "execution_count": 46,
   "id": "aff26162",
   "metadata": {},
   "outputs": [
    {
     "data": {
      "text/plain": [
       "0"
      ]
     },
     "execution_count": 46,
     "metadata": {},
     "output_type": "execute_result"
    }
   ],
   "source": [
    "y_train.isnull().sum()"
   ]
  },
  {
   "cell_type": "code",
   "execution_count": null,
   "id": "1fe90883",
   "metadata": {},
   "outputs": [],
   "source": [
    "tpot_model = TPOTRegressor(generations=2,\n",
    "                           population_size=2,\n",
    "#                            offspring_size=None,\n",
    "                           mutation_rate=0.9,\n",
    "#                            scoring='neg_mean_squared_error',\n",
    "                           cv=3,\n",
    "                           subsample=0.8,\n",
    "                           n_jobs=16,\n",
    "                           random_state=0,\n",
    "                           use_dask=False,\n",
    "                           early_stop=5,\n",
    "                           config_dict='TPOT light')\n",
    "tpot_model.fit(X_train_transformed, y_train)"
   ]
  },
  {
   "cell_type": "code",
   "execution_count": null,
   "id": "74bf69eb",
   "metadata": {},
   "outputs": [],
   "source": [
    "tpot_model.export('/media/melgazar9/HDD_10TB/trading/objects/tpot_exported_pipeline_{}.py'.format(str(datetime.today().date())))"
   ]
  },
  {
   "cell_type": "markdown",
   "id": "a7f303eb",
   "metadata": {},
   "source": [
    "### Below is slightly modified code generated by the exported tpot model"
   ]
  },
  {
   "cell_type": "code",
   "execution_count": null,
   "id": "bab84711",
   "metadata": {},
   "outputs": [],
   "source": [
    "import numpy as np\n",
    "import pandas as pd\n",
    "from sklearn.ensemble import AdaBoostRegressor\n",
    "from sklearn.model_selection import train_test_split\n",
    "from sklearn.pipeline import make_pipeline, make_union\n",
    "from tpot.builtins import StackingEstimator\n",
    "from xgboost import XGBRegressor\n",
    "from sklearn.impute import SimpleImputer\n",
    "from tpot.export_utils import set_param_recursive"
   ]
  },
  {
   "cell_type": "code",
   "execution_count": null,
   "id": "d35d552f",
   "metadata": {},
   "outputs": [],
   "source": [
    "imputer = SimpleImputer(strategy=\"median\").fit(X_train_transformed.tail(100))"
   ]
  },
  {
   "cell_type": "code",
   "execution_count": null,
   "id": "ba582b23",
   "metadata": {},
   "outputs": [],
   "source": [
    "X_train_transformed_tpot = imputer.transform(X_train_transformed.tail(100))\n",
    "X_val_transformed_tpot = imputer.transform(X_val_transformed.tail(100))\n",
    "X_test_transformed_tpot = imputer.transform(X_test_transformed.tail(100))"
   ]
  },
  {
   "cell_type": "code",
   "execution_count": null,
   "id": "7bdff7be",
   "metadata": {},
   "outputs": [],
   "source": [
    "exported_pipeline = make_pipeline(\n",
    "    StackingEstimator(estimator=AdaBoostRegressor(learning_rate=0.01, loss=\"square\", n_estimators=100)),\n",
    "    XGBRegressor(learning_rate=0.1, max_depth=5, min_child_weight=7, n_estimators=100, n_jobs=1, objective=\"reg:squarederror\", subsample=0.6500000000000001, verbosity=0)\n",
    ")"
   ]
  },
  {
   "cell_type": "code",
   "execution_count": null,
   "id": "0b80dcc4",
   "metadata": {},
   "outputs": [],
   "source": [
    "# Fix random state for all the steps in exported pipeline\n",
    "set_param_recursive(exported_pipeline.steps, 'random_state', 0)\n",
    "exported_pipeline.fit(X_train_transformed_tpot, y_train.tail(100))\n",
    "\n",
    "y_pred_train = exported_pipeline.predict(X_train_transformed_tpot)\n",
    "y_pred_val = exported_pipeline.predict(X_val_transformed_tpot)\n",
    "y_pred_test = exported_pipeline.predict(X_test_transformed_tpot)"
   ]
  },
  {
   "cell_type": "markdown",
   "id": "55165965",
   "metadata": {},
   "source": [
    "### TPOT Metrics"
   ]
  },
  {
   "cell_type": "code",
   "execution_count": null,
   "id": "6ac64c42",
   "metadata": {},
   "outputs": [],
   "source": [
    "print('\\nTrain xgboost RMSE: {}\\n'.format(\n",
    "    np.sqrt(mean_squared_error(model_dict['df_pred'][model_dict['df_pred']['dataset_split']=='train']['XGBRegressor_pred'],\n",
    "                       model_dict['df_pred'][model_dict['df_pred']['dataset_split']=='train']['target_20d']))))\n",
    "\n",
    "print('Train xgboost RMSE: {}\\n'.format(\n",
    "    np.sqrt(mean_squared_error(model_dict['df_pred'][model_dict['df_pred']['dataset_split']=='val']['XGBRegressor_pred'],\n",
    "                       model_dict['df_pred'][model_dict['df_pred']['dataset_split']=='val']['target_20d']))))\n",
    "\n",
    "print('Train xgboost RMSE: {}\\n'.format(\n",
    "    np.sqrt(mean_squared_error(model_dict['df_pred'][model_dict['df_pred']['dataset_split']=='test']['XGBRegressor_pred'],\n",
    "                       model_dict['df_pred'][model_dict['df_pred']['dataset_split']=='test']['target_20d']))))\n"
   ]
  },
  {
   "cell_type": "code",
   "execution_count": null,
   "id": "dd9ff211",
   "metadata": {},
   "outputs": [],
   "source": []
  }
 ],
 "metadata": {
  "kernelspec": {
   "display_name": "Python 3 (ipykernel)",
   "language": "python",
   "name": "python3"
  },
  "language_info": {
   "codemirror_mode": {
    "name": "ipython",
    "version": 3
   },
   "file_extension": ".py",
   "mimetype": "text/x-python",
   "name": "python",
   "nbconvert_exporter": "python",
   "pygments_lexer": "ipython3",
   "version": "3.9.10"
  }
 },
 "nbformat": 4,
 "nbformat_minor": 5
}

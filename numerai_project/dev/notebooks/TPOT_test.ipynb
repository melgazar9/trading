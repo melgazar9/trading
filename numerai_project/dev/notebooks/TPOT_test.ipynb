{
 "cells": [
  {
   "cell_type": "code",
   "execution_count": 1,
   "id": "069bcc6c",
   "metadata": {},
   "outputs": [],
   "source": [
    "from tpot import TPOTClassifier, TPOTRegressor\n",
    "import dill\n",
    "import pandas as pd\n",
    "\n",
    "from configparser import ConfigParser\n",
    "import numerapi\n",
    "import os\n",
    "import sys\n",
    "if not os.getcwd().endswith('trading'): os.chdir('../../../../trading') # local machine\n",
    "assert os.getcwd().endswith('trading'), 'Wrong path!'\n",
    "from pandas.api.types import is_datetime64_any_dtype as is_datetime\n",
    "from collections import Counter\n",
    "from skimpy import clean_columns\n",
    "\n",
    "import multiprocessing as mp\n",
    "from sklearn.metrics import mean_squared_error\n",
    "from pandarallel import pandarallel # parallel pandas\n",
    "import time\n",
    "import numpy as np\n",
    "from sklearn.preprocessing import FunctionTransformer, OrdinalEncoder, LabelEncoder\n",
    "from sklearn.pipeline import Pipeline, make_pipeline\n",
    "from category_encoders import TargetEncoder\n",
    "from sklearn.impute import SimpleImputer\n",
    "\n",
    "import platform\n",
    "from datetime import datetime\n",
    "from sklearn.base import TransformerMixin\n",
    "if platform.system() != 'Windows':\n",
    "    mp.set_start_method('forkserver')\n",
    "sys.path.append(os.getcwd())"
   ]
  },
  {
   "cell_type": "code",
   "execution_count": 3,
   "id": "0f49d25d",
   "metadata": {},
   "outputs": [],
   "source": [
    "model_dict = dill.load(open('/media/melgazar9/HDD_10TB/trading/objects/XGBRegressor_2022-03-17_16_28_00.pkl', 'rb'))"
   ]
  },
  {
   "cell_type": "code",
   "execution_count": 11,
   "id": "876d2bd6",
   "metadata": {},
   "outputs": [
    {
     "data": {
      "text/plain": [
       "dict_keys(['model', 'df_pred', 'feature_creator', 'feature_transformer', 'input_features', 'final_features', 'final_dtype_mapping', 'dropped_features', 'input_df'])"
      ]
     },
     "execution_count": 11,
     "metadata": {},
     "output_type": "execute_result"
    }
   ],
   "source": [
    "model_dict.keys()"
   ]
  },
  {
   "cell_type": "markdown",
   "id": "9980d7bf",
   "metadata": {},
   "source": [
    "### train test split"
   ]
  },
  {
   "cell_type": "code",
   "execution_count": 18,
   "id": "dfb4f3a6",
   "metadata": {},
   "outputs": [],
   "source": [
    "TARGET = 'target_20d'\n",
    "PRESERVE_VARS = ['XGBRegressor_pred', 'target_4d', 'yahoo_ticker', 'date_localized', 'dataset_split']\n",
    "ID_VARS = ['date']\n",
    "\n",
    "DROP_COLS = model_dict['dropped_features'] # [i for i in model_dict['df_pred'].columns if is_datetime(model_dict['df_pred'][i]) and i not in ID_VARS + PRESERVE_VARS]\n",
    "OBJECT_COLS = [i for i in model_dict['df_pred'].columns if model_dict['df_pred'][i].dtype == 'object' and i not in ID_VARS + PRESERVE_VARS]"
   ]
  },
  {
   "cell_type": "code",
   "execution_count": 19,
   "id": "d3e0f40e",
   "metadata": {},
   "outputs": [],
   "source": [
    "try:\n",
    "    model_dict['df_pred'].set_index(ID_VARS, inplace=True)\n",
    "except:\n",
    "    pass\n",
    "try:\n",
    "    model_dict['df_pred'].drop(DROP_COLS, axis=1, inplace=True)\n",
    "except:\n",
    "    pass"
   ]
  },
  {
   "cell_type": "code",
   "execution_count": 20,
   "id": "f42018a8",
   "metadata": {},
   "outputs": [
    {
     "ename": "KeyError",
     "evalue": "'dataset_split'",
     "output_type": "error",
     "traceback": [
      "\u001b[0;31m---------------------------------------------------------------------------\u001b[0m",
      "\u001b[0;31mKeyError\u001b[0m                                  Traceback (most recent call last)",
      "File \u001b[0;32m~/scripts/github/trading/venv/lib/python3.9/site-packages/pandas/core/indexes/base.py:3621\u001b[0m, in \u001b[0;36mIndex.get_loc\u001b[0;34m(self, key, method, tolerance)\u001b[0m\n\u001b[1;32m   3620\u001b[0m \u001b[38;5;28;01mtry\u001b[39;00m:\n\u001b[0;32m-> 3621\u001b[0m     \u001b[38;5;28;01mreturn\u001b[39;00m \u001b[38;5;28;43mself\u001b[39;49m\u001b[38;5;241;43m.\u001b[39;49m\u001b[43m_engine\u001b[49m\u001b[38;5;241;43m.\u001b[39;49m\u001b[43mget_loc\u001b[49m\u001b[43m(\u001b[49m\u001b[43mcasted_key\u001b[49m\u001b[43m)\u001b[49m\n\u001b[1;32m   3622\u001b[0m \u001b[38;5;28;01mexcept\u001b[39;00m \u001b[38;5;167;01mKeyError\u001b[39;00m \u001b[38;5;28;01mas\u001b[39;00m err:\n",
      "File \u001b[0;32m~/scripts/github/trading/venv/lib/python3.9/site-packages/pandas/_libs/index.pyx:136\u001b[0m, in \u001b[0;36mpandas._libs.index.IndexEngine.get_loc\u001b[0;34m()\u001b[0m\n",
      "File \u001b[0;32m~/scripts/github/trading/venv/lib/python3.9/site-packages/pandas/_libs/index.pyx:163\u001b[0m, in \u001b[0;36mpandas._libs.index.IndexEngine.get_loc\u001b[0;34m()\u001b[0m\n",
      "File \u001b[0;32mpandas/_libs/hashtable_class_helper.pxi:5198\u001b[0m, in \u001b[0;36mpandas._libs.hashtable.PyObjectHashTable.get_item\u001b[0;34m()\u001b[0m\n",
      "File \u001b[0;32mpandas/_libs/hashtable_class_helper.pxi:5206\u001b[0m, in \u001b[0;36mpandas._libs.hashtable.PyObjectHashTable.get_item\u001b[0;34m()\u001b[0m\n",
      "\u001b[0;31mKeyError\u001b[0m: 'dataset_split'",
      "\nThe above exception was the direct cause of the following exception:\n",
      "\u001b[0;31mKeyError\u001b[0m                                  Traceback (most recent call last)",
      "Input \u001b[0;32mIn [20]\u001b[0m, in \u001b[0;36m<cell line: 1>\u001b[0;34m()\u001b[0m\n\u001b[0;32m----> 1\u001b[0m X_train \u001b[38;5;241m=\u001b[39m model_dict[\u001b[38;5;124m'\u001b[39m\u001b[38;5;124minput_df\u001b[39m\u001b[38;5;124m'\u001b[39m][\u001b[43mmodel_dict\u001b[49m\u001b[43m[\u001b[49m\u001b[38;5;124;43m'\u001b[39;49m\u001b[38;5;124;43minput_df\u001b[39;49m\u001b[38;5;124;43m'\u001b[39;49m\u001b[43m]\u001b[49m\u001b[43m[\u001b[49m\u001b[38;5;124;43m'\u001b[39;49m\u001b[38;5;124;43mdataset_split\u001b[39;49m\u001b[38;5;124;43m'\u001b[39;49m\u001b[43m]\u001b[49m\u001b[38;5;241m==\u001b[39m\u001b[38;5;124m'\u001b[39m\u001b[38;5;124mtrain\u001b[39m\u001b[38;5;124m'\u001b[39m][model_dict[\u001b[38;5;124m'\u001b[39m\u001b[38;5;124minput_features\u001b[39m\u001b[38;5;124m'\u001b[39m]]\n\u001b[1;32m      2\u001b[0m y_train \u001b[38;5;241m=\u001b[39m model_dict[\u001b[38;5;124m'\u001b[39m\u001b[38;5;124minput_df\u001b[39m\u001b[38;5;124m'\u001b[39m][model_dict[\u001b[38;5;124m'\u001b[39m\u001b[38;5;124minput_df\u001b[39m\u001b[38;5;124m'\u001b[39m][\u001b[38;5;124m'\u001b[39m\u001b[38;5;124mdataset_split\u001b[39m\u001b[38;5;124m'\u001b[39m]\u001b[38;5;241m==\u001b[39m\u001b[38;5;124m'\u001b[39m\u001b[38;5;124mtrain\u001b[39m\u001b[38;5;124m'\u001b[39m][TARGET]\n\u001b[1;32m      4\u001b[0m X_val \u001b[38;5;241m=\u001b[39m model_dict[\u001b[38;5;124m'\u001b[39m\u001b[38;5;124minput_df\u001b[39m\u001b[38;5;124m'\u001b[39m][model_dict[\u001b[38;5;124m'\u001b[39m\u001b[38;5;124minput_df\u001b[39m\u001b[38;5;124m'\u001b[39m][\u001b[38;5;124m'\u001b[39m\u001b[38;5;124mdataset_split\u001b[39m\u001b[38;5;124m'\u001b[39m]\u001b[38;5;241m==\u001b[39m\u001b[38;5;124m'\u001b[39m\u001b[38;5;124mval\u001b[39m\u001b[38;5;124m'\u001b[39m][model_dict[\u001b[38;5;124m'\u001b[39m\u001b[38;5;124minput_features\u001b[39m\u001b[38;5;124m'\u001b[39m]]\n",
      "File \u001b[0;32m~/scripts/github/trading/venv/lib/python3.9/site-packages/pandas/core/frame.py:3505\u001b[0m, in \u001b[0;36mDataFrame.__getitem__\u001b[0;34m(self, key)\u001b[0m\n\u001b[1;32m   3503\u001b[0m \u001b[38;5;28;01mif\u001b[39;00m \u001b[38;5;28mself\u001b[39m\u001b[38;5;241m.\u001b[39mcolumns\u001b[38;5;241m.\u001b[39mnlevels \u001b[38;5;241m>\u001b[39m \u001b[38;5;241m1\u001b[39m:\n\u001b[1;32m   3504\u001b[0m     \u001b[38;5;28;01mreturn\u001b[39;00m \u001b[38;5;28mself\u001b[39m\u001b[38;5;241m.\u001b[39m_getitem_multilevel(key)\n\u001b[0;32m-> 3505\u001b[0m indexer \u001b[38;5;241m=\u001b[39m \u001b[38;5;28;43mself\u001b[39;49m\u001b[38;5;241;43m.\u001b[39;49m\u001b[43mcolumns\u001b[49m\u001b[38;5;241;43m.\u001b[39;49m\u001b[43mget_loc\u001b[49m\u001b[43m(\u001b[49m\u001b[43mkey\u001b[49m\u001b[43m)\u001b[49m\n\u001b[1;32m   3506\u001b[0m \u001b[38;5;28;01mif\u001b[39;00m is_integer(indexer):\n\u001b[1;32m   3507\u001b[0m     indexer \u001b[38;5;241m=\u001b[39m [indexer]\n",
      "File \u001b[0;32m~/scripts/github/trading/venv/lib/python3.9/site-packages/pandas/core/indexes/base.py:3623\u001b[0m, in \u001b[0;36mIndex.get_loc\u001b[0;34m(self, key, method, tolerance)\u001b[0m\n\u001b[1;32m   3621\u001b[0m     \u001b[38;5;28;01mreturn\u001b[39;00m \u001b[38;5;28mself\u001b[39m\u001b[38;5;241m.\u001b[39m_engine\u001b[38;5;241m.\u001b[39mget_loc(casted_key)\n\u001b[1;32m   3622\u001b[0m \u001b[38;5;28;01mexcept\u001b[39;00m \u001b[38;5;167;01mKeyError\u001b[39;00m \u001b[38;5;28;01mas\u001b[39;00m err:\n\u001b[0;32m-> 3623\u001b[0m     \u001b[38;5;28;01mraise\u001b[39;00m \u001b[38;5;167;01mKeyError\u001b[39;00m(key) \u001b[38;5;28;01mfrom\u001b[39;00m \u001b[38;5;21;01merr\u001b[39;00m\n\u001b[1;32m   3624\u001b[0m \u001b[38;5;28;01mexcept\u001b[39;00m \u001b[38;5;167;01mTypeError\u001b[39;00m:\n\u001b[1;32m   3625\u001b[0m     \u001b[38;5;66;03m# If we have a listlike key, _check_indexing_error will raise\u001b[39;00m\n\u001b[1;32m   3626\u001b[0m     \u001b[38;5;66;03m#  InvalidIndexError. Otherwise we fall through and re-raise\u001b[39;00m\n\u001b[1;32m   3627\u001b[0m     \u001b[38;5;66;03m#  the TypeError.\u001b[39;00m\n\u001b[1;32m   3628\u001b[0m     \u001b[38;5;28mself\u001b[39m\u001b[38;5;241m.\u001b[39m_check_indexing_error(key)\n",
      "\u001b[0;31mKeyError\u001b[0m: 'dataset_split'"
     ]
    }
   ],
   "source": [
    "X_train = model_dict['df_pred'][model_dict['df_pred']['dataset_split']=='train'][model_dict['input_features']]\n",
    "y_train = model_dict['df_pred'][model_dict['df_pred']['dataset_split']=='train'][TARGET]\n",
    "\n",
    "X_val = model_dict['df_pred'][model_dict['df_pred']['dataset_split']=='val'][model_dict['input_features']]\n",
    "y_val = model_dict['df_pred'][model_dict['df_pred']['dataset_split']=='val'][TARGET]\n",
    "\n",
    "X_test = model_dict['df_pred'][model_dict['df_pred']['dataset_split']=='test'][model_dict['input_features']]\n",
    "y_test = model_dict['df_pred'][model_dict['df_pred']['dataset_split']=='test'][TARGET]\n",
    "X_train.shape, y_train.shape, X_val.shape, y_val.shape, X_test.shape, y_test.shape"
   ]
  },
  {
   "cell_type": "code",
   "execution_count": null,
   "id": "a236fc1f",
   "metadata": {},
   "outputs": [],
   "source": [
    "X_train.head()"
   ]
  },
  {
   "cell_type": "code",
   "execution_count": 9,
   "id": "c15cb257",
   "metadata": {},
   "outputs": [
    {
     "name": "stderr",
     "output_type": "stream",
     "text": [
      "/home/melgazar9/scripts/github/trading/venv/lib/python3.9/site-packages/sklearn/preprocessing/_encoders.py:170: UserWarning: Found unknown categories in columns [1, 4, 6, 7, 8, 9, 10, 11, 16, 19, 21, 22, 23, 24, 25, 26, 27, 28, 30, 32, 34, 35, 36, 37, 38, 40, 41, 44, 45, 46] during transform. These unknown categories will be encoded as all zeros\n",
      "  warnings.warn(\n",
      "/home/melgazar9/scripts/github/trading/venv/lib/python3.9/site-packages/sklearn/preprocessing/_encoders.py:170: UserWarning: Found unknown categories in columns [1, 4, 6, 7, 8, 9, 10, 11, 16, 19, 21, 22, 23, 24, 25, 26, 27, 28, 30, 32, 34, 35, 36, 37, 38, 40, 41, 44, 45, 46] during transform. These unknown categories will be encoded as all zeros\n",
      "  warnings.warn(\n"
     ]
    }
   ],
   "source": [
    "X_train_transformed = pd.DataFrame(model_dict['feature_transformer'].transform(X_train), columns=model_dict['final_features'])\n",
    "X_val_transformed = pd.DataFrame(model_dict['feature_transformer'].transform(X_val), columns=model_dict['final_features'])\n",
    "X_test_transformed = pd.DataFrame(model_dict['feature_transformer'].transform(X_test), columns=model_dict['final_features'])"
   ]
  },
  {
   "cell_type": "markdown",
   "id": "7b53414a",
   "metadata": {},
   "source": [
    "### Original XGBRegressor score"
   ]
  },
  {
   "cell_type": "code",
   "execution_count": 10,
   "id": "41125d0c",
   "metadata": {},
   "outputs": [
    {
     "name": "stdout",
     "output_type": "stream",
     "text": [
      "\n",
      "Train xgboost RMSE: 0.21775636044626057\n",
      "\n",
      "Train xgboost RMSE: 0.21478515074959081\n",
      "\n",
      "Train xgboost RMSE: 0.210123192139244\n",
      "\n"
     ]
    }
   ],
   "source": [
    "print('\\nTrain xgboost RMSE: {}\\n'.format(\n",
    "    np.sqrt(mean_squared_error(model_dict['df_pred'][model_dict['df_pred']['dataset_split']=='train']['XGBRegressor_pred'],\n",
    "                       model_dict['df_pred'][model_dict['df_pred']['dataset_split']=='train']['target_20d']))))\n",
    "\n",
    "print('Train xgboost RMSE: {}\\n'.format(\n",
    "    np.sqrt(mean_squared_error(model_dict['df_pred'][model_dict['df_pred']['dataset_split']=='val']['XGBRegressor_pred'],\n",
    "                       model_dict['df_pred'][model_dict['df_pred']['dataset_split']=='val']['target_20d']))))\n",
    "\n",
    "print('Train xgboost RMSE: {}\\n'.format(\n",
    "    np.sqrt(mean_squared_error(model_dict['df_pred'][model_dict['df_pred']['dataset_split']=='test']['XGBRegressor_pred'],\n",
    "                       model_dict['df_pred'][model_dict['df_pred']['dataset_split']=='test']['target_20d']))))\n"
   ]
  },
  {
   "cell_type": "code",
   "execution_count": 11,
   "id": "f5483ab3",
   "metadata": {},
   "outputs": [
    {
     "data": {
      "text/plain": [
       "<AxesSubplot:ylabel='Frequency'>"
      ]
     },
     "execution_count": 11,
     "metadata": {},
     "output_type": "execute_result"
    },
    {
     "data": {
      "image/png": "[encoded data removed]",
      "text/plain": [
       "<Figure size 432x288 with 1 Axes>"
      ]
     },
     "metadata": {
      "needs_background": "light"
     },
     "output_type": "display_data"
    }
   ],
   "source": [
    "model_dict['df_pred']['XGBRegressor_pred'].plot(kind='hist')"
   ]
  },
  {
   "cell_type": "markdown",
   "id": "c50e710a",
   "metadata": {},
   "source": [
    "### Train TPOT model"
   ]
  },
  {
   "cell_type": "code",
   "execution_count": 12,
   "id": "0ba618fe",
   "metadata": {},
   "outputs": [
    {
     "data": {
      "text/plain": [
       "yahoo_ticker    936205\n",
       "dtype: int64"
      ]
     },
     "execution_count": 12,
     "metadata": {},
     "output_type": "execute_result"
    }
   ],
   "source": [
    "X_train_transformed.isnull().sum()[X_train_transformed.isnull().sum() > 0]"
   ]
  },
  {
   "cell_type": "code",
   "execution_count": 13,
   "id": "aff26162",
   "metadata": {},
   "outputs": [
    {
     "data": {
      "text/plain": [
       "0"
      ]
     },
     "execution_count": 13,
     "metadata": {},
     "output_type": "execute_result"
    }
   ],
   "source": [
    "y_train.isnull().sum()"
   ]
  },
  {
   "cell_type": "code",
   "execution_count": 17,
   "id": "074bbbf0",
   "metadata": {},
   "outputs": [],
   "source": [
    "X_train_transformed.drop('yahoo_ticker', axis=1, inplace=True)\n",
    "X_val_transformed.drop('yahoo_ticker', axis=1, inplace=True)\n",
    "X_test_transformed.drop('yahoo_ticker', axis=1, inplace=True)"
   ]
  },
  {
   "cell_type": "code",
   "execution_count": 18,
   "id": "d8d4b217",
   "metadata": {},
   "outputs": [
    {
     "data": {
      "text/plain": [
       "Series([], dtype: int64)"
      ]
     },
     "execution_count": 18,
     "metadata": {},
     "output_type": "execute_result"
    }
   ],
   "source": [
    "X_train_transformed.isnull().sum()[X_train_transformed.isnull().sum() > 0]"
   ]
  },
  {
   "cell_type": "code",
   "execution_count": 19,
   "id": "0169d5bb",
   "metadata": {},
   "outputs": [
    {
     "data": {
      "text/plain": [
       "(array([dtype('float64')], dtype=object), dtype('float64'))"
      ]
     },
     "execution_count": 19,
     "metadata": {},
     "output_type": "execute_result"
    }
   ],
   "source": [
    "X_train_transformed.dtypes.unique(), y_train.dtype"
   ]
  },
  {
   "cell_type": "code",
   "execution_count": null,
   "id": "1fe90883",
   "metadata": {},
   "outputs": [],
   "source": [
    "tpot_model = TPOTRegressor(generations=2,\n",
    "                           population_size=2,\n",
    "#                            offspring_size=None,\n",
    "                           mutation_rate=0.9,\n",
    "#                            scoring='neg_mean_squared_error',\n",
    "                           cv=3,\n",
    "                           subsample=0.8,\n",
    "                           n_jobs=16,\n",
    "                           random_state=0,\n",
    "                           use_dask=False,\n",
    "                           early_stop=5,\n",
    "                           config_dict='TPOT light')\n",
    "tpot_model.fit(X_train_transformed, y_train)"
   ]
  },
  {
   "cell_type": "code",
   "execution_count": null,
   "id": "74bf69eb",
   "metadata": {},
   "outputs": [],
   "source": [
    "tpot_model.export('/media/melgazar9/HDD_10TB/trading/objects/tpot_exported_pipeline_{}.py'.format(str(datetime.today().date())))"
   ]
  },
  {
   "cell_type": "markdown",
   "id": "a7f303eb",
   "metadata": {},
   "source": [
    "### Below is slightly modified code generated by the exported tpot model"
   ]
  },
  {
   "cell_type": "code",
   "execution_count": null,
   "id": "bab84711",
   "metadata": {},
   "outputs": [],
   "source": [
    "import numpy as np\n",
    "import pandas as pd\n",
    "from sklearn.ensemble import AdaBoostRegressor\n",
    "from sklearn.model_selection import train_test_split\n",
    "from sklearn.pipeline import make_pipeline, make_union\n",
    "from tpot.builtins import StackingEstimator\n",
    "from xgboost import XGBRegressor\n",
    "from sklearn.impute import SimpleImputer\n",
    "from tpot.export_utils import set_param_recursive"
   ]
  },
  {
   "cell_type": "code",
   "execution_count": null,
   "id": "d35d552f",
   "metadata": {},
   "outputs": [],
   "source": [
    "imputer = SimpleImputer(strategy=\"median\").fit(X_train_transformed.tail(100))"
   ]
  },
  {
   "cell_type": "code",
   "execution_count": null,
   "id": "ba582b23",
   "metadata": {},
   "outputs": [],
   "source": [
    "X_train_transformed_tpot = imputer.transform(X_train_transformed.tail(100))\n",
    "X_val_transformed_tpot = imputer.transform(X_val_transformed.tail(100))\n",
    "X_test_transformed_tpot = imputer.transform(X_test_transformed.tail(100))"
   ]
  },
  {
   "cell_type": "code",
   "execution_count": null,
   "id": "7bdff7be",
   "metadata": {},
   "outputs": [],
   "source": [
    "exported_pipeline = make_pipeline(\n",
    "    StackingEstimator(estimator=AdaBoostRegressor(learning_rate=0.01, loss=\"square\", n_estimators=100)),\n",
    "    XGBRegressor(learning_rate=0.1, max_depth=5, min_child_weight=7, n_estimators=100, n_jobs=1, objective=\"reg:squarederror\", subsample=0.6500000000000001, verbosity=0)\n",
    ")"
   ]
  },
  {
   "cell_type": "code",
   "execution_count": null,
   "id": "0b80dcc4",
   "metadata": {},
   "outputs": [],
   "source": [
    "# Fix random state for all the steps in exported pipeline\n",
    "set_param_recursive(exported_pipeline.steps, 'random_state', 0)\n",
    "exported_pipeline.fit(X_train_transformed_tpot, y_train.tail(100))\n",
    "\n",
    "y_pred_train = exported_pipeline.predict(X_train_transformed_tpot)\n",
    "y_pred_val = exported_pipeline.predict(X_val_transformed_tpot)\n",
    "y_pred_test = exported_pipeline.predict(X_test_transformed_tpot)"
   ]
  },
  {
   "cell_type": "markdown",
   "id": "55165965",
   "metadata": {},
   "source": [
    "### TPOT Metrics"
   ]
  },
  {
   "cell_type": "code",
   "execution_count": null,
   "id": "6ac64c42",
   "metadata": {},
   "outputs": [],
   "source": [
    "print('\\nTrain xgboost RMSE: {}\\n'.format(\n",
    "    np.sqrt(mean_squared_error(model_dict['df_pred'][model_dict['df_pred']['dataset_split']=='train']['XGBRegressor_pred'],\n",
    "                       model_dict['df_pred'][model_dict['df_pred']['dataset_split']=='train']['target_20d']))))\n",
    "\n",
    "print('Train xgboost RMSE: {}\\n'.format(\n",
    "    np.sqrt(mean_squared_error(model_dict['df_pred'][model_dict['df_pred']['dataset_split']=='val']['XGBRegressor_pred'],\n",
    "                       model_dict['df_pred'][model_dict['df_pred']['dataset_split']=='val']['target_20d']))))\n",
    "\n",
    "print('Train xgboost RMSE: {}\\n'.format(\n",
    "    np.sqrt(mean_squared_error(model_dict['df_pred'][model_dict['df_pred']['dataset_split']=='test']['XGBRegressor_pred'],\n",
    "                       model_dict['df_pred'][model_dict['df_pred']['dataset_split']=='test']['target_20d']))))\n"
   ]
  },
  {
   "cell_type": "code",
   "execution_count": null,
   "id": "dd9ff211",
   "metadata": {},
   "outputs": [],
   "source": []
  }
 ],
 "metadata": {
  "kernelspec": {
   "display_name": "Python 3 (ipykernel)",
   "language": "python",
   "name": "python3"
  },
  "language_info": {
   "codemirror_mode": {
    "name": "ipython",
    "version": 3
   },
   "file_extension": ".py",
   "mimetype": "text/x-python",
   "name": "python",
   "nbconvert_exporter": "python",
   "pygments_lexer": "ipython3",
   "version": "3.9.10"
  }
 },
 "nbformat": 4,
 "nbformat_minor": 5
}

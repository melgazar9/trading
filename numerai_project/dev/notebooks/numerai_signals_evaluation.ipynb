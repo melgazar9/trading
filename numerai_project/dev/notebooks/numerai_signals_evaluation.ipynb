{
 "cells": [
  {
   "cell_type": "markdown",
   "id": "4234a044",
   "metadata": {},
   "source": [
    "### imports"
   ]
  },
  {
   "cell_type": "code",
   "execution_count": 70,
   "id": "069bcc6c",
   "metadata": {},
   "outputs": [],
   "source": [
    "from tpot import TPOTClassifier, TPOTRegressor\n",
    "import dill\n",
    "import pandas as pd\n",
    "\n",
    "from configparser import ConfigParser\n",
    "import numerapi\n",
    "import os\n",
    "import sys\n",
    "if not os.getcwd().endswith('trading'): os.chdir('../../../../trading') # local machine\n",
    "assert os.getcwd().endswith('trading'), 'Wrong path!'\n",
    "from pandas.api.types import is_datetime64_any_dtype as is_datetime\n",
    "from collections import Counter\n",
    "from skimpy import clean_columns\n",
    "\n",
    "import multiprocessing as mp\n",
    "from sklearn.metrics import mean_squared_error\n",
    "from pandarallel import pandarallel # parallel pandas\n",
    "import time\n",
    "import numpy as np\n",
    "from sklearn.preprocessing import FunctionTransformer, OrdinalEncoder, LabelEncoder\n",
    "from sklearn.pipeline import Pipeline, make_pipeline\n",
    "from category_encoders import TargetEncoder\n",
    "from sklearn.impute import SimpleImputer\n",
    "\n",
    "import platform\n",
    "from datetime import datetime\n",
    "from sklearn.base import TransformerMixin\n",
    "if platform.system() != 'Windows':\n",
    "    mp.set_start_method('forkserver')\n",
    "sys.path.append(os.getcwd())\n",
    "import matplotlib.pyplot as plt"
   ]
  },
  {
   "cell_type": "code",
   "execution_count": 35,
   "id": "1d5ee82c",
   "metadata": {},
   "outputs": [],
   "source": [
    "pd.set_option('display.float_format', lambda x: '%.5f' % x)"
   ]
  },
  {
   "cell_type": "markdown",
   "id": "5c35581a",
   "metadata": {},
   "source": [
    "### load the model"
   ]
  },
  {
   "cell_type": "code",
   "execution_count": 61,
   "id": "074c7706",
   "metadata": {},
   "outputs": [],
   "source": [
    "model_dict = dill.load(open('/media/melgazar9/HDD_10TB/trading/objects/XGBRegressor_2022-03-17_16_28_00.pkl', 'rb'))"
   ]
  },
  {
   "cell_type": "code",
   "execution_count": 11,
   "id": "67b9c1b0",
   "metadata": {},
   "outputs": [
    {
     "data": {
      "text/plain": [
       "dict_keys(['model', 'df_pred', 'feature_creator', 'feature_transformer', 'input_features', 'final_features', 'final_dtype_mapping', 'dropped_features', 'input_df'])"
      ]
     },
     "execution_count": 11,
     "metadata": {},
     "output_type": "execute_result"
    }
   ],
   "source": [
    "model_dict.keys()"
   ]
  },
  {
   "cell_type": "markdown",
   "id": "29455ac1",
   "metadata": {},
   "source": [
    "### global variables"
   ]
  },
  {
   "cell_type": "code",
   "execution_count": 18,
   "id": "dfb4f3a6",
   "metadata": {},
   "outputs": [],
   "source": [
    "TARGET = 'target_20d'\n",
    "PRESERVE_VARS = ['XGBRegressor_pred', 'target_4d', 'yahoo_ticker', 'date_localized', 'dataset_split']\n",
    "ID_VARS = ['date']\n",
    "\n",
    "DROP_COLS = model_dict['dropped_features'] # [i for i in model_dict['df_pred'].columns if is_datetime(model_dict['df_pred'][i]) and i not in ID_VARS + PRESERVE_VARS]\n",
    "OBJECT_COLS = [i for i in model_dict['df_pred'].columns if model_dict['df_pred'][i].dtype == 'object' and i not in ID_VARS + PRESERVE_VARS]"
   ]
  },
  {
   "cell_type": "code",
   "execution_count": 19,
   "id": "d3e0f40e",
   "metadata": {},
   "outputs": [],
   "source": [
    "try:\n",
    "    model_dict['df_pred'].set_index(ID_VARS, inplace=True)\n",
    "except:\n",
    "    pass\n",
    "try:\n",
    "    model_dict['df_pred'].drop(DROP_COLS, axis=1, inplace=True)\n",
    "except:\n",
    "    pass"
   ]
  },
  {
   "cell_type": "markdown",
   "id": "9980d7bf",
   "metadata": {},
   "source": [
    "### train test split"
   ]
  },
  {
   "cell_type": "code",
   "execution_count": 27,
   "id": "f42018a8",
   "metadata": {},
   "outputs": [
    {
     "data": {
      "text/plain": [
       "((936205, 813), (936205,), (201196, 813), (201196,), (204094, 813), (204094,))"
      ]
     },
     "execution_count": 27,
     "metadata": {},
     "output_type": "execute_result"
    }
   ],
   "source": [
    "X_train = model_dict['df_pred'][model_dict['df_pred']['dataset_split']=='train'][model_dict['input_features']]\n",
    "y_train = model_dict['df_pred'][model_dict['df_pred']['dataset_split']=='train'][TARGET]\n",
    "\n",
    "X_val = model_dict['df_pred'][model_dict['df_pred']['dataset_split']=='val'][model_dict['input_features']]\n",
    "y_val = model_dict['df_pred'][model_dict['df_pred']['dataset_split']=='val'][TARGET]\n",
    "\n",
    "X_test = model_dict['df_pred'][model_dict['df_pred']['dataset_split']=='test'][model_dict['input_features']]\n",
    "y_test = model_dict['df_pred'][model_dict['df_pred']['dataset_split']=='test'][TARGET]\n",
    "X_train.shape, y_train.shape, X_val.shape, y_val.shape, X_test.shape, y_test.shape"
   ]
  },
  {
   "cell_type": "code",
   "execution_count": 62,
   "id": "a236fc1f",
   "metadata": {},
   "outputs": [
    {
     "data": {
      "text/html": [
       "<div>\n",
       "<style scoped>\n",
       "    .dataframe tbody tr th:only-of-type {\n",
       "        vertical-align: middle;\n",
       "    }\n",
       "\n",
       "    .dataframe tbody tr th {\n",
       "        vertical-align: top;\n",
       "    }\n",
       "\n",
       "    .dataframe thead th {\n",
       "        text-align: right;\n",
       "    }\n",
       "</style>\n",
       "<table border=\"1\" class=\"dataframe\">\n",
       "  <thead>\n",
       "    <tr style=\"text-align: right;\">\n",
       "      <th></th>\n",
       "      <th>open_1h_2_diff</th>\n",
       "      <th>high_move_pct_1h_4</th>\n",
       "      <th>range_1h_3</th>\n",
       "      <th>low_move_pct_1h_11_ewm_mean</th>\n",
       "      <th>adj_close_1h_2_pct_change</th>\n",
       "      <th>low_1h_5_pct_change</th>\n",
       "      <th>open_1h_3_pct_change</th>\n",
       "      <th>dayofweek_pct_change</th>\n",
       "      <th>low_move_1h_7_ewm_mean</th>\n",
       "      <th>high_move_pct_change_1h_3_rolling_mean</th>\n",
       "      <th>...</th>\n",
       "      <th>high_1h_6_diff</th>\n",
       "      <th>volume_1h_4</th>\n",
       "      <th>high_minus_prev_close_1h_2</th>\n",
       "      <th>high_move_pct_1h_10</th>\n",
       "      <th>low_move_pct_change_1h_9_rolling_mean</th>\n",
       "      <th>high_move_1h_9_ewm_mean</th>\n",
       "      <th>low_move_pct_1h_6_ewm_mean</th>\n",
       "      <th>low_move_1h_1_rolling_mean</th>\n",
       "      <th>low_move_pct_1h_12_ewm_mean</th>\n",
       "      <th>move_pct_change_1h_14</th>\n",
       "    </tr>\n",
       "    <tr>\n",
       "      <th>date</th>\n",
       "      <th></th>\n",
       "      <th></th>\n",
       "      <th></th>\n",
       "      <th></th>\n",
       "      <th></th>\n",
       "      <th></th>\n",
       "      <th></th>\n",
       "      <th></th>\n",
       "      <th></th>\n",
       "      <th></th>\n",
       "      <th></th>\n",
       "      <th></th>\n",
       "      <th></th>\n",
       "      <th></th>\n",
       "      <th></th>\n",
       "      <th></th>\n",
       "      <th></th>\n",
       "      <th></th>\n",
       "      <th></th>\n",
       "      <th></th>\n",
       "      <th></th>\n",
       "    </tr>\n",
       "  </thead>\n",
       "  <tbody>\n",
       "    <tr>\n",
       "      <th>2015-02-06</th>\n",
       "      <td>NaN</td>\n",
       "      <td>NaN</td>\n",
       "      <td>NaN</td>\n",
       "      <td>NaN</td>\n",
       "      <td>NaN</td>\n",
       "      <td>NaN</td>\n",
       "      <td>NaN</td>\n",
       "      <td>0.00000</td>\n",
       "      <td>NaN</td>\n",
       "      <td>NaN</td>\n",
       "      <td>...</td>\n",
       "      <td>NaN</td>\n",
       "      <td>NaN</td>\n",
       "      <td>NaN</td>\n",
       "      <td>NaN</td>\n",
       "      <td>NaN</td>\n",
       "      <td>NaN</td>\n",
       "      <td>NaN</td>\n",
       "      <td>NaN</td>\n",
       "      <td>NaN</td>\n",
       "      <td>NaN</td>\n",
       "    </tr>\n",
       "    <tr>\n",
       "      <th>2015-02-13</th>\n",
       "      <td>NaN</td>\n",
       "      <td>NaN</td>\n",
       "      <td>NaN</td>\n",
       "      <td>NaN</td>\n",
       "      <td>NaN</td>\n",
       "      <td>NaN</td>\n",
       "      <td>NaN</td>\n",
       "      <td>0.00000</td>\n",
       "      <td>NaN</td>\n",
       "      <td>NaN</td>\n",
       "      <td>...</td>\n",
       "      <td>NaN</td>\n",
       "      <td>NaN</td>\n",
       "      <td>NaN</td>\n",
       "      <td>NaN</td>\n",
       "      <td>NaN</td>\n",
       "      <td>NaN</td>\n",
       "      <td>NaN</td>\n",
       "      <td>NaN</td>\n",
       "      <td>NaN</td>\n",
       "      <td>NaN</td>\n",
       "    </tr>\n",
       "  </tbody>\n",
       "</table>\n",
       "<p>2 rows × 813 columns</p>\n",
       "</div>"
      ],
      "text/plain": [
       "            open_1h_2_diff  high_move_pct_1h_4  range_1h_3  \\\n",
       "date                                                         \n",
       "2015-02-06             NaN                 NaN         NaN   \n",
       "2015-02-13             NaN                 NaN         NaN   \n",
       "\n",
       "            low_move_pct_1h_11_ewm_mean  adj_close_1h_2_pct_change  \\\n",
       "date                                                                 \n",
       "2015-02-06                          NaN                        NaN   \n",
       "2015-02-13                          NaN                        NaN   \n",
       "\n",
       "            low_1h_5_pct_change  open_1h_3_pct_change  dayofweek_pct_change  \\\n",
       "date                                                                          \n",
       "2015-02-06                  NaN                   NaN               0.00000   \n",
       "2015-02-13                  NaN                   NaN               0.00000   \n",
       "\n",
       "            low_move_1h_7_ewm_mean  high_move_pct_change_1h_3_rolling_mean  \\\n",
       "date                                                                         \n",
       "2015-02-06                     NaN                                     NaN   \n",
       "2015-02-13                     NaN                                     NaN   \n",
       "\n",
       "            ...  high_1h_6_diff  volume_1h_4 high_minus_prev_close_1h_2  \\\n",
       "date        ...                                                           \n",
       "2015-02-06  ...             NaN          NaN                        NaN   \n",
       "2015-02-13  ...             NaN          NaN                        NaN   \n",
       "\n",
       "            high_move_pct_1h_10  low_move_pct_change_1h_9_rolling_mean  \\\n",
       "date                                                                     \n",
       "2015-02-06                  NaN                                    NaN   \n",
       "2015-02-13                  NaN                                    NaN   \n",
       "\n",
       "            high_move_1h_9_ewm_mean  low_move_pct_1h_6_ewm_mean  \\\n",
       "date                                                              \n",
       "2015-02-06                      NaN                         NaN   \n",
       "2015-02-13                      NaN                         NaN   \n",
       "\n",
       "            low_move_1h_1_rolling_mean  low_move_pct_1h_12_ewm_mean  \\\n",
       "date                                                                  \n",
       "2015-02-06                         NaN                          NaN   \n",
       "2015-02-13                         NaN                          NaN   \n",
       "\n",
       "            move_pct_change_1h_14  \n",
       "date                               \n",
       "2015-02-06                    NaN  \n",
       "2015-02-13                    NaN  \n",
       "\n",
       "[2 rows x 813 columns]"
      ]
     },
     "execution_count": 62,
     "metadata": {},
     "output_type": "execute_result"
    }
   ],
   "source": [
    "X_train.head(2)"
   ]
  },
  {
   "cell_type": "code",
   "execution_count": 42,
   "id": "c15cb257",
   "metadata": {},
   "outputs": [
    {
     "name": "stderr",
     "output_type": "stream",
     "text": [
      "/home/melgazar9/scripts/github/trading/venv/lib/python3.9/site-packages/sklearn/preprocessing/_encoders.py:170: UserWarning: Found unknown categories in columns [0, 1, 6, 10, 12, 14, 16, 17, 18, 19, 20, 21, 22, 23, 24, 25, 26, 27, 29, 30, 31, 34, 35, 36, 38, 40, 43, 44, 45, 46] during transform. These unknown categories will be encoded as all zeros\n",
      "  warnings.warn(\n",
      "/home/melgazar9/scripts/github/trading/venv/lib/python3.9/site-packages/sklearn/preprocessing/_encoders.py:170: UserWarning: Found unknown categories in columns [0, 1, 6, 10, 12, 14, 16, 17, 18, 19, 20, 21, 22, 23, 24, 25, 26, 27, 29, 30, 31, 34, 35, 36, 38, 40, 43, 44, 45, 46] during transform. These unknown categories will be encoded as all zeros\n",
      "  warnings.warn(\n"
     ]
    }
   ],
   "source": [
    "X_train_transformed = pd.DataFrame(model_dict['feature_transformer'].transform(X_train), columns=model_dict['final_features'])\n",
    "X_val_transformed = pd.DataFrame(model_dict['feature_transformer'].transform(X_val), columns=model_dict['final_features'])\n",
    "X_test_transformed = pd.DataFrame(model_dict['feature_transformer'].transform(X_test), columns=model_dict['final_features'])"
   ]
  },
  {
   "cell_type": "markdown",
   "id": "7b53414a",
   "metadata": {},
   "source": [
    "### basic model metrics"
   ]
  },
  {
   "cell_type": "code",
   "execution_count": 30,
   "id": "41125d0c",
   "metadata": {},
   "outputs": [
    {
     "name": "stdout",
     "output_type": "stream",
     "text": [
      "\n",
      "Train xgboost RMSE: 0.21952151803234238\n",
      "\n",
      "Train xgboost RMSE: 0.21672828832361798\n",
      "\n",
      "Train xgboost RMSE: 0.21214639522304019\n",
      "\n"
     ]
    }
   ],
   "source": [
    "print('\\nTrain xgboost RMSE: {}\\n'.format(\n",
    "    np.sqrt(mean_squared_error(model_dict['df_pred'][model_dict['df_pred']['dataset_split']=='train']['XGBRegressor_pred'],\n",
    "                       model_dict['df_pred'][model_dict['df_pred']['dataset_split']=='train']['target_20d']))))\n",
    "\n",
    "print('Train xgboost RMSE: {}\\n'.format(\n",
    "    np.sqrt(mean_squared_error(model_dict['df_pred'][model_dict['df_pred']['dataset_split']=='val']['XGBRegressor_pred'],\n",
    "                       model_dict['df_pred'][model_dict['df_pred']['dataset_split']=='val']['target_20d']))))\n",
    "\n",
    "print('Train xgboost RMSE: {}\\n'.format(\n",
    "    np.sqrt(mean_squared_error(model_dict['df_pred'][model_dict['df_pred']['dataset_split']=='test']['XGBRegressor_pred'],\n",
    "                       model_dict['df_pred'][model_dict['df_pred']['dataset_split']=='test']['target_20d']))))\n"
   ]
  },
  {
   "cell_type": "code",
   "execution_count": 43,
   "id": "02ef954f",
   "metadata": {},
   "outputs": [
    {
     "data": {
      "text/html": [
       "<div>\n",
       "<style scoped>\n",
       "    .dataframe tbody tr th:only-of-type {\n",
       "        vertical-align: middle;\n",
       "    }\n",
       "\n",
       "    .dataframe tbody tr th {\n",
       "        vertical-align: top;\n",
       "    }\n",
       "\n",
       "    .dataframe thead th {\n",
       "        text-align: right;\n",
       "    }\n",
       "</style>\n",
       "<table border=\"1\" class=\"dataframe\">\n",
       "  <thead>\n",
       "    <tr style=\"text-align: right;\">\n",
       "      <th></th>\n",
       "      <th>XGBRegressor_pred</th>\n",
       "    </tr>\n",
       "  </thead>\n",
       "  <tbody>\n",
       "    <tr>\n",
       "      <th>count</th>\n",
       "      <td>1341495.00000</td>\n",
       "    </tr>\n",
       "    <tr>\n",
       "      <th>mean</th>\n",
       "      <td>0.50458</td>\n",
       "    </tr>\n",
       "    <tr>\n",
       "      <th>std</th>\n",
       "      <td>0.03052</td>\n",
       "    </tr>\n",
       "    <tr>\n",
       "      <th>min</th>\n",
       "      <td>0.19821</td>\n",
       "    </tr>\n",
       "    <tr>\n",
       "      <th>25%</th>\n",
       "      <td>0.48830</td>\n",
       "    </tr>\n",
       "    <tr>\n",
       "      <th>50%</th>\n",
       "      <td>0.50438</td>\n",
       "    </tr>\n",
       "    <tr>\n",
       "      <th>75%</th>\n",
       "      <td>0.52005</td>\n",
       "    </tr>\n",
       "    <tr>\n",
       "      <th>max</th>\n",
       "      <td>0.82168</td>\n",
       "    </tr>\n",
       "  </tbody>\n",
       "</table>\n",
       "</div>"
      ],
      "text/plain": [
       "       XGBRegressor_pred\n",
       "count      1341495.00000\n",
       "mean             0.50458\n",
       "std              0.03052\n",
       "min              0.19821\n",
       "25%              0.48830\n",
       "50%              0.50438\n",
       "75%              0.52005\n",
       "max              0.82168"
      ]
     },
     "execution_count": 43,
     "metadata": {},
     "output_type": "execute_result"
    }
   ],
   "source": [
    "model_dict['df_pred'][['XGBRegressor_pred']].describe()"
   ]
  },
  {
   "cell_type": "code",
   "execution_count": 44,
   "id": "f5483ab3",
   "metadata": {},
   "outputs": [
    {
     "data": {
      "text/plain": [
       "<AxesSubplot:ylabel='Frequency'>"
      ]
     },
     "execution_count": 44,
     "metadata": {},
     "output_type": "execute_result"
    },
    {
     "data": {
      "image/png": "[encoded data removed]",
      "text/plain": [
       "<Figure size 432x288 with 1 Axes>"
      ]
     },
     "metadata": {
      "needs_background": "light"
     },
     "output_type": "display_data"
    }
   ],
   "source": [
    "model_dict['df_pred']['XGBRegressor_pred'].plot(kind='hist', bins=30)"
   ]
  },
  {
   "cell_type": "code",
   "execution_count": 60,
   "id": "e76845b4",
   "metadata": {},
   "outputs": [
    {
     "data": {
      "text/plain": [
       "<AxesSubplot:ylabel='Frequency'>"
      ]
     },
     "execution_count": 60,
     "metadata": {},
     "output_type": "execute_result"
    },
    {
     "data": {
      "image/png": "[encoded data removed]",
      "text/plain": [
       "<Figure size 432x288 with 1 Axes>"
      ]
     },
     "metadata": {
      "needs_background": "light"
     },
     "output_type": "display_data"
    }
   ],
   "source": [
    "y_train.plot(kind='hist', bins=5)"
   ]
  },
  {
   "cell_type": "markdown",
   "id": "2a8b63e0",
   "metadata": {},
   "source": [
    "## The bread and butter - numerai signals evaluation metrics\n",
    "These metrics determine how good the model really is and gives a solid estimation on how much we will get paid out if we deployed this particular model"
   ]
  },
  {
   "cell_type": "code",
   "execution_count": 65,
   "id": "a569b651",
   "metadata": {},
   "outputs": [],
   "source": [
    "def calc_basic_metrics(y_pred):\n",
    "    print(f\"Mean Correlation: {y_pred.mean():.3f}\")\n",
    "    print(f\"Median Correlation: {y_pred.median():.3f}\")\n",
    "    print(f\"Standard Deviation: {y_pred.std():.3f}\")\n",
    "    print('\\n')\n",
    "    print(f\"Mean Pseudo-Sharpe: {y_pred.mean()/y_pred.std():.3f}\")\n",
    "    print(f\"Median Pseudo-Sharpe: {y_pred.median()/y_pred.std():.3f}\")\n",
    "    print('\\n')\n",
    "    print(f'Hit Rate (% positive eras): {y_pred.apply(lambda x: np.sign(x)).value_counts()[1]/len(y_pred):.2%}')\n",
    "\n",
    "    y_pred.rolling(10).mean().plot(kind='line', title='Rolling Per Era Correlation Mean', figsize=(15,5))\n",
    "    plt.axhline(y=0.0, color=\"r\", linestyle=\"--\"); plt.show()\n",
    "\n",
    "    y_pred.cumsum().plot(title='Cumulative Sum of Era Scores', figsize=(15,5))\n",
    "    plt.axhline(y=0.0, color=\"r\", linestyle=\"--\"); plt.show()\n",
    "    \n",
    "def calculate_fnc(sub, targets, features):\n",
    "    \"\"\"    \n",
    "    Args:\n",
    "        sub (pd.Series)\n",
    "        targets (pd.Series)\n",
    "        features (pd.DataFrame)\n",
    "    \"\"\"\n",
    "\n",
    "    # Normalize submission\n",
    "    sub = (sub.rank(method=\"first\").values - 0.5) / len(sub)\n",
    "\n",
    "    # Neutralize submission to features\n",
    "    f = features.values\n",
    "    sub -= f.dot(np.linalg.pinv(f).dot(sub))\n",
    "    sub /= sub.std()\n",
    "\n",
    "    sub = pd.Series(np.squeeze(sub)) # Convert np.ndarray to pd.Series\n",
    "\n",
    "    # FNC: Spearman rank-order correlation of neutralized submission to target\n",
    "    fnc = np.corrcoef(sub.rank(pct=True, method=\"first\"), targets)[0, 1]\n",
    "\n",
    "    return fnc"
   ]
  },
  {
   "cell_type": "code",
   "execution_count": 72,
   "id": "b41c13af",
   "metadata": {},
   "outputs": [],
   "source": [
    "class CalcNumeraiMetrics:\n",
    "    \n",
    "    def __init__(self, y, y_pred):\n",
    "        self.y = y\n",
    "        self.y_pred = y_pred\n",
    "    \n",
    "    def calc_coef(self):\n",
    "\n",
    "        # method=\"first\" breaks ties based on order in array\n",
    "        return np.corrcoef(self.y, self.y_pred.rank(pct=True, method=\"first\"))[0,1]\n",
    "    \n",
    "    def calc_mmc(self):\n",
    "        pass\n",
    "    \n",
    "    def calc_estimated_payout(self, stake_value, payout_factor, corr, corr_multiplier, mmc, mmc_multiplier):\n",
    "        estimated_payout = stake_value * payout_factor * (corr * corr_multiplier + mmc * mmc_multiplier)\n",
    "        return estimated_payout"
   ]
  },
  {
   "cell_type": "code",
   "execution_count": 81,
   "id": "9a8b64e0",
   "metadata": {},
   "outputs": [
    {
     "data": {
      "text/plain": [
       "0.9034509923617006"
      ]
     },
     "execution_count": 81,
     "metadata": {},
     "output_type": "execute_result"
    }
   ],
   "source": [
    "CalcNumeraiMetrics(model_dict['df_pred']['XGBRegressor_pred'], model_dict['df_pred']['XGBRegressor_pred']).calc_coef()"
   ]
  },
  {
   "cell_type": "code",
   "execution_count": 71,
   "id": "e04bf700",
   "metadata": {},
   "outputs": [
    {
     "name": "stdout",
     "output_type": "stream",
     "text": [
      "Mean Correlation: 0.505\n",
      "Median Correlation: 0.504\n",
      "Standard Deviation: 0.031\n",
      "\n",
      "\n",
      "Mean Pseudo-Sharpe: 16.532\n",
      "Median Pseudo-Sharpe: 16.525\n",
      "\n",
      "\n",
      "Hit Rate (% positive eras): 100.00%\n"
     ]
    },
    {
     "data": {
      "image/png": "[encoded data removed]",
      "text/plain": [
       "<Figure size 1080x360 with 1 Axes>"
      ]
     },
     "metadata": {
      "needs_background": "light"
     },
     "output_type": "display_data"
    },
    {
     "data": {
      "image/png": "[encoded data removed]",
      "text/plain": [
       "<Figure size 1080x360 with 1 Axes>"
      ]
     },
     "metadata": {
      "needs_background": "light"
     },
     "output_type": "display_data"
    }
   ],
   "source": [
    "calc_basic_metrics(model_dict['df_pred']['XGBRegressor_pred'])"
   ]
  },
  {
   "cell_type": "code",
   "execution_count": null,
   "id": "dd9ff211",
   "metadata": {},
   "outputs": [],
   "source": []
  }
 ],
 "metadata": {
  "kernelspec": {
   "display_name": "Python 3 (ipykernel)",
   "language": "python",
   "name": "python3"
  },
  "language_info": {
   "codemirror_mode": {
    "name": "ipython",
    "version": 3
   },
   "file_extension": ".py",
   "mimetype": "text/x-python",
   "name": "python",
   "nbconvert_exporter": "python",
   "pygments_lexer": "ipython3",
   "version": "3.9.10"
  }
 },
 "nbformat": 4,
 "nbformat_minor": 5
}

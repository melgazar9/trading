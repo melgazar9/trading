{
 "cells": [
  {
   "cell_type": "markdown",
   "id": "4234a044",
   "metadata": {},
   "source": [
    "### imports"
   ]
  },
  {
   "cell_type": "code",
   "execution_count": 1,
   "id": "069bcc6c",
   "metadata": {},
   "outputs": [],
   "source": [
    "from tpot import TPOTClassifier, TPOTRegressor\n",
    "import dill\n",
    "import pandas as pd\n",
    "\n",
    "from configparser import ConfigParser\n",
    "import numerapi\n",
    "import os\n",
    "import sys\n",
    "if not os.getcwd().endswith('trading'): os.chdir('../../../../trading') # local machine\n",
    "assert os.getcwd().endswith('trading'), 'Wrong path!'\n",
    "from pandas.api.types import is_datetime64_any_dtype as is_datetime\n",
    "from collections import Counter\n",
    "from skimpy import clean_columns\n",
    "\n",
    "import multiprocessing as mp\n",
    "from sklearn.metrics import mean_squared_error\n",
    "from pandarallel import pandarallel # parallel pandas\n",
    "import time\n",
    "import numpy as np\n",
    "from sklearn.preprocessing import FunctionTransformer, OrdinalEncoder, LabelEncoder\n",
    "from sklearn.pipeline import Pipeline, make_pipeline\n",
    "from category_encoders import TargetEncoder\n",
    "from sklearn.impute import SimpleImputer\n",
    "\n",
    "import platform\n",
    "from datetime import datetime\n",
    "from sklearn.base import TransformerMixin\n",
    "if platform.system() != 'Windows':\n",
    "    mp.set_start_method('forkserver')\n",
    "sys.path.append(os.getcwd())\n",
    "import matplotlib.pyplot as plt"
   ]
  },
  {
   "cell_type": "code",
   "execution_count": 2,
   "id": "1d5ee82c",
   "metadata": {},
   "outputs": [],
   "source": [
    "pd.set_option('display.float_format', lambda x: '%.5f' % x)"
   ]
  },
  {
   "cell_type": "markdown",
   "id": "5c35581a",
   "metadata": {},
   "source": [
    "### load the model"
   ]
  },
  {
   "cell_type": "code",
   "execution_count": 5,
   "id": "074c7706",
   "metadata": {},
   "outputs": [],
   "source": [
    "model_dict = dill.load(open('/media/melgazar9/HDD_10TB/trading/objects/XGBRegressor_2022-03-17_16_28_00.pkl', 'rb'))"
   ]
  },
  {
   "cell_type": "code",
   "execution_count": 6,
   "id": "67b9c1b0",
   "metadata": {},
   "outputs": [
    {
     "data": {
      "text/plain": [
       "dict_keys(['model', 'df_pred', 'feature_creator', 'feature_transformer', 'input_features', 'final_features', 'final_dtype_mapping', 'dropped_features', 'input_df'])"
      ]
     },
     "execution_count": 6,
     "metadata": {},
     "output_type": "execute_result"
    }
   ],
   "source": [
    "model_dict.keys()"
   ]
  },
  {
   "cell_type": "markdown",
   "id": "29455ac1",
   "metadata": {},
   "source": [
    "### global variables"
   ]
  },
  {
   "cell_type": "code",
   "execution_count": 7,
   "id": "41125d0c",
   "metadata": {},
   "outputs": [
    {
     "name": "stdout",
     "output_type": "stream",
     "text": [
      "\n",
      "Train xgboost RMSE: 0.21952151803234238\n",
      "\n",
      "Train xgboost RMSE: 0.21672828832361798\n",
      "\n",
      "Train xgboost RMSE: 0.21214639522304019\n",
      "\n"
     ]
    }
   ],
   "source": [
    "print('\\nTrain xgboost RMSE: {}\\n'.format(\n",
    "    np.sqrt(mean_squared_error(model_dict['df_pred'][model_dict['df_pred']['dataset_split']=='train']['XGBRegressor_pred'],\n",
    "                       model_dict['df_pred'][model_dict['df_pred']['dataset_split']=='train']['target_20d']))))\n",
    "\n",
    "print('Train xgboost RMSE: {}\\n'.format(\n",
    "    np.sqrt(mean_squared_error(model_dict['df_pred'][model_dict['df_pred']['dataset_split']=='val']['XGBRegressor_pred'],\n",
    "                       model_dict['df_pred'][model_dict['df_pred']['dataset_split']=='val']['target_20d']))))\n",
    "\n",
    "print('Train xgboost RMSE: {}\\n'.format(\n",
    "    np.sqrt(mean_squared_error(model_dict['df_pred'][model_dict['df_pred']['dataset_split']=='test']['XGBRegressor_pred'],\n",
    "                       model_dict['df_pred'][model_dict['df_pred']['dataset_split']=='test']['target_20d']))))\n"
   ]
  },
  {
   "cell_type": "code",
   "execution_count": 8,
   "id": "02ef954f",
   "metadata": {},
   "outputs": [
    {
     "data": {
      "text/html": [
       "<div>\n",
       "<style scoped>\n",
       "    .dataframe tbody tr th:only-of-type {\n",
       "        vertical-align: middle;\n",
       "    }\n",
       "\n",
       "    .dataframe tbody tr th {\n",
       "        vertical-align: top;\n",
       "    }\n",
       "\n",
       "    .dataframe thead th {\n",
       "        text-align: right;\n",
       "    }\n",
       "</style>\n",
       "<table border=\"1\" class=\"dataframe\">\n",
       "  <thead>\n",
       "    <tr style=\"text-align: right;\">\n",
       "      <th></th>\n",
       "      <th>XGBRegressor_pred</th>\n",
       "    </tr>\n",
       "  </thead>\n",
       "  <tbody>\n",
       "    <tr>\n",
       "      <th>count</th>\n",
       "      <td>1341495.00000</td>\n",
       "    </tr>\n",
       "    <tr>\n",
       "      <th>mean</th>\n",
       "      <td>0.50458</td>\n",
       "    </tr>\n",
       "    <tr>\n",
       "      <th>std</th>\n",
       "      <td>0.03052</td>\n",
       "    </tr>\n",
       "    <tr>\n",
       "      <th>min</th>\n",
       "      <td>0.19821</td>\n",
       "    </tr>\n",
       "    <tr>\n",
       "      <th>25%</th>\n",
       "      <td>0.48830</td>\n",
       "    </tr>\n",
       "    <tr>\n",
       "      <th>50%</th>\n",
       "      <td>0.50438</td>\n",
       "    </tr>\n",
       "    <tr>\n",
       "      <th>75%</th>\n",
       "      <td>0.52005</td>\n",
       "    </tr>\n",
       "    <tr>\n",
       "      <th>max</th>\n",
       "      <td>0.82168</td>\n",
       "    </tr>\n",
       "  </tbody>\n",
       "</table>\n",
       "</div>"
      ],
      "text/plain": [
       "       XGBRegressor_pred\n",
       "count      1341495.00000\n",
       "mean             0.50458\n",
       "std              0.03052\n",
       "min              0.19821\n",
       "25%              0.48830\n",
       "50%              0.50438\n",
       "75%              0.52005\n",
       "max              0.82168"
      ]
     },
     "execution_count": 8,
     "metadata": {},
     "output_type": "execute_result"
    }
   ],
   "source": [
    "model_dict['df_pred'][['XGBRegressor_pred']].describe()"
   ]
  },
  {
   "cell_type": "code",
   "execution_count": 9,
   "id": "f5483ab3",
   "metadata": {},
   "outputs": [
    {
     "data": {
      "text/plain": [
       "<AxesSubplot:ylabel='Frequency'>"
      ]
     },
     "execution_count": 9,
     "metadata": {},
     "output_type": "execute_result"
    },
    {
     "data": {
      "image/png": "[encoded data removed]",
      "text/plain": [
       "<Figure size 432x288 with 1 Axes>"
      ]
     },
     "metadata": {
      "needs_background": "light"
     },
     "output_type": "display_data"
    }
   ],
   "source": [
    "model_dict['df_pred']['XGBRegressor_pred'].plot(kind='hist', bins=30)"
   ]
  },
  {
   "cell_type": "code",
   "execution_count": 11,
   "id": "e76845b4",
   "metadata": {},
   "outputs": [
    {
     "data": {
      "text/plain": [
       "<AxesSubplot:ylabel='Frequency'>"
      ]
     },
     "execution_count": 11,
     "metadata": {},
     "output_type": "execute_result"
    },
    {
     "data": {
      "image/png": "[encoded data removed]",
      "text/plain": [
       "<Figure size 432x288 with 1 Axes>"
      ]
     },
     "metadata": {
      "needs_background": "light"
     },
     "output_type": "display_data"
    }
   ],
   "source": [
    "model_dict['df_pred']['target_20d'].plot(kind='hist', bins=5)"
   ]
  },
  {
   "cell_type": "markdown",
   "id": "2a8b63e0",
   "metadata": {},
   "source": [
    "## Core numerai signals evaluation metrics\n",
    "These metrics determine how good the model really is and gives a solid estimation on how much we will get paid out if we deployed this particular model"
   ]
  },
  {
   "cell_type": "code",
   "execution_count": 25,
   "id": "a569b651",
   "metadata": {},
   "outputs": [],
   "source": [
    "def calculate_fnc(sub, targets, features):\n",
    "    \"\"\"    \n",
    "    Args:\n",
    "        sub (pd.Series)\n",
    "        targets (pd.Series)\n",
    "        features (pd.DataFrame)\n",
    "    \"\"\"\n",
    "\n",
    "    # Normalize submission\n",
    "    sub = (sub.rank(method=\"first\").values - 0.5) / len(sub)\n",
    "\n",
    "    # Neutralize submission to features\n",
    "    f = features.values\n",
    "    sub -= f.dot(np.linalg.pinv(f).dot(sub))\n",
    "    sub /= sub.std()\n",
    "\n",
    "    sub = pd.Series(np.squeeze(sub)) # Convert np.ndarray to pd.Series\n",
    "\n",
    "    # FNC: Spearman rank-order correlation of neutralized submission to target\n",
    "    fnc = np.corrcoef(sub.rank(pct=True, method=\"first\"), targets)[0, 1]\n",
    "\n",
    "    return fnc"
   ]
  },
  {
   "cell_type": "code",
   "execution_count": 22,
   "id": "b41c13af",
   "metadata": {},
   "outputs": [],
   "source": [
    "class CalcNumeraiMetrics:\n",
    "    \n",
    "    def __init__(self, y, y_pred):\n",
    "        self.y = y\n",
    "        self.y_pred = y_pred\n",
    "    \n",
    "    def calc_coef(self):\n",
    "\n",
    "        # method=\"first\" breaks ties based on order in array\n",
    "        return np.corrcoef(self.y, self.y_pred.rank(pct=True, method=\"first\"))[0,1]\n",
    "    \n",
    "    def calc_mmc(self):\n",
    "        pass\n",
    "    \n",
    "    def calc_estimated_payout(self, stake_value, payout_factor, corr, corr_multiplier, mmc, mmc_multiplier):\n",
    "        estimated_payout = stake_value * payout_factor * (corr * corr_multiplier + mmc * mmc_multiplier)\n",
    "        return estimated_payout\n",
    "    \n",
    "    def calc_all_metrics(self):\n",
    "        coef = self.calc_coef()\n",
    "        metric_summary = {'coef': coef}\n",
    "        return metric_summary"
   ]
  },
  {
   "cell_type": "code",
   "execution_count": 23,
   "id": "9a8b64e0",
   "metadata": {},
   "outputs": [
    {
     "name": "stdout",
     "output_type": "stream",
     "text": [
      "train corr_coef best: {'coef': 0.9035467765291023}\n",
      "train corr_coef actual: {'coef': 0.008000535106365784}\n",
      "val corr_coef best: {'coef': 0.9030306109612434}\n",
      "val corr_coef actual: {'coef': 0.01004697853094071}\n",
      "test corr_coef best: {'coef': 0.9034913733196552}\n",
      "test corr_coef actual: {'coef': -0.003531597960824528}\n"
     ]
    }
   ],
   "source": [
    "print('train corr_coef best:', CalcNumeraiMetrics(model_dict['df_pred'][model_dict['df_pred']['dataset_split']=='train']['XGBRegressor_pred'], model_dict['df_pred'][model_dict['df_pred']['dataset_split']=='train']['XGBRegressor_pred']).calc_all_metrics())\n",
    "print('train corr_coef actual:', CalcNumeraiMetrics(model_dict['df_pred'][model_dict['df_pred']['dataset_split']=='train']['XGBRegressor_pred'], model_dict['df_pred'][model_dict['df_pred']['dataset_split']=='train']['target_20d']).calc_all_metrics())\n",
    "print('val corr_coef best:', CalcNumeraiMetrics(model_dict['df_pred'][model_dict['df_pred']['dataset_split']=='val']['XGBRegressor_pred'], model_dict['df_pred'][model_dict['df_pred']['dataset_split']=='val']['XGBRegressor_pred']).calc_all_metrics())\n",
    "print('val corr_coef actual:', CalcNumeraiMetrics(model_dict['df_pred'][model_dict['df_pred']['dataset_split']=='val']['XGBRegressor_pred'], model_dict['df_pred'][model_dict['df_pred']['dataset_split']=='val']['target_20d']).calc_all_metrics())\n",
    "print('test corr_coef best:', CalcNumeraiMetrics(model_dict['df_pred'][model_dict['df_pred']['dataset_split']=='test']['XGBRegressor_pred'], model_dict['df_pred'][model_dict['df_pred']['dataset_split']=='test']['XGBRegressor_pred']).calc_all_metrics())\n",
    "print('test corr_coef actual:', CalcNumeraiMetrics(model_dict['df_pred'][model_dict['df_pred']['dataset_split']=='test']['XGBRegressor_pred'], model_dict['df_pred'][model_dict['df_pred']['dataset_split']=='test']['target_20d']).calc_all_metrics())"
   ]
  },
  {
   "cell_type": "markdown",
   "id": "afb261e6",
   "metadata": {},
   "source": [
    "### Upload Predictions"
   ]
  },
  {
   "cell_type": "code",
   "execution_count": 28,
   "id": "4a7cabee",
   "metadata": {},
   "outputs": [
    {
     "name": "stdout",
     "output_type": "stream",
     "text": [
      "\r"
     ]
    }
   ],
   "source": [
    "import argparse\n",
    "import os\n",
    "import pandas as pd\n",
    "from halo import Halo\n",
    "from sklearn.ensemble import GradientBoostingRegressor\n",
    "\n",
    "TARGET_NAME = 'target_20d'\n",
    "PREDICTION_NAME = 'XGBRegressor_pred'\n",
    "\n",
    "spinner = Halo(text='', spinner='dots')"
   ]
  },
  {
   "cell_type": "code",
   "execution_count": 33,
   "id": "1930f02c",
   "metadata": {},
   "outputs": [
    {
     "name": "stdout",
     "output_type": "stream",
     "text": [
      "✔ Reading data⠙ Reading data⠹ Reading data⠸ Reading data⠼ Reading data⠴ Reading data⠦ Reading data⠧ Reading data⠇ Reading data⠏ Reading data⠋ Reading data⠙ Reading data⠹ Reading data⠸ Reading data⠼ Reading data⠴ Reading data⠦ Reading data⠧ Reading data⠇ Reading data⠏ Reading data⠋ Reading data⠙ Reading data⠹ Reading data⠸ Reading data⠼ Reading data⠴ Reading data⠦ Reading data⠧ Reading data⠇ Reading data⠏ Reading data⠋ Reading data⠙ Reading data⠹ Reading data⠸ Reading data⠼ Reading data⠴ Reading data⠦ Reading data⠧ Reading data⠇ Reading data⠏ Reading data⠋ Reading data⠙ Reading data⠹ Reading data⠸ Reading data⠼ Reading data⠴ Reading data⠦ Reading data⠧ Reading data⠇ Reading data⠏ Reading data⠋ Reading data⠙ Reading data⠹ Reading data⠸ Reading data⠼ Reading data⠴ Reading data⠦ Reading data⠧ Reading data⠇ Reading data⠏ Reading data⠋ Reading data⠙ Reading data⠹ Reading data⠸ Reading data⠼ Reading data⠴ Reading data⠦ Reading data⠧ Reading data⠇ Reading data⠏ Reading data⠋ Reading data⠙ Reading data⠹ Reading data⠸ Reading data⠼ Reading data⠴ Reading data⠦ Reading data⠧ Reading data⠇ Reading data⠏ Reading data⠋ Reading data⠙ Reading data⠹ Reading data⠸ Reading data⠼ Reading data⠴ Reading data⠦ Reading data⠧ Reading data⠇ Reading data⠏ Reading data⠋ Reading data⠙ Reading data⠹ Reading data⠸ Reading data⠼ Reading data⠴ Reading data⠦ Reading data⠧ Reading data⠇ Reading data⠏ Reading data⠋ Reading data⠙ Reading data⠹ Reading data⠸ Reading data⠼ Reading data⠴ Reading data⠦ Reading data⠧ Reading data⠇ Reading data⠏ Reading data⠋ Reading data⠙ Reading data⠹ Reading data⠸ Reading data⠼ Reading data⠴ Reading data⠦ Reading data⠧ Reading data⠇ Reading data⠏ Reading data⠋ Reading data⠙ Reading data⠹ Reading data⠸ Reading data⠼ Reading data⠴ Reading data⠦ Reading data⠧ Reading data⠇ Reading data⠏ Reading data⠋ Reading data Reading data\n"
     ]
    },
    {
     "data": {
      "text/plain": [
       "<halo.halo.Halo at 0x7f20bc618850>"
      ]
     },
     "execution_count": 33,
     "metadata": {},
     "output_type": "execute_result"
    },
    {
     "name": "stdout",
     "output_type": "stream",
     "text": [
      "\r"
     ]
    }
   ],
   "source": [
    "spinner.start('Reading data')\n",
    "train = pd.read_csv('/home/melgazar9/Downloads/latest_signals_dataset/example_training_data_yahoo.csv')\n",
    "tournament = pd.read_csv('/home/melgazar9/Downloads/latest_signals_dataset/example_tournament_data_yahoo.csv')\n",
    "spinner.succeed()"
   ]
  },
  {
   "cell_type": "code",
   "execution_count": 58,
   "id": "26e5a88a",
   "metadata": {},
   "outputs": [
    {
     "name": "stdout",
     "output_type": "stream",
     "text": [
      "\r"
     ]
    }
   ],
   "source": [
    "from sklearn.decomposition import PCA"
   ]
  },
  {
   "cell_type": "code",
   "execution_count": 73,
   "id": "fb8b7e18",
   "metadata": {},
   "outputs": [
    {
     "name": "stdout",
     "output_type": "stream",
     "text": [
      "\r"
     ]
    }
   ],
   "source": [
    "tmp = Pipeline(steps=[\n",
    "    ('pca', PCA(n_components=)),\n",
    "    ('model', XGBRegressor(colsample_bytree=0.8,\n",
    "                         gamma=0.01,\n",
    "                         learning_rate=0.05,\n",
    "                         max_depth=5,\n",
    "                         min_child_weight=1,\n",
    "                         n_estimators=100,\n",
    "                         n_jobs=NUM_WORKERS,\n",
    "                         random_state=0,\n",
    "                         subsample=0.7))\n",
    "                     ]).fit(train[['feature_RSI_14_adj_close_quintile_lag_1',\n",
    "       'feature_RSI_14_adj_close_quintile_lag_2',\n",
    "       'feature_RSI_14_adj_close_quintile_lag_3',\n",
    "       'feature_RSI_14_adj_close_quintile_lag_4',\n",
    "       'feature_RSI_14_adj_close_quintile_lag_5']], train['target_20d'])"
   ]
  },
  {
   "cell_type": "code",
   "execution_count": 75,
   "id": "04294ad5",
   "metadata": {},
   "outputs": [
    {
     "data": {
      "text/plain": [
       "<AxesSubplot:ylabel='Frequency'>"
      ]
     },
     "execution_count": 75,
     "metadata": {},
     "output_type": "execute_result"
    },
    {
     "data": {
      "image/png": "[encoded data removed]",
      "text/plain": [
       "<Figure size 432x288 with 1 Axes>"
      ]
     },
     "metadata": {
      "needs_background": "light"
     },
     "output_type": "display_data"
    },
    {
     "name": "stdout",
     "output_type": "stream",
     "text": [
      "\r"
     ]
    }
   ],
   "source": [
    "preds = tmp.predict(train[['feature_RSI_14_adj_close_quintile_lag_1',\n",
    "       'feature_RSI_14_adj_close_quintile_lag_2',\n",
    "       'feature_RSI_14_adj_close_quintile_lag_3',\n",
    "       'feature_RSI_14_adj_close_quintile_lag_4',\n",
    "       'feature_RSI_14_adj_close_quintile_lag_5']])\n",
    "pd.Series(preds).plot(kind='hist')"
   ]
  },
  {
   "cell_type": "code",
   "execution_count": 76,
   "id": "c987dacf",
   "metadata": {},
   "outputs": [
    {
     "data": {
      "text/plain": [
       "friday_date     5391\n",
       "data_type       5391\n",
       "target_4d       5391\n",
       "target_20d     23974\n",
       "target          5391\n",
       "dtype: int64"
      ]
     },
     "execution_count": 76,
     "metadata": {},
     "output_type": "execute_result"
    },
    {
     "name": "stdout",
     "output_type": "stream",
     "text": [
      "\r"
     ]
    }
   ],
   "source": [
    "tournament.isnull().sum()[tournament.isnull().sum()>0]"
   ]
  },
  {
   "cell_type": "code",
   "execution_count": 77,
   "id": "b8b62180",
   "metadata": {},
   "outputs": [
    {
     "name": "stdout",
     "output_type": "stream",
     "text": [
      "\r"
     ]
    }
   ],
   "source": [
    "tournament['data_type'].fillna('live', inplace=True)"
   ]
  },
  {
   "cell_type": "code",
   "execution_count": 81,
   "id": "bdde89bf",
   "metadata": {},
   "outputs": [
    {
     "data": {
      "text/html": [
       "<div>\n",
       "<style scoped>\n",
       "    .dataframe tbody tr th:only-of-type {\n",
       "        vertical-align: middle;\n",
       "    }\n",
       "\n",
       "    .dataframe tbody tr th {\n",
       "        vertical-align: top;\n",
       "    }\n",
       "\n",
       "    .dataframe thead th {\n",
       "        text-align: right;\n",
       "    }\n",
       "</style>\n",
       "<table border=\"1\" class=\"dataframe\">\n",
       "  <thead>\n",
       "    <tr style=\"text-align: right;\">\n",
       "      <th></th>\n",
       "      <th></th>\n",
       "      <th>date</th>\n",
       "      <th>bloomberg_ticker</th>\n",
       "      <th>yahoo_ticker</th>\n",
       "      <th>adj_close_1d</th>\n",
       "      <th>close_1d</th>\n",
       "      <th>high_1d</th>\n",
       "      <th>low_1d</th>\n",
       "      <th>open_1d</th>\n",
       "      <th>volume_1d</th>\n",
       "      <th>date_localized</th>\n",
       "      <th>...</th>\n",
       "      <th>high_move_pct_1h_14_ewm_mean</th>\n",
       "      <th>high_move_pct_change_1h_14_ewm_mean</th>\n",
       "      <th>low_move_1h_14_ewm_mean</th>\n",
       "      <th>low_move_pct_1h_14_ewm_mean</th>\n",
       "      <th>low_move_pct_change_1h_14_ewm_mean</th>\n",
       "      <th>move_1d_iar_ewm_mean</th>\n",
       "      <th>high_move_1d_iar_ewm_mean</th>\n",
       "      <th>low_move_1d_iar_ewm_mean</th>\n",
       "      <th>dataset_split</th>\n",
       "      <th>XGBRegressor_pred</th>\n",
       "    </tr>\n",
       "    <tr>\n",
       "      <th>bloomberg_ticker</th>\n",
       "      <th></th>\n",
       "      <th></th>\n",
       "      <th></th>\n",
       "      <th></th>\n",
       "      <th></th>\n",
       "      <th></th>\n",
       "      <th></th>\n",
       "      <th></th>\n",
       "      <th></th>\n",
       "      <th></th>\n",
       "      <th></th>\n",
       "      <th></th>\n",
       "      <th></th>\n",
       "      <th></th>\n",
       "      <th></th>\n",
       "      <th></th>\n",
       "      <th></th>\n",
       "      <th></th>\n",
       "      <th></th>\n",
       "      <th></th>\n",
       "      <th></th>\n",
       "      <th></th>\n",
       "    </tr>\n",
       "  </thead>\n",
       "  <tbody>\n",
       "    <tr>\n",
       "      <th rowspan=\"5\" valign=\"top\">000060 KS</th>\n",
       "      <th>0</th>\n",
       "      <td>2015-02-06</td>\n",
       "      <td>000060 KS</td>\n",
       "      <td>000060.KS</td>\n",
       "      <td>9012.48633</td>\n",
       "      <td>12450.00000</td>\n",
       "      <td>12550.00000</td>\n",
       "      <td>12300.00000</td>\n",
       "      <td>12400.00000</td>\n",
       "      <td>230705.00000</td>\n",
       "      <td>2015-02-05 18:00:00-06:00</td>\n",
       "      <td>...</td>\n",
       "      <td>NaN</td>\n",
       "      <td>NaN</td>\n",
       "      <td>NaN</td>\n",
       "      <td>NaN</td>\n",
       "      <td>NaN</td>\n",
       "      <td>-92.44505</td>\n",
       "      <td>433.65385</td>\n",
       "      <td>-805.37190</td>\n",
       "      <td>train</td>\n",
       "      <td>0.51779</td>\n",
       "    </tr>\n",
       "    <tr>\n",
       "      <th>1</th>\n",
       "      <td>2015-02-13</td>\n",
       "      <td>000060 KS</td>\n",
       "      <td>000060.KS</td>\n",
       "      <td>9084.87500</td>\n",
       "      <td>12550.00000</td>\n",
       "      <td>12550.00000</td>\n",
       "      <td>12350.00000</td>\n",
       "      <td>12500.00000</td>\n",
       "      <td>213433.00000</td>\n",
       "      <td>2015-02-12 18:00:00-06:00</td>\n",
       "      <td>...</td>\n",
       "      <td>NaN</td>\n",
       "      <td>NaN</td>\n",
       "      <td>NaN</td>\n",
       "      <td>NaN</td>\n",
       "      <td>NaN</td>\n",
       "      <td>35.91034</td>\n",
       "      <td>511.25343</td>\n",
       "      <td>-935.30220</td>\n",
       "      <td>train</td>\n",
       "      <td>0.51905</td>\n",
       "    </tr>\n",
       "    <tr>\n",
       "      <th>2</th>\n",
       "      <td>2015-02-27</td>\n",
       "      <td>000060 KS</td>\n",
       "      <td>000060.KS</td>\n",
       "      <td>9483.01660</td>\n",
       "      <td>13100.00000</td>\n",
       "      <td>13700.00000</td>\n",
       "      <td>12950.00000</td>\n",
       "      <td>13700.00000</td>\n",
       "      <td>340504.00000</td>\n",
       "      <td>2015-02-26 18:00:00-06:00</td>\n",
       "      <td>...</td>\n",
       "      <td>NaN</td>\n",
       "      <td>NaN</td>\n",
       "      <td>NaN</td>\n",
       "      <td>NaN</td>\n",
       "      <td>NaN</td>\n",
       "      <td>-388.09451</td>\n",
       "      <td>537.08841</td>\n",
       "      <td>-1478.68253</td>\n",
       "      <td>train</td>\n",
       "      <td>0.51638</td>\n",
       "    </tr>\n",
       "    <tr>\n",
       "      <th>3</th>\n",
       "      <td>2015-03-06</td>\n",
       "      <td>000060 KS</td>\n",
       "      <td>000060.KS</td>\n",
       "      <td>8903.90137</td>\n",
       "      <td>12300.00000</td>\n",
       "      <td>12550.00000</td>\n",
       "      <td>12200.00000</td>\n",
       "      <td>12500.00000</td>\n",
       "      <td>424563.00000</td>\n",
       "      <td>2015-03-05 18:00:00-06:00</td>\n",
       "      <td>...</td>\n",
       "      <td>NaN</td>\n",
       "      <td>NaN</td>\n",
       "      <td>NaN</td>\n",
       "      <td>NaN</td>\n",
       "      <td>NaN</td>\n",
       "      <td>-662.71212</td>\n",
       "      <td>579.03160</td>\n",
       "      <td>-1859.61890</td>\n",
       "      <td>train</td>\n",
       "      <td>0.52259</td>\n",
       "    </tr>\n",
       "    <tr>\n",
       "      <th>4</th>\n",
       "      <td>2015-03-13</td>\n",
       "      <td>000060 KS</td>\n",
       "      <td>000060.KS</td>\n",
       "      <td>8650.53711</td>\n",
       "      <td>11950.00000</td>\n",
       "      <td>12300.00000</td>\n",
       "      <td>11900.00000</td>\n",
       "      <td>12200.00000</td>\n",
       "      <td>572364.00000</td>\n",
       "      <td>2015-03-12 19:00:00-05:00</td>\n",
       "      <td>...</td>\n",
       "      <td>NaN</td>\n",
       "      <td>NaN</td>\n",
       "      <td>NaN</td>\n",
       "      <td>NaN</td>\n",
       "      <td>NaN</td>\n",
       "      <td>-920.90841</td>\n",
       "      <td>659.67857</td>\n",
       "      <td>-2186.55624</td>\n",
       "      <td>train</td>\n",
       "      <td>0.52105</td>\n",
       "    </tr>\n",
       "    <tr>\n",
       "      <th>...</th>\n",
       "      <th>...</th>\n",
       "      <td>...</td>\n",
       "      <td>...</td>\n",
       "      <td>...</td>\n",
       "      <td>...</td>\n",
       "      <td>...</td>\n",
       "      <td>...</td>\n",
       "      <td>...</td>\n",
       "      <td>...</td>\n",
       "      <td>...</td>\n",
       "      <td>...</td>\n",
       "      <td>...</td>\n",
       "      <td>...</td>\n",
       "      <td>...</td>\n",
       "      <td>...</td>\n",
       "      <td>...</td>\n",
       "      <td>...</td>\n",
       "      <td>...</td>\n",
       "      <td>...</td>\n",
       "      <td>...</td>\n",
       "      <td>...</td>\n",
       "      <td>...</td>\n",
       "    </tr>\n",
       "    <tr>\n",
       "      <th rowspan=\"5\" valign=\"top\">ZZZ CN</th>\n",
       "      <th>187</th>\n",
       "      <td>2021-12-10</td>\n",
       "      <td>ZZZ CN</td>\n",
       "      <td>ZZZ.TO</td>\n",
       "      <td>37.16832</td>\n",
       "      <td>37.39000</td>\n",
       "      <td>38.03000</td>\n",
       "      <td>37.15000</td>\n",
       "      <td>38.03000</td>\n",
       "      <td>49800.00000</td>\n",
       "      <td>2021-12-09 18:00:00-06:00</td>\n",
       "      <td>...</td>\n",
       "      <td>0.00254</td>\n",
       "      <td>0.59356</td>\n",
       "      <td>-0.06420</td>\n",
       "      <td>-0.00173</td>\n",
       "      <td>0.30040</td>\n",
       "      <td>-0.79535</td>\n",
       "      <td>58.04676</td>\n",
       "      <td>-75.05968</td>\n",
       "      <td>test</td>\n",
       "      <td>0.45013</td>\n",
       "    </tr>\n",
       "    <tr>\n",
       "      <th>188</th>\n",
       "      <td>2021-12-17</td>\n",
       "      <td>ZZZ CN</td>\n",
       "      <td>ZZZ.TO</td>\n",
       "      <td>36.61164</td>\n",
       "      <td>36.83000</td>\n",
       "      <td>37.02000</td>\n",
       "      <td>35.69000</td>\n",
       "      <td>35.83000</td>\n",
       "      <td>98200.00000</td>\n",
       "      <td>2021-12-16 18:00:00-06:00</td>\n",
       "      <td>...</td>\n",
       "      <td>0.00103</td>\n",
       "      <td>-0.33550</td>\n",
       "      <td>-0.20807</td>\n",
       "      <td>-0.00562</td>\n",
       "      <td>3.16656</td>\n",
       "      <td>0.40155</td>\n",
       "      <td>58.91558</td>\n",
       "      <td>-75.43655</td>\n",
       "      <td>test</td>\n",
       "      <td>0.48605</td>\n",
       "    </tr>\n",
       "    <tr>\n",
       "      <th>189</th>\n",
       "      <td>2021-12-24</td>\n",
       "      <td>ZZZ CN</td>\n",
       "      <td>ZZZ.TO</td>\n",
       "      <td>37.32737</td>\n",
       "      <td>37.55000</td>\n",
       "      <td>37.76000</td>\n",
       "      <td>37.28000</td>\n",
       "      <td>37.50000</td>\n",
       "      <td>14000.00000</td>\n",
       "      <td>2021-12-23 18:00:00-06:00</td>\n",
       "      <td>...</td>\n",
       "      <td>0.00103</td>\n",
       "      <td>-0.11183</td>\n",
       "      <td>-0.20807</td>\n",
       "      <td>-0.00562</td>\n",
       "      <td>1.05552</td>\n",
       "      <td>0.83385</td>\n",
       "      <td>59.37852</td>\n",
       "      <td>-75.70884</td>\n",
       "      <td>test</td>\n",
       "      <td>0.47621</td>\n",
       "    </tr>\n",
       "    <tr>\n",
       "      <th>190</th>\n",
       "      <td>2021-12-31</td>\n",
       "      <td>ZZZ CN</td>\n",
       "      <td>ZZZ.TO</td>\n",
       "      <td>37.30749</td>\n",
       "      <td>37.53000</td>\n",
       "      <td>37.61000</td>\n",
       "      <td>37.10000</td>\n",
       "      <td>37.37000</td>\n",
       "      <td>32200.00000</td>\n",
       "      <td>2021-12-30 18:00:00-06:00</td>\n",
       "      <td>...</td>\n",
       "      <td>0.00727</td>\n",
       "      <td>19.96603</td>\n",
       "      <td>-0.02972</td>\n",
       "      <td>-0.00080</td>\n",
       "      <td>-0.31483</td>\n",
       "      <td>1.08462</td>\n",
       "      <td>59.69283</td>\n",
       "      <td>-75.97961</td>\n",
       "      <td>test</td>\n",
       "      <td>0.47743</td>\n",
       "    </tr>\n",
       "    <tr>\n",
       "      <th>191</th>\n",
       "      <td>2022-01-07</td>\n",
       "      <td>ZZZ CN</td>\n",
       "      <td>ZZZ.TO</td>\n",
       "      <td>36.44265</td>\n",
       "      <td>36.66000</td>\n",
       "      <td>36.89000</td>\n",
       "      <td>35.73000</td>\n",
       "      <td>36.50000</td>\n",
       "      <td>68300.00000</td>\n",
       "      <td>2022-01-06 18:00:00-06:00</td>\n",
       "      <td>...</td>\n",
       "      <td>0.00321</td>\n",
       "      <td>6.11770</td>\n",
       "      <td>-0.14512</td>\n",
       "      <td>-0.00394</td>\n",
       "      <td>-0.31483</td>\n",
       "      <td>1.27487</td>\n",
       "      <td>60.05760</td>\n",
       "      <td>-76.58320</td>\n",
       "      <td>test</td>\n",
       "      <td>0.47986</td>\n",
       "    </tr>\n",
       "  </tbody>\n",
       "</table>\n",
       "<p>1341495 rows × 917 columns</p>\n",
       "</div>"
      ],
      "text/plain": [
       "                           date bloomberg_ticker yahoo_ticker  adj_close_1d  \\\n",
       "bloomberg_ticker                                                              \n",
       "000060 KS        0   2015-02-06        000060 KS    000060.KS    9012.48633   \n",
       "                 1   2015-02-13        000060 KS    000060.KS    9084.87500   \n",
       "                 2   2015-02-27        000060 KS    000060.KS    9483.01660   \n",
       "                 3   2015-03-06        000060 KS    000060.KS    8903.90137   \n",
       "                 4   2015-03-13        000060 KS    000060.KS    8650.53711   \n",
       "...                         ...              ...          ...           ...   \n",
       "ZZZ CN           187 2021-12-10           ZZZ CN       ZZZ.TO      37.16832   \n",
       "                 188 2021-12-17           ZZZ CN       ZZZ.TO      36.61164   \n",
       "                 189 2021-12-24           ZZZ CN       ZZZ.TO      37.32737   \n",
       "                 190 2021-12-31           ZZZ CN       ZZZ.TO      37.30749   \n",
       "                 191 2022-01-07           ZZZ CN       ZZZ.TO      36.44265   \n",
       "\n",
       "                        close_1d     high_1d      low_1d     open_1d  \\\n",
       "bloomberg_ticker                                                       \n",
       "000060 KS        0   12450.00000 12550.00000 12300.00000 12400.00000   \n",
       "                 1   12550.00000 12550.00000 12350.00000 12500.00000   \n",
       "                 2   13100.00000 13700.00000 12950.00000 13700.00000   \n",
       "                 3   12300.00000 12550.00000 12200.00000 12500.00000   \n",
       "                 4   11950.00000 12300.00000 11900.00000 12200.00000   \n",
       "...                          ...         ...         ...         ...   \n",
       "ZZZ CN           187    37.39000    38.03000    37.15000    38.03000   \n",
       "                 188    36.83000    37.02000    35.69000    35.83000   \n",
       "                 189    37.55000    37.76000    37.28000    37.50000   \n",
       "                 190    37.53000    37.61000    37.10000    37.37000   \n",
       "                 191    36.66000    36.89000    35.73000    36.50000   \n",
       "\n",
       "                        volume_1d            date_localized  ...  \\\n",
       "bloomberg_ticker                                             ...   \n",
       "000060 KS        0   230705.00000 2015-02-05 18:00:00-06:00  ...   \n",
       "                 1   213433.00000 2015-02-12 18:00:00-06:00  ...   \n",
       "                 2   340504.00000 2015-02-26 18:00:00-06:00  ...   \n",
       "                 3   424563.00000 2015-03-05 18:00:00-06:00  ...   \n",
       "                 4   572364.00000 2015-03-12 19:00:00-05:00  ...   \n",
       "...                           ...                       ...  ...   \n",
       "ZZZ CN           187  49800.00000 2021-12-09 18:00:00-06:00  ...   \n",
       "                 188  98200.00000 2021-12-16 18:00:00-06:00  ...   \n",
       "                 189  14000.00000 2021-12-23 18:00:00-06:00  ...   \n",
       "                 190  32200.00000 2021-12-30 18:00:00-06:00  ...   \n",
       "                 191  68300.00000 2022-01-06 18:00:00-06:00  ...   \n",
       "\n",
       "                      high_move_pct_1h_14_ewm_mean  \\\n",
       "bloomberg_ticker                                     \n",
       "000060 KS        0                             NaN   \n",
       "                 1                             NaN   \n",
       "                 2                             NaN   \n",
       "                 3                             NaN   \n",
       "                 4                             NaN   \n",
       "...                                            ...   \n",
       "ZZZ CN           187                       0.00254   \n",
       "                 188                       0.00103   \n",
       "                 189                       0.00103   \n",
       "                 190                       0.00727   \n",
       "                 191                       0.00321   \n",
       "\n",
       "                      high_move_pct_change_1h_14_ewm_mean  \\\n",
       "bloomberg_ticker                                            \n",
       "000060 KS        0                                    NaN   \n",
       "                 1                                    NaN   \n",
       "                 2                                    NaN   \n",
       "                 3                                    NaN   \n",
       "                 4                                    NaN   \n",
       "...                                                   ...   \n",
       "ZZZ CN           187                              0.59356   \n",
       "                 188                             -0.33550   \n",
       "                 189                             -0.11183   \n",
       "                 190                             19.96603   \n",
       "                 191                              6.11770   \n",
       "\n",
       "                      low_move_1h_14_ewm_mean  low_move_pct_1h_14_ewm_mean  \\\n",
       "bloomberg_ticker                                                             \n",
       "000060 KS        0                        NaN                          NaN   \n",
       "                 1                        NaN                          NaN   \n",
       "                 2                        NaN                          NaN   \n",
       "                 3                        NaN                          NaN   \n",
       "                 4                        NaN                          NaN   \n",
       "...                                       ...                          ...   \n",
       "ZZZ CN           187                 -0.06420                     -0.00173   \n",
       "                 188                 -0.20807                     -0.00562   \n",
       "                 189                 -0.20807                     -0.00562   \n",
       "                 190                 -0.02972                     -0.00080   \n",
       "                 191                 -0.14512                     -0.00394   \n",
       "\n",
       "                      low_move_pct_change_1h_14_ewm_mean  \\\n",
       "bloomberg_ticker                                           \n",
       "000060 KS        0                                   NaN   \n",
       "                 1                                   NaN   \n",
       "                 2                                   NaN   \n",
       "                 3                                   NaN   \n",
       "                 4                                   NaN   \n",
       "...                                                  ...   \n",
       "ZZZ CN           187                             0.30040   \n",
       "                 188                             3.16656   \n",
       "                 189                             1.05552   \n",
       "                 190                            -0.31483   \n",
       "                 191                            -0.31483   \n",
       "\n",
       "                      move_1d_iar_ewm_mean  high_move_1d_iar_ewm_mean  \\\n",
       "bloomberg_ticker                                                        \n",
       "000060 KS        0               -92.44505                  433.65385   \n",
       "                 1                35.91034                  511.25343   \n",
       "                 2              -388.09451                  537.08841   \n",
       "                 3              -662.71212                  579.03160   \n",
       "                 4              -920.90841                  659.67857   \n",
       "...                                    ...                        ...   \n",
       "ZZZ CN           187              -0.79535                   58.04676   \n",
       "                 188               0.40155                   58.91558   \n",
       "                 189               0.83385                   59.37852   \n",
       "                 190               1.08462                   59.69283   \n",
       "                 191               1.27487                   60.05760   \n",
       "\n",
       "                      low_move_1d_iar_ewm_mean  dataset_split  \\\n",
       "bloomberg_ticker                                                \n",
       "000060 KS        0                  -805.37190          train   \n",
       "                 1                  -935.30220          train   \n",
       "                 2                 -1478.68253          train   \n",
       "                 3                 -1859.61890          train   \n",
       "                 4                 -2186.55624          train   \n",
       "...                                        ...            ...   \n",
       "ZZZ CN           187                 -75.05968           test   \n",
       "                 188                 -75.43655           test   \n",
       "                 189                 -75.70884           test   \n",
       "                 190                 -75.97961           test   \n",
       "                 191                 -76.58320           test   \n",
       "\n",
       "                      XGBRegressor_pred  \n",
       "bloomberg_ticker                         \n",
       "000060 KS        0              0.51779  \n",
       "                 1              0.51905  \n",
       "                 2              0.51638  \n",
       "                 3              0.52259  \n",
       "                 4              0.52105  \n",
       "...                                 ...  \n",
       "ZZZ CN           187            0.45013  \n",
       "                 188            0.48605  \n",
       "                 189            0.47621  \n",
       "                 190            0.47743  \n",
       "                 191            0.47986  \n",
       "\n",
       "[1341495 rows x 917 columns]"
      ]
     },
     "execution_count": 81,
     "metadata": {},
     "output_type": "execute_result"
    },
    {
     "name": "stdout",
     "output_type": "stream",
     "text": [
      "\r"
     ]
    }
   ],
   "source": [
    "model_dict['df_pred']"
   ]
  },
  {
   "cell_type": "code",
   "execution_count": 84,
   "id": "e502ceaf",
   "metadata": {},
   "outputs": [
    {
     "data": {
      "text/html": [
       "<div>\n",
       "<style scoped>\n",
       "    .dataframe tbody tr th:only-of-type {\n",
       "        vertical-align: middle;\n",
       "    }\n",
       "\n",
       "    .dataframe tbody tr th {\n",
       "        vertical-align: top;\n",
       "    }\n",
       "\n",
       "    .dataframe thead th {\n",
       "        text-align: right;\n",
       "    }\n",
       "</style>\n",
       "<table border=\"1\" class=\"dataframe\">\n",
       "  <thead>\n",
       "    <tr style=\"text-align: right;\">\n",
       "      <th></th>\n",
       "      <th>date</th>\n",
       "      <th>bloomberg_ticker</th>\n",
       "    </tr>\n",
       "  </thead>\n",
       "  <tbody>\n",
       "    <tr>\n",
       "      <th>0</th>\n",
       "      <td>2015-02-06</td>\n",
       "      <td>000060 KS</td>\n",
       "    </tr>\n",
       "    <tr>\n",
       "      <th>1</th>\n",
       "      <td>2015-02-13</td>\n",
       "      <td>000060 KS</td>\n",
       "    </tr>\n",
       "    <tr>\n",
       "      <th>2</th>\n",
       "      <td>2015-02-27</td>\n",
       "      <td>000060 KS</td>\n",
       "    </tr>\n",
       "    <tr>\n",
       "      <th>3</th>\n",
       "      <td>2015-03-06</td>\n",
       "      <td>000060 KS</td>\n",
       "    </tr>\n",
       "    <tr>\n",
       "      <th>4</th>\n",
       "      <td>2015-03-13</td>\n",
       "      <td>000060 KS</td>\n",
       "    </tr>\n",
       "    <tr>\n",
       "      <th>...</th>\n",
       "      <td>...</td>\n",
       "      <td>...</td>\n",
       "    </tr>\n",
       "    <tr>\n",
       "      <th>1341490</th>\n",
       "      <td>2021-12-10</td>\n",
       "      <td>ZZZ CN</td>\n",
       "    </tr>\n",
       "    <tr>\n",
       "      <th>1341491</th>\n",
       "      <td>2021-12-17</td>\n",
       "      <td>ZZZ CN</td>\n",
       "    </tr>\n",
       "    <tr>\n",
       "      <th>1341492</th>\n",
       "      <td>2021-12-24</td>\n",
       "      <td>ZZZ CN</td>\n",
       "    </tr>\n",
       "    <tr>\n",
       "      <th>1341493</th>\n",
       "      <td>2021-12-31</td>\n",
       "      <td>ZZZ CN</td>\n",
       "    </tr>\n",
       "    <tr>\n",
       "      <th>1341494</th>\n",
       "      <td>2022-01-07</td>\n",
       "      <td>ZZZ CN</td>\n",
       "    </tr>\n",
       "  </tbody>\n",
       "</table>\n",
       "<p>1341495 rows × 2 columns</p>\n",
       "</div>"
      ],
      "text/plain": [
       "              date bloomberg_ticker\n",
       "0       2015-02-06        000060 KS\n",
       "1       2015-02-13        000060 KS\n",
       "2       2015-02-27        000060 KS\n",
       "3       2015-03-06        000060 KS\n",
       "4       2015-03-13        000060 KS\n",
       "...            ...              ...\n",
       "1341490 2021-12-10           ZZZ CN\n",
       "1341491 2021-12-17           ZZZ CN\n",
       "1341492 2021-12-24           ZZZ CN\n",
       "1341493 2021-12-31           ZZZ CN\n",
       "1341494 2022-01-07           ZZZ CN\n",
       "\n",
       "[1341495 rows x 2 columns]"
      ]
     },
     "execution_count": 84,
     "metadata": {},
     "output_type": "execute_result"
    },
    {
     "name": "stdout",
     "output_type": "stream",
     "text": [
      "\r"
     ]
    }
   ],
   "source": [
    "model_dict['df_pred'][['date', 'bloomberg_ticker']].reset_index(drop=True)"
   ]
  },
  {
   "cell_type": "code",
   "execution_count": 93,
   "id": "8eca4185",
   "metadata": {},
   "outputs": [
    {
     "name": "stdout",
     "output_type": "stream",
     "text": [
      "\r"
     ]
    }
   ],
   "source": [
    "model_dict['df_pred'].reset_index(drop=True, inplace=True)"
   ]
  },
  {
   "cell_type": "code",
   "execution_count": 89,
   "id": "24e9165f",
   "metadata": {},
   "outputs": [
    {
     "name": "stdout",
     "output_type": "stream",
     "text": [
      "\r"
     ]
    }
   ],
   "source": [
    "tournament['date'] = pd.to_datetime(tournament['date'])"
   ]
  },
  {
   "cell_type": "code",
   "execution_count": 98,
   "id": "cfbbcf2e",
   "metadata": {},
   "outputs": [
    {
     "name": "stdout",
     "output_type": "stream",
     "text": [
      "\r"
     ]
    }
   ],
   "source": [
    "df_live = pd.merge(tournament[tournament['data_type']=='live'][['date', 'bloomberg_ticker']], model_dict['df_pred'], on=['date', 'bloomberg_ticker'])"
   ]
  },
  {
   "cell_type": "code",
   "execution_count": 99,
   "id": "e393b90e",
   "metadata": {},
   "outputs": [
    {
     "data": {
      "text/html": [
       "<div>\n",
       "<style scoped>\n",
       "    .dataframe tbody tr th:only-of-type {\n",
       "        vertical-align: middle;\n",
       "    }\n",
       "\n",
       "    .dataframe tbody tr th {\n",
       "        vertical-align: top;\n",
       "    }\n",
       "\n",
       "    .dataframe thead th {\n",
       "        text-align: right;\n",
       "    }\n",
       "</style>\n",
       "<table border=\"1\" class=\"dataframe\">\n",
       "  <thead>\n",
       "    <tr style=\"text-align: right;\">\n",
       "      <th></th>\n",
       "      <th>date</th>\n",
       "      <th>bloomberg_ticker</th>\n",
       "      <th>yahoo_ticker</th>\n",
       "      <th>adj_close_1d</th>\n",
       "      <th>close_1d</th>\n",
       "      <th>high_1d</th>\n",
       "      <th>low_1d</th>\n",
       "      <th>open_1d</th>\n",
       "      <th>volume_1d</th>\n",
       "      <th>date_localized</th>\n",
       "      <th>...</th>\n",
       "      <th>high_move_pct_1h_14_ewm_mean</th>\n",
       "      <th>high_move_pct_change_1h_14_ewm_mean</th>\n",
       "      <th>low_move_1h_14_ewm_mean</th>\n",
       "      <th>low_move_pct_1h_14_ewm_mean</th>\n",
       "      <th>low_move_pct_change_1h_14_ewm_mean</th>\n",
       "      <th>move_1d_iar_ewm_mean</th>\n",
       "      <th>high_move_1d_iar_ewm_mean</th>\n",
       "      <th>low_move_1d_iar_ewm_mean</th>\n",
       "      <th>dataset_split</th>\n",
       "      <th>XGBRegressor_pred</th>\n",
       "    </tr>\n",
       "  </thead>\n",
       "  <tbody>\n",
       "  </tbody>\n",
       "</table>\n",
       "<p>0 rows × 917 columns</p>\n",
       "</div>"
      ],
      "text/plain": [
       "Empty DataFrame\n",
       "Columns: [date, bloomberg_ticker, yahoo_ticker, adj_close_1d, close_1d, high_1d, low_1d, open_1d, volume_1d, date_localized, day, week, month, dayofweek, dayofyear, quarter, is_month_start, is_month_end, is_quarter_start, is_quarter_end, is_holiday, adj_close_1h_0, adj_close_1h_1, adj_close_1h_2, adj_close_1h_3, adj_close_1h_4, adj_close_1h_5, adj_close_1h_6, adj_close_1h_7, adj_close_1h_8, adj_close_1h_9, adj_close_1h_10, adj_close_1h_11, adj_close_1h_12, adj_close_1h_13, adj_close_1h_14, close_1h_0, close_1h_1, close_1h_2, close_1h_3, close_1h_4, close_1h_5, close_1h_6, close_1h_7, close_1h_8, close_1h_9, close_1h_10, close_1h_11, close_1h_12, close_1h_13, close_1h_14, date_0, date_1, date_2, date_3, date_4, date_5, date_6, date_7, date_8, date_9, date_10, date_11, date_12, date_13, date_14, date_15, date_16, high_1h_0, high_1h_1, high_1h_2, high_1h_3, high_1h_4, high_1h_5, high_1h_6, high_1h_7, high_1h_8, high_1h_9, high_1h_10, high_1h_11, high_1h_12, high_1h_13, high_1h_14, low_1h_0, low_1h_1, low_1h_2, low_1h_3, low_1h_4, low_1h_5, low_1h_6, low_1h_7, low_1h_8, low_1h_9, low_1h_10, low_1h_11, low_1h_12, low_1h_13, low_1h_14, open_1h_0, open_1h_1, ...]\n",
       "Index: []\n",
       "\n",
       "[0 rows x 917 columns]"
      ]
     },
     "execution_count": 99,
     "metadata": {},
     "output_type": "execute_result"
    },
    {
     "name": "stdout",
     "output_type": "stream",
     "text": [
      "\r"
     ]
    }
   ],
   "source": [
    "df_live"
   ]
  },
  {
   "cell_type": "code",
   "execution_count": 97,
   "id": "62af3ca8",
   "metadata": {},
   "outputs": [
    {
     "data": {
      "text/plain": [
       "((1645216, 88), (1294835, 917), (405290, 917))"
      ]
     },
     "execution_count": 97,
     "metadata": {},
     "output_type": "execute_result"
    },
    {
     "name": "stdout",
     "output_type": "stream",
     "text": [
      "\r"
     ]
    }
   ],
   "source": [
    "tournament.shape, df_live.shape, model_dict['df_pred'][model_dict['df_pred']['dataset_split'].isin(['val', 'test'])].shape"
   ]
  },
  {
   "cell_type": "code",
   "execution_count": null,
   "id": "d79cabda",
   "metadata": {},
   "outputs": [],
   "source": []
  }
 ],
 "metadata": {
  "kernelspec": {
   "display_name": "Python 3 (ipykernel)",
   "language": "python",
   "name": "python3"
  },
  "language_info": {
   "codemirror_mode": {
    "name": "ipython",
    "version": 3
   },
   "file_extension": ".py",
   "mimetype": "text/x-python",
   "name": "python",
   "nbconvert_exporter": "python",
   "pygments_lexer": "ipython3",
   "version": "3.9.10"
  }
 },
 "nbformat": 4,
 "nbformat_minor": 5
}

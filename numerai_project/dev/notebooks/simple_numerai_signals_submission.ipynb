{
 "cells": [
  {
   "cell_type": "markdown",
   "id": "defeedfa",
   "metadata": {},
   "source": [
    "### HTML"
   ]
  },
  {
   "cell_type": "code",
   "execution_count": 52,
   "id": "1628118c",
   "metadata": {},
   "outputs": [
    {
     "name": "stdout",
     "output_type": "stream",
     "text": []
    }
   ],
   "source": [
    "# %%HTML \n",
    "# <script>\n",
    "#     function luc21893_refresh_cell(cell) {\n",
    "#         if( cell.luc21893 ) return;\n",
    "#         cell.luc21893 = true;\n",
    "#         console.debug('New code cell found...' );\n",
    "        \n",
    "#         var div = document.createElement('DIV');            \n",
    "#         cell.parentNode.insertBefore( div, cell.nextSibling );\n",
    "#         div.style.textAlign = 'right';\n",
    "#         var a = document.createElement('A');\n",
    "#         div.appendChild(a);\n",
    "#         a.href='#'\n",
    "#         a.luc21893 = cell;\n",
    "#         a.setAttribute( 'onclick', \"luc21893_toggle(this); return false;\" );\n",
    "\n",
    "#         cell.style.visibility='hidden';\n",
    "#         cell.style.position='absolute';\n",
    "#         a.innerHTML = '[show code]';        \n",
    "                \n",
    "#     }\n",
    "#     function luc21893_refresh() {                \n",
    "#         if( document.querySelector('.code_cell .input') == null ) {            \n",
    "#             // it apeears that I am in a exported html\n",
    "#             // hide this code\n",
    "#             var codeCells = document.querySelectorAll('.jp-InputArea')\n",
    "#             codeCells[0].style.visibility = 'hidden';\n",
    "#             codeCells[0].style.position = 'absolute';                        \n",
    "#             for( var i = 1; i < codeCells.length; i++ ) {\n",
    "#                 luc21893_refresh_cell(codeCells[i].parentNode)\n",
    "#             }\n",
    "#             window.onload = luc21893_refresh;\n",
    "#         }                 \n",
    "#         else {\n",
    "#             // it apperas that I am in a jupyter editor\n",
    "#             var codeCells = document.querySelectorAll('.code_cell .input')\n",
    "#             for( var i = 0; i < codeCells.length; i++ ) {\n",
    "#                 luc21893_refresh_cell(codeCells[i])\n",
    "#             }            \n",
    "#             window.setTimeout( luc21893_refresh, 1000 )\n",
    "#         }        \n",
    "#     }\n",
    "    \n",
    "#     function luc21893_toggle(a) {\n",
    "#         if( a.luc21893.style.visibility=='hidden' ) {\n",
    "#             a.luc21893.style.visibility='visible';        \n",
    "#             a.luc21893.style.position='';\n",
    "#             a.innerHTML = '[hide code]';\n",
    "#         }\n",
    "#         else {\n",
    "#             a.luc21893.style.visibility='hidden';        \n",
    "#             a.luc21893.style.position='absolute';\n",
    "#             a.innerHTML = '[show code]';\n",
    "#         }\n",
    "#     }\n",
    "    \n",
    "#     luc21893_refresh()\n",
    "# </script>"
   ]
  },
  {
   "cell_type": "markdown",
   "id": "86d52e0b",
   "metadata": {},
   "source": [
    "### imports"
   ]
  },
  {
   "cell_type": "code",
   "execution_count": 1,
   "id": "64d4767c",
   "metadata": {},
   "outputs": [
    {
     "name": "stderr",
     "output_type": "stream",
     "text": [
      "/home/melgazar9/scripts/github/trading/venv/lib/python3.9/site-packages/xgboost/compat.py:36: FutureWarning: pandas.Int64Index is deprecated and will be removed from pandas in a future version. Use pandas.Index with the appropriate dtype instead.\n",
      "  from pandas import MultiIndex, Int64Index\n"
     ]
    }
   ],
   "source": [
    "import pandas as pd\n",
    "from xgboost import XGBRegressor\n",
    "import numpy as np\n",
    "from sklearn.model_selection import train_test_split\n",
    "from sklearn.decomposition import PCA\n",
    "from sklearn.utils.validation import check_is_fitted\n",
    "from sklearn.base import TransformerMixin\n",
    "from sklearn.preprocessing import MinMaxScaler, StandardScaler, FunctionTransformer, OneHotEncoder\n",
    "from sklearn.compose import make_column_selector, ColumnTransformer\n",
    "from sklearn.pipeline import Pipeline, make_pipeline\n",
    "from sklearn.impute import SimpleImputer\n",
    "from category_encoders.target_encoder import TargetEncoder\n",
    "from skimpy import clean_columns\n",
    "\n",
    "import os"
   ]
  },
  {
   "cell_type": "markdown",
   "id": "2728e190",
   "metadata": {},
   "source": [
    "### load data"
   ]
  },
  {
   "cell_type": "code",
   "execution_count": 2,
   "id": "0b2ff796",
   "metadata": {},
   "outputs": [
    {
     "data": {
      "text/plain": [
       "((1039279, 88), (1639825, 88), (5391, 88))"
      ]
     },
     "execution_count": 2,
     "metadata": {},
     "output_type": "execute_result"
    }
   ],
   "source": [
    "df_train = pd.read_csv('~/Downloads/latest_signals_dataset/example_training_data_yahoo.csv')\n",
    "df_val = pd.read_csv('~/Downloads/latest_signals_dataset/example_tournament_data_yahoo.csv')\n",
    "df_val['data_type'].fillna('live', inplace=True)\n",
    "df_test = df_val[df_val['data_type']=='live']\n",
    "df_val = df_val[df_val['data_type']=='validation']\n",
    "df_train.shape, df_val.shape, df_test.shape"
   ]
  },
  {
   "cell_type": "code",
   "execution_count": 9,
   "id": "020201b2",
   "metadata": {},
   "outputs": [],
   "source": [
    "# df_numerai = pd.concat([df_train, df_val, df_test])\n",
    "\n",
    "# df_numerai['date'] = pd.to_datetime(df_numerai['date'])\n",
    "\n",
    "# df_yahoo = pd.read_feather('/media/melgazar9/HDD_10TB/trading/data/numerai/datasets/processed_data/df_numerai_build_2022-03-22.feather')\n",
    "# df_yahoo['date'] = pd.to_datetime(df_yahoo['date'])\n",
    "# assert df_yahoo['date'].dtype == df_numerai['date'].dtype\n",
    "\n",
    "# df_yahoo = pd.merge(df_yahoo,\n",
    "#                     df_numerai[[i for i in df_numerai.columns if i not in df_yahoo.columns] + ['date', 'bloomberg_ticker']],\n",
    "#                     on=['date', 'bloomberg_ticker'],\n",
    "#                     how='left')\n",
    "# cols_to_keep = [i for i in df_yahoo.isnull().sum()[df_yahoo.isnull().sum() < 1032435].index if i != 'index']\n",
    "\n",
    "# df_train = df_yahoo[df_yahoo['data_type'] == 'train']\n",
    "# df_val = df_yahoo[df_yahoo['data_type'] == 'val']\n",
    "# df_test = df_yahoo[df_yahoo['data_type'] == 'test']\n",
    "# df_train.shape, df_val.shape, df_test.shape"
   ]
  },
  {
   "cell_type": "markdown",
   "id": "92af1104",
   "metadata": {},
   "source": [
    "#### drop NA targets"
   ]
  },
  {
   "cell_type": "code",
   "execution_count": 44,
   "id": "2607d85b",
   "metadata": {},
   "outputs": [],
   "source": [
    "df_train.dropna(subset=['target_20d'], inplace=True)\n",
    "df_val.dropna(subset=['target_20d'], inplace=True)"
   ]
  },
  {
   "cell_type": "code",
   "execution_count": 45,
   "id": "dafdacc0",
   "metadata": {},
   "outputs": [],
   "source": [
    "assert df_train.shape[0] > 0, 'train has no rows'\n",
    "assert df_val.shape[0] > 0, 'val has no rows'\n",
    "assert df_test.shape[0] > 0, 'test has no rows'"
   ]
  },
  {
   "cell_type": "code",
   "execution_count": 46,
   "id": "17bfb714",
   "metadata": {},
   "outputs": [],
   "source": [
    "input_features = [i for i in df_train.filter(like='feature_').columns\n",
    "                  if not i.endswith('_close')\n",
    "                  and not i.endswith('_open')\n",
    "                  and i in df_test.columns]"
   ]
  },
  {
   "cell_type": "code",
   "execution_count": 47,
   "id": "6c785517",
   "metadata": {},
   "outputs": [
    {
     "data": {
      "text/plain": [
       "68"
      ]
     },
     "execution_count": 47,
     "metadata": {},
     "output_type": "execute_result"
    }
   ],
   "source": [
    "len(input_features)"
   ]
  },
  {
   "cell_type": "markdown",
   "id": "035ce959",
   "metadata": {},
   "source": [
    "### train test split"
   ]
  },
  {
   "cell_type": "code",
   "execution_count": 48,
   "id": "8d52c8a0",
   "metadata": {},
   "outputs": [],
   "source": [
    "X_train, y_train = df_train[input_features], df_train['target_20d']\n",
    "X_val, y_val = df_val[input_features], df_val['target_20d']\n",
    "X_test, y_test = df_test[input_features], df_test['target_20d']"
   ]
  },
  {
   "cell_type": "markdown",
   "id": "8960ec76",
   "metadata": {},
   "source": [
    "### preprocess data"
   ]
  },
  {
   "cell_type": "code",
   "execution_count": 49,
   "id": "3812af4d",
   "metadata": {},
   "outputs": [],
   "source": [
    "def ds_print(*args, verbose=True):\n",
    "    if verbose: print(*args)\n",
    "def ds_print(*args, verbose=True):\n",
    "    if verbose: print(*args)\n",
    "\n",
    "class PreprocessFeatures(TransformerMixin):\n",
    "    \"\"\"\n",
    "        Parameters\n",
    "        ----------\n",
    "        preserve_vars : A list of variables that won't be fitted or transformed by any sort of feature engineering\n",
    "        target : A string - the name of the target variable.\n",
    "        remainder : A string that gets passed to the column transformer whether to\n",
    "                    drop preserve_vars or keep them in the final dataset\n",
    "                    options are 'drop' or 'passthrough'\n",
    "        max_oh_cardinality : A natural number - one-hot encode all features with unique categories <= to this value\n",
    "        FE_pipeline_dict : Set to None to use \"standard\" feature engineering pipeline. Otherwise, supply a dictionary of pipelines to hc_pipe, oh_pipe, numeric_pipe, and custom_pipe\n",
    "        n_jobs : An int - the number of threads to use\n",
    "        copy : boolean to copy X_train and X_test while preprocessing\n",
    "        -------\n",
    "        Attributes\n",
    "        detect_feature_types attributes are dictionary attributes\n",
    "        fit attributes are sklearn ColumnTransformer attributes\n",
    "        -------\n",
    "        Returns\n",
    "        detect features returns a dictionary\n",
    "        fit returns a ColumnTransformer object\n",
    "        We can call fit_transform because we inherited the sklearn base TransformerMixin class\n",
    "        -------\n",
    "    \"\"\"\n",
    "\n",
    "    def __init__(self,\n",
    "                 target=None,\n",
    "                 preserve_vars=None,\n",
    "                 FE_pipeline_dict=None,\n",
    "                 remainder='drop',\n",
    "                 max_oh_cardinality=11,\n",
    "                 detect_dtypes=True,\n",
    "                 numeric_features=None,\n",
    "                 oh_features=None,\n",
    "                 hc_features=None,\n",
    "                 overwrite_detection=True,\n",
    "                 n_jobs=-1,\n",
    "                 copy=True,\n",
    "                 verbose=True):\n",
    "\n",
    "        self.preserve_vars = preserve_vars\n",
    "        self.target = target\n",
    "        self.FE_pipeline_dict = FE_pipeline_dict\n",
    "        self.remainder = remainder\n",
    "        self.max_oh_cardinality = max_oh_cardinality\n",
    "        self.detect_dtypes = detect_dtypes\n",
    "        self.numeric_features = [] if numeric_features is None else numeric_features\n",
    "        self.oh_features = [] if oh_features is None else oh_features\n",
    "        self.hc_features = [] if hc_features is None else hc_features\n",
    "        self.overwrite_detection = overwrite_detection\n",
    "        self.n_jobs = n_jobs\n",
    "        self.verbose = verbose\n",
    "        self.copy = copy\n",
    "\n",
    "        self.preserve_vars = [] if self.preserve_vars is None else self.preserve_vars\n",
    "        self.target = '' if self.target is None else self.target\n",
    "\n",
    "    def detect_feature_types(self, X):\n",
    "\n",
    "        if self.copy: X = X.copy()\n",
    "\n",
    "        if not self.detect_dtypes:\n",
    "            ds_print('Not detecting dtypes.', verbose=self.verbose)\n",
    "            feature_dict = {'numeric_features': self.numeric_features,\n",
    "                            'oh_features': self.oh_features,\n",
    "                            'hc_features': self.hc_features,\n",
    "                            'custom_features': self.FE_pipeline_dict['custom_pipeline'].values()}\n",
    "            return feature_dict\n",
    "\n",
    "        if self.FE_pipeline_dict is not None and 'custom_pipeline' in self.FE_pipeline_dict.keys():\n",
    "                custom_features = list(itertools.chain(*self.FE_pipeline_dict['custom_pipeline'].values()))\n",
    "        else:\n",
    "            custom_features = []\n",
    "\n",
    "        assert len(\n",
    "            np.intersect1d(list(set(self.numeric_features + self.oh_features + self.hc_features + custom_features)),\n",
    "                           self.preserve_vars)) == 0, \\\n",
    "            'There are duplicate features in preserve_vars either the input numeric_features, oh_features, or hc_features'\n",
    "\n",
    "        detected_numeric_vars = make_column_selector(dtype_include=np.number)(\n",
    "            X[[i for i in X.columns if i not in self.preserve_vars + [self.target] + custom_features]])\n",
    "        detected_oh_vars = [i for i in X.loc[:, (X.nunique() < self.max_oh_cardinality) & (X.nunique() > 1)].columns if\n",
    "                            i not in self.preserve_vars + [self.target] + custom_features]\n",
    "        detected_hc_vars = X[[i for i in X.columns if i not in self.preserve_vars + custom_features]] \\\n",
    "            .select_dtypes(['object', 'category']) \\\n",
    "            .apply(lambda col: col.nunique()) \\\n",
    "            .loc[lambda x: x > self.max_oh_cardinality] \\\n",
    "            .index.tolist()\n",
    "\n",
    "        discarded_features = [i for i in X.isnull().sum()[X.isnull().sum() == X.shape[0]].index if i not in self.preserve_vars]\n",
    "\n",
    "        numeric_features = list(set([i for i in self.numeric_features + [i for i in detected_numeric_vars if\n",
    "                                                                         i not in list(self.oh_features) + list(\n",
    "                                                                             self.hc_features) + list(\n",
    "                                                                             discarded_features) + custom_features]]))\n",
    "\n",
    "        oh_features = list(set([i for i in self.oh_features + [i for i in detected_oh_vars if\n",
    "                                                               i not in list(self.numeric_features) + list(\n",
    "                                                                   self.hc_features) + list(\n",
    "                                                                   discarded_features) + custom_features]]))\n",
    "\n",
    "        hc_features = list(set([i for i in self.hc_features + [i for i in detected_hc_vars if\n",
    "                                                               i not in list(self.numeric_features) + list(\n",
    "                                                                   self.oh_features) + list(\n",
    "                                                                   discarded_features) + custom_features]]))\n",
    "\n",
    "        ds_print('Overlap between numeric and oh_features: ' + str(list(set(np.intersect1d(numeric_features, oh_features)))), verbose=self.verbose)\n",
    "        ds_print('Overlap between numeric and hc_features: ' + str(list(set(np.intersect1d(numeric_features, hc_features)))), verbose=self.verbose)\n",
    "        ds_print('Overlap between numeric oh_features and hc_features: ' + str(list(set(np.intersect1d(oh_features, hc_features)))), verbose=self.verbose)\n",
    "        ds_print('Overlap between oh_features and hc_features will be moved to oh_features', verbose=self.verbose)\n",
    "\n",
    "        if self.overwrite_detection:\n",
    "            numeric_features = [i for i in numeric_features if\n",
    "                                i not in oh_features + hc_features + discarded_features + custom_features]\n",
    "            oh_features = [i for i in oh_features if\n",
    "                           i not in hc_features + numeric_features + discarded_features + custom_features]\n",
    "            hc_features = [i for i in hc_features if\n",
    "                           i not in oh_features + numeric_features + discarded_features + custom_features]\n",
    "        else:\n",
    "            numeric_overlap = [i for i in numeric_features if\n",
    "                               i in oh_features or i in hc_features and i not in discarded_features + custom_features]\n",
    "            oh_overlap = [i for i in oh_features if\n",
    "                          i in hc_features or i in numeric_features and i not in discarded_features + custom_features]\n",
    "            hc_overlap = [i for i in hc_features if\n",
    "                          i in oh_features or i in numeric_features and i not in discarded_features + custom_features]\n",
    "\n",
    "            if numeric_overlap or oh_overlap or hc_overlap:\n",
    "                raise('Error - There is an overlap between numeric, oh, and hc features! To ignore this set overwrite_detection to True.')\n",
    "\n",
    "        all_features = list(set(numeric_features + oh_features + hc_features + discarded_features + custom_features))\n",
    "        all_features_debug = set(all_features) - set([i for i in X.columns if i not in self.preserve_vars + [self.target]])\n",
    "\n",
    "        if len(all_features_debug) > 0:\n",
    "            print('\\n{}\\n'.format(all_features_debug))\n",
    "            raise('There was a problem detecting all features!! Check if there is an overlap between preserve_vars and other custom input features')\n",
    "\n",
    "        ds_print('\\nnumeric_features:' + str(numeric_features), verbose=self.verbose)\n",
    "        ds_print('\\noh_features:' + str(oh_features), verbose=self.verbose)\n",
    "        ds_print('\\nhc_features:' + str(hc_features), verbose=self.verbose)\n",
    "        ds_print('\\ndiscarded_features:' + str(discarded_features), verbose=self.verbose)\n",
    "        ds_print('\\ncustom_pipeline:' + str(custom_features), verbose=self.verbose)\n",
    "\n",
    "        feature_dict = {'numeric_features': numeric_features,\n",
    "                        'oh_features': oh_features,\n",
    "                        'hc_features': hc_features,\n",
    "                        'custom_features': custom_features,\n",
    "                        'discarded_features': discarded_features}\n",
    "\n",
    "        return feature_dict\n",
    "\n",
    "    def fit(self, X, y=None, remainder='drop'):\n",
    "\n",
    "        \"\"\" This breaks the sklearn standard of returning self, but I don't currently know a better way to do this \"\"\"\n",
    "\n",
    "        if self.target is None and y is not None:\n",
    "            self.target = y.name\n",
    "\n",
    "        assert y is not None and self.target is not None, '\\n Both self.target and y cannot be None!'\n",
    "\n",
    "        if self.copy:\n",
    "            X = X.copy()\n",
    "            if y is not None:\n",
    "                y = y.copy()\n",
    "\n",
    "        feature_types = self.detect_feature_types(X)\n",
    "\n",
    "        if self.FE_pipeline_dict is None:\n",
    "\n",
    "            # Default below\n",
    "            numeric_pipe = make_pipeline(\n",
    "                FunctionTransformer(lambda x: x.replace([np.inf, -np.inf], np.nan)),\n",
    "                # Winsorizer(distribution='gaussian', tail='both', fold=3, missing_values = 'ignore'),\n",
    "                MinMaxScaler(feature_range=(0, 1)),\n",
    "                SimpleImputer(strategy='median', add_indicator=True)\n",
    "            )\n",
    "\n",
    "            hc_pipe = make_pipeline(\n",
    "                FunctionTransformer(lambda x: x.replace([np.inf, -np.inf], np.nan).astype(str)),\n",
    "                TargetEncoder(return_df=True,\n",
    "                              handle_missing='value',\n",
    "                              handle_unknown='value',\n",
    "                              min_samples_leaf=10)\n",
    "            )\n",
    "\n",
    "            oh_pipe = make_pipeline(\n",
    "                FunctionTransformer(lambda x: x.replace([np.inf, -np.inf], np.nan).astype(str)),\n",
    "                OneHotEncoder(handle_unknown='ignore', sparse=False)\n",
    "            )\n",
    "\n",
    "            custom_pipe = None\n",
    "\n",
    "        else:\n",
    "            hc_pipe = self.FE_pipeline_dict['hc_pipe']\n",
    "            numeric_pipe = self.FE_pipeline_dict['numeric_pipe']\n",
    "            oh_pipe = self.FE_pipeline_dict['oh_pipe']\n",
    "            custom_pipe = self.FE_pipeline_dict['custom_pipeline'] if 'custom_pipeline' in self.FE_pipeline_dict.keys() else {}\n",
    "\n",
    "        transformers = [\n",
    "            ('hc_pipeline', hc_pipe, feature_types['hc_features']),\n",
    "            ('numeric_pipeline', numeric_pipe, feature_types['numeric_features']),\n",
    "            ('oh_encoder', oh_pipe, feature_types['oh_features'])\n",
    "        ]\n",
    "\n",
    "        if custom_pipe:\n",
    "            i = 0\n",
    "            for cp in custom_pipe.keys():\n",
    "                transformers.append(('custom_pipe{}'.format(str(i)), cp, custom_pipe[cp]))\n",
    "                i += 1\n",
    "\n",
    "        if y is None:\n",
    "            feature_transformer = ColumnTransformer(\n",
    "                transformers=transformers,\n",
    "                remainder=remainder,\n",
    "                n_jobs=self.n_jobs).fit(X)\n",
    "        else:\n",
    "            feature_transformer = ColumnTransformer(\n",
    "                transformers=transformers,\n",
    "                remainder=remainder,\n",
    "                n_jobs=self.n_jobs).fit(X, y)\n",
    "\n",
    "        setattr(feature_transformer, 'feature_types', feature_types)\n",
    "\n",
    "        return feature_transformer\n",
    "\n",
    "\n",
    "def get_column_names_from_ColumnTransformer(column_transformer, clean_column_names=True, verbose=True):\n",
    "\n",
    "    \"\"\"\n",
    "    Reference: Kyle Gilde: https://github.com/kylegilde/Kaggle-Notebooks/blob/master/Extracting-and-Plotting-Scikit-Feature-Names-and-Importances/feature_importance.py\n",
    "    Description: Get the column names from the a ColumnTransformer containing transformers & pipelines\n",
    "    Parameters\n",
    "    ----------\n",
    "    verbose: Bool indicating whether to print summaries. Default set to True.\n",
    "    Returns\n",
    "    -------\n",
    "    a list of the correct feature names\n",
    "    Note:\n",
    "    If the ColumnTransformer contains Pipelines and if one of the transformers in the Pipeline is adding completely new columns,\n",
    "    it must come last in the pipeline. For example, OneHotEncoder, MissingIndicator & SimpleImputer(add_indicator=True) add columns\n",
    "    to the dataset that didn't exist before, so there should come last in the Pipeline.\n",
    "    Inspiration: https://github.com/scikit-learn/scikit-learn/issues/12525\n",
    "    \"\"\"\n",
    "\n",
    "    assert isinstance(column_transformer, ColumnTransformer), \"Input isn't a ColumnTransformer\"\n",
    "\n",
    "    check_is_fitted(column_transformer)\n",
    "\n",
    "    new_feature_names, transformer_list = [], []\n",
    "\n",
    "    for i, transformer_item in enumerate(column_transformer.transformers_):\n",
    "        transformer_name, transformer, orig_feature_names = transformer_item\n",
    "        orig_feature_names = list(orig_feature_names)\n",
    "\n",
    "        if len(orig_feature_names) == 0:\n",
    "            continue\n",
    "\n",
    "        if verbose:\n",
    "            print(f\"\\n\\n{i}.Transformer/Pipeline: {transformer_name} {transformer.__class__.__name__}\\n\")\n",
    "            print(f\"\\tn_orig_feature_names:{len(orig_feature_names)}\")\n",
    "\n",
    "        if transformer == 'drop':\n",
    "            continue\n",
    "\n",
    "        if isinstance(transformer, Pipeline):\n",
    "            # if pipeline, get the last transformer in the Pipeline\n",
    "            transformer = transformer.steps[-1][1]\n",
    "\n",
    "        if hasattr(transformer, 'get_feature_names_out'):\n",
    "            if 'input_features' in transformer.get_feature_names_out.__code__.co_varnames:\n",
    "                names = list(transformer.get_feature_names_out(orig_feature_names))\n",
    "            else:\n",
    "                names = list(transformer.get_feature_names_out())\n",
    "        elif hasattr(transformer, 'get_feature_names'):\n",
    "            if 'input_features' in transformer.get_feature_names.__code__.co_varnames:\n",
    "                names = list(transformer.get_feature_names(orig_feature_names))\n",
    "            else:\n",
    "                names = list(transformer.get_feature_names())\n",
    "\n",
    "        elif hasattr(transformer, 'indicator_') and transformer.add_indicator:\n",
    "            # is this transformer one of the imputers & did it call the MissingIndicator?\n",
    "\n",
    "            missing_indicator_indices = transformer.indicator_.features_\n",
    "            missing_indicators = [orig_feature_names[idx] + '_missing_flag' \\\n",
    "                                  for idx in missing_indicator_indices]\n",
    "            names = orig_feature_names + missing_indicators\n",
    "\n",
    "        elif hasattr(transformer, 'features_'):\n",
    "            # is this a MissingIndicator class?\n",
    "            missing_indicator_indices = transformer.features_\n",
    "            missing_indicators = [orig_feature_names[idx] + '_missing_flag' \\\n",
    "                                  for idx in missing_indicator_indices]\n",
    "\n",
    "        else:\n",
    "\n",
    "            names = orig_feature_names\n",
    "\n",
    "        if verbose:\n",
    "            print(f\"\\tn_new_features:{len(names)}\")\n",
    "            print(f\"\\tnew_features: {names}\\n\")\n",
    "\n",
    "        new_feature_names.extend(names)\n",
    "        transformer_list.extend([transformer_name] * len(names))\n",
    "\n",
    "    transformer_list, column_transformer_features = transformer_list, new_feature_names\n",
    "\n",
    "    if clean_column_names:\n",
    "        new_feature_names = list(clean_columns(pd.DataFrame(columns=new_feature_names)).columns)\n",
    "    return new_feature_names"
   ]
  },
  {
   "cell_type": "code",
   "execution_count": 50,
   "id": "5d748ae4",
   "metadata": {},
   "outputs": [
    {
     "name": "stdout",
     "output_type": "stream",
     "text": [
      "Overlap between numeric and oh_features: ['feature_SMA_21_adj_close_diff_2', 'feature_SMA_21_adj_close_diff_3', 'feature_SMA_14_adj_close_quintile_lag_2', 'feature_RSI_14_adj_close_quintile_lag_1', 'feature_RSI_21_adj_close_quintile_lag_5', 'feature_RSI_14_adj_close_diff_2', 'feature_RSI_21_adj_close_quintile', 'feature_SMA_14_adj_close_abs_diff_1', 'feature_SMA_14_adj_close_diff_3', 'feature_SMA_14_adj_close_quintile_lag_5', 'feature_SMA_14_adj_close_diff_2', 'feature_RSI_21_adj_close_diff_3', 'feature_SMA_21_adj_close_quintile_lag_3', 'feature_RSI_14_adj_close_quintile_lag_4', 'feature_RSI_21_adj_close_abs_diff_4', 'feature_SMA_21_adj_close_abs_diff_3', 'feature_RSI_21_adj_close_abs_diff_0', 'feature_SMA_14_adj_close_abs_diff_0', 'feature_RSI_21_adj_close_abs_diff_1', 'feature_SMA_21_adj_close_diff_1', 'feature_RSI_14_adj_close_diff_4', 'feature_SMA_21_adj_close_abs_diff_2', 'feature_SMA_21_adj_close_diff_4', 'feature_RSI_21_adj_close_quintile_lag_4', 'feature_SMA_21_adj_close_diff_0', 'feature_RSI_14_adj_close_diff_0', 'feature_RSI_21_adj_close_abs_diff_3', 'feature_RSI_21_adj_close_diff_4', 'feature_RSI_14_adj_close_abs_diff_2', 'feature_SMA_21_adj_close_quintile_lag_1', 'feature_SMA_14_adj_close_diff_0', 'feature_SMA_21_adj_close_quintile_lag_5', 'feature_SMA_14_adj_close_abs_diff_2', 'feature_SMA_14_adj_close_diff_4', 'feature_RSI_21_adj_close_diff_0', 'feature_SMA_14_adj_close_abs_diff_3', 'feature_RSI_14_adj_close_diff_1', 'feature_RSI_21_adj_close_quintile_lag_2', 'feature_SMA_14_adj_close_quintile_lag_1', 'feature_RSI_14_adj_close_diff_3', 'feature_RSI_21_adj_close_abs_diff_2', 'feature_SMA_21_adj_close_quintile_lag_4', 'feature_SMA_21_adj_close_abs_diff_1', 'feature_SMA_21_adj_close_abs_diff_4', 'feature_RSI_14_adj_close_quintile_lag_5', 'feature_RSI_21_adj_close_diff_1', 'feature_RSI_14_adj_close_quintile_lag_3', 'feature_SMA_14_adj_close_diff_1', 'feature_RSI_21_adj_close_quintile_lag_3', 'feature_SMA_21_adj_close_quintile', 'feature_RSI_14_adj_close_quintile', 'feature_RSI_21_adj_close_quintile_lag_1', 'feature_RSI_14_adj_close_quintile_lag_2', 'feature_RSI_21_adj_close_quintile_lag_0', 'feature_SMA_21_adj_close_quintile_lag_2', 'feature_SMA_14_adj_close_quintile_lag_3', 'feature_RSI_21_adj_close_diff_2', 'feature_SMA_21_adj_close_abs_diff_0', 'feature_RSI_14_adj_close_abs_diff_4', 'feature_SMA_14_adj_close_abs_diff_4', 'feature_RSI_14_adj_close_abs_diff_3', 'feature_RSI_14_adj_close_quintile_lag_0', 'feature_SMA_14_adj_close_quintile', 'feature_RSI_14_adj_close_abs_diff_0', 'feature_RSI_14_adj_close_abs_diff_1', 'feature_SMA_21_adj_close_quintile_lag_0', 'feature_SMA_14_adj_close_quintile_lag_4', 'feature_SMA_14_adj_close_quintile_lag_0']\n",
      "Overlap between numeric and hc_features: []\n",
      "Overlap between numeric oh_features and hc_features: []\n",
      "Overlap between oh_features and hc_features will be moved to oh_features\n",
      "\n",
      "numeric_features:[]\n",
      "\n",
      "oh_features:['feature_SMA_21_adj_close_diff_2', 'feature_SMA_21_adj_close_diff_3', 'feature_SMA_14_adj_close_quintile_lag_2', 'feature_RSI_14_adj_close_quintile_lag_1', 'feature_RSI_21_adj_close_quintile_lag_5', 'feature_RSI_14_adj_close_diff_2', 'feature_RSI_21_adj_close_quintile', 'feature_SMA_14_adj_close_abs_diff_1', 'feature_SMA_14_adj_close_diff_3', 'feature_SMA_14_adj_close_quintile_lag_5', 'feature_SMA_14_adj_close_diff_2', 'feature_RSI_21_adj_close_diff_3', 'feature_SMA_21_adj_close_quintile_lag_3', 'feature_RSI_14_adj_close_quintile_lag_4', 'feature_RSI_21_adj_close_abs_diff_4', 'feature_SMA_21_adj_close_abs_diff_3', 'feature_RSI_21_adj_close_abs_diff_0', 'feature_SMA_14_adj_close_abs_diff_0', 'feature_RSI_21_adj_close_abs_diff_1', 'feature_SMA_21_adj_close_diff_1', 'feature_RSI_14_adj_close_diff_4', 'feature_SMA_21_adj_close_abs_diff_2', 'feature_SMA_21_adj_close_diff_4', 'feature_RSI_21_adj_close_quintile_lag_4', 'feature_SMA_21_adj_close_diff_0', 'feature_RSI_14_adj_close_diff_0', 'feature_RSI_21_adj_close_abs_diff_3', 'feature_RSI_21_adj_close_diff_4', 'feature_RSI_14_adj_close_abs_diff_2', 'feature_SMA_21_adj_close_quintile_lag_1', 'feature_SMA_14_adj_close_diff_0', 'feature_SMA_21_adj_close_quintile_lag_5', 'feature_SMA_14_adj_close_abs_diff_2', 'feature_SMA_14_adj_close_diff_4', 'feature_RSI_21_adj_close_diff_0', 'feature_SMA_14_adj_close_abs_diff_3', 'feature_RSI_14_adj_close_diff_1', 'feature_RSI_21_adj_close_quintile_lag_2', 'feature_SMA_14_adj_close_quintile_lag_1', 'feature_RSI_14_adj_close_diff_3', 'feature_RSI_21_adj_close_abs_diff_2', 'feature_SMA_21_adj_close_quintile_lag_4', 'feature_SMA_21_adj_close_abs_diff_1', 'feature_SMA_21_adj_close_abs_diff_4', 'feature_RSI_14_adj_close_quintile_lag_5', 'feature_RSI_21_adj_close_diff_1', 'feature_RSI_14_adj_close_quintile_lag_3', 'feature_SMA_14_adj_close_diff_1', 'feature_RSI_21_adj_close_quintile_lag_3', 'feature_SMA_21_adj_close_quintile', 'feature_RSI_14_adj_close_quintile', 'feature_RSI_21_adj_close_quintile_lag_1', 'feature_RSI_14_adj_close_quintile_lag_2', 'feature_RSI_21_adj_close_quintile_lag_0', 'feature_SMA_21_adj_close_quintile_lag_2', 'feature_SMA_14_adj_close_quintile_lag_3', 'feature_RSI_21_adj_close_diff_2', 'feature_SMA_21_adj_close_abs_diff_0', 'feature_RSI_14_adj_close_abs_diff_4', 'feature_SMA_14_adj_close_abs_diff_4', 'feature_RSI_14_adj_close_quintile_lag_0', 'feature_RSI_14_adj_close_abs_diff_3', 'feature_SMA_14_adj_close_quintile', 'feature_RSI_14_adj_close_abs_diff_0', 'feature_RSI_14_adj_close_abs_diff_1', 'feature_SMA_21_adj_close_quintile_lag_0', 'feature_SMA_14_adj_close_quintile_lag_4', 'feature_SMA_14_adj_close_quintile_lag_0']\n",
      "\n",
      "hc_features:[]\n",
      "\n",
      "discarded_features:[]\n",
      "\n",
      "custom_pipeline:[]\n"
     ]
    }
   ],
   "source": [
    "feature_transformer = PreprocessFeatures().fit(X_train, y_train)"
   ]
  },
  {
   "cell_type": "code",
   "execution_count": 51,
   "id": "89abd9e6",
   "metadata": {},
   "outputs": [
    {
     "name": "stdout",
     "output_type": "stream",
     "text": [
      "\n",
      "\n",
      "2.Transformer/Pipeline: oh_encoder Pipeline\n",
      "\n",
      "\tn_orig_feature_names:68\n",
      "\tn_new_features:420\n",
      "\tnew_features: ['feature_SMA_21_adj_close_diff_2_-1.0', 'feature_SMA_21_adj_close_diff_2_-2.0', 'feature_SMA_21_adj_close_diff_2_-3.0', 'feature_SMA_21_adj_close_diff_2_-4.0', 'feature_SMA_21_adj_close_diff_2_0.0', 'feature_SMA_21_adj_close_diff_2_1.0', 'feature_SMA_21_adj_close_diff_2_2.0', 'feature_SMA_21_adj_close_diff_2_3.0', 'feature_SMA_21_adj_close_diff_2_4.0', 'feature_SMA_21_adj_close_diff_3_-1.0', 'feature_SMA_21_adj_close_diff_3_-2.0', 'feature_SMA_21_adj_close_diff_3_-3.0', 'feature_SMA_21_adj_close_diff_3_-4.0', 'feature_SMA_21_adj_close_diff_3_0.0', 'feature_SMA_21_adj_close_diff_3_1.0', 'feature_SMA_21_adj_close_diff_3_2.0', 'feature_SMA_21_adj_close_diff_3_3.0', 'feature_SMA_21_adj_close_diff_3_4.0', 'feature_SMA_14_adj_close_quintile_lag_2_0.0', 'feature_SMA_14_adj_close_quintile_lag_2_1.0', 'feature_SMA_14_adj_close_quintile_lag_2_2.0', 'feature_SMA_14_adj_close_quintile_lag_2_3.0', 'feature_SMA_14_adj_close_quintile_lag_2_4.0', 'feature_RSI_14_adj_close_quintile_lag_1_0.0', 'feature_RSI_14_adj_close_quintile_lag_1_1.0', 'feature_RSI_14_adj_close_quintile_lag_1_2.0', 'feature_RSI_14_adj_close_quintile_lag_1_3.0', 'feature_RSI_14_adj_close_quintile_lag_1_4.0', 'feature_RSI_21_adj_close_quintile_lag_5_0.0', 'feature_RSI_21_adj_close_quintile_lag_5_1.0', 'feature_RSI_21_adj_close_quintile_lag_5_2.0', 'feature_RSI_21_adj_close_quintile_lag_5_3.0', 'feature_RSI_21_adj_close_quintile_lag_5_4.0', 'feature_RSI_14_adj_close_diff_2_-1.0', 'feature_RSI_14_adj_close_diff_2_-2.0', 'feature_RSI_14_adj_close_diff_2_-3.0', 'feature_RSI_14_adj_close_diff_2_-4.0', 'feature_RSI_14_adj_close_diff_2_0.0', 'feature_RSI_14_adj_close_diff_2_1.0', 'feature_RSI_14_adj_close_diff_2_2.0', 'feature_RSI_14_adj_close_diff_2_3.0', 'feature_RSI_14_adj_close_diff_2_4.0', 'feature_RSI_21_adj_close_quintile_0', 'feature_RSI_21_adj_close_quintile_1', 'feature_RSI_21_adj_close_quintile_2', 'feature_RSI_21_adj_close_quintile_3', 'feature_RSI_21_adj_close_quintile_4', 'feature_SMA_14_adj_close_abs_diff_1_0.0', 'feature_SMA_14_adj_close_abs_diff_1_1.0', 'feature_SMA_14_adj_close_abs_diff_1_2.0', 'feature_SMA_14_adj_close_abs_diff_1_3.0', 'feature_SMA_14_adj_close_abs_diff_1_4.0', 'feature_SMA_14_adj_close_diff_3_-1.0', 'feature_SMA_14_adj_close_diff_3_-2.0', 'feature_SMA_14_adj_close_diff_3_-3.0', 'feature_SMA_14_adj_close_diff_3_-4.0', 'feature_SMA_14_adj_close_diff_3_0.0', 'feature_SMA_14_adj_close_diff_3_1.0', 'feature_SMA_14_adj_close_diff_3_2.0', 'feature_SMA_14_adj_close_diff_3_3.0', 'feature_SMA_14_adj_close_diff_3_4.0', 'feature_SMA_14_adj_close_quintile_lag_5_0.0', 'feature_SMA_14_adj_close_quintile_lag_5_1.0', 'feature_SMA_14_adj_close_quintile_lag_5_2.0', 'feature_SMA_14_adj_close_quintile_lag_5_3.0', 'feature_SMA_14_adj_close_quintile_lag_5_4.0', 'feature_SMA_14_adj_close_diff_2_-1.0', 'feature_SMA_14_adj_close_diff_2_-2.0', 'feature_SMA_14_adj_close_diff_2_-3.0', 'feature_SMA_14_adj_close_diff_2_-4.0', 'feature_SMA_14_adj_close_diff_2_0.0', 'feature_SMA_14_adj_close_diff_2_1.0', 'feature_SMA_14_adj_close_diff_2_2.0', 'feature_SMA_14_adj_close_diff_2_3.0', 'feature_SMA_14_adj_close_diff_2_4.0', 'feature_RSI_21_adj_close_diff_3_-1.0', 'feature_RSI_21_adj_close_diff_3_-2.0', 'feature_RSI_21_adj_close_diff_3_-3.0', 'feature_RSI_21_adj_close_diff_3_-4.0', 'feature_RSI_21_adj_close_diff_3_0.0', 'feature_RSI_21_adj_close_diff_3_1.0', 'feature_RSI_21_adj_close_diff_3_2.0', 'feature_RSI_21_adj_close_diff_3_3.0', 'feature_RSI_21_adj_close_diff_3_4.0', 'feature_SMA_21_adj_close_quintile_lag_3_0.0', 'feature_SMA_21_adj_close_quintile_lag_3_1.0', 'feature_SMA_21_adj_close_quintile_lag_3_2.0', 'feature_SMA_21_adj_close_quintile_lag_3_3.0', 'feature_SMA_21_adj_close_quintile_lag_3_4.0', 'feature_RSI_14_adj_close_quintile_lag_4_0.0', 'feature_RSI_14_adj_close_quintile_lag_4_1.0', 'feature_RSI_14_adj_close_quintile_lag_4_2.0', 'feature_RSI_14_adj_close_quintile_lag_4_3.0', 'feature_RSI_14_adj_close_quintile_lag_4_4.0', 'feature_RSI_21_adj_close_abs_diff_4_0.0', 'feature_RSI_21_adj_close_abs_diff_4_1.0', 'feature_RSI_21_adj_close_abs_diff_4_2.0', 'feature_RSI_21_adj_close_abs_diff_4_3.0', 'feature_RSI_21_adj_close_abs_diff_4_4.0', 'feature_SMA_21_adj_close_abs_diff_3_0.0', 'feature_SMA_21_adj_close_abs_diff_3_1.0', 'feature_SMA_21_adj_close_abs_diff_3_2.0', 'feature_SMA_21_adj_close_abs_diff_3_3.0', 'feature_SMA_21_adj_close_abs_diff_3_4.0', 'feature_RSI_21_adj_close_abs_diff_0_0.0', 'feature_RSI_21_adj_close_abs_diff_0_1.0', 'feature_RSI_21_adj_close_abs_diff_0_2.0', 'feature_RSI_21_adj_close_abs_diff_0_3.0', 'feature_RSI_21_adj_close_abs_diff_0_4.0', 'feature_SMA_14_adj_close_abs_diff_0_0.0', 'feature_SMA_14_adj_close_abs_diff_0_1.0', 'feature_SMA_14_adj_close_abs_diff_0_2.0', 'feature_SMA_14_adj_close_abs_diff_0_3.0', 'feature_SMA_14_adj_close_abs_diff_0_4.0', 'feature_RSI_21_adj_close_abs_diff_1_0.0', 'feature_RSI_21_adj_close_abs_diff_1_1.0', 'feature_RSI_21_adj_close_abs_diff_1_2.0', 'feature_RSI_21_adj_close_abs_diff_1_3.0', 'feature_RSI_21_adj_close_abs_diff_1_4.0', 'feature_SMA_21_adj_close_diff_1_-1.0', 'feature_SMA_21_adj_close_diff_1_-2.0', 'feature_SMA_21_adj_close_diff_1_-3.0', 'feature_SMA_21_adj_close_diff_1_-4.0', 'feature_SMA_21_adj_close_diff_1_0.0', 'feature_SMA_21_adj_close_diff_1_1.0', 'feature_SMA_21_adj_close_diff_1_2.0', 'feature_SMA_21_adj_close_diff_1_3.0', 'feature_SMA_21_adj_close_diff_1_4.0', 'feature_RSI_14_adj_close_diff_4_-1.0', 'feature_RSI_14_adj_close_diff_4_-2.0', 'feature_RSI_14_adj_close_diff_4_-3.0', 'feature_RSI_14_adj_close_diff_4_-4.0', 'feature_RSI_14_adj_close_diff_4_0.0', 'feature_RSI_14_adj_close_diff_4_1.0', 'feature_RSI_14_adj_close_diff_4_2.0', 'feature_RSI_14_adj_close_diff_4_3.0', 'feature_RSI_14_adj_close_diff_4_4.0', 'feature_SMA_21_adj_close_abs_diff_2_0.0', 'feature_SMA_21_adj_close_abs_diff_2_1.0', 'feature_SMA_21_adj_close_abs_diff_2_2.0', 'feature_SMA_21_adj_close_abs_diff_2_3.0', 'feature_SMA_21_adj_close_abs_diff_2_4.0', 'feature_SMA_21_adj_close_diff_4_-1.0', 'feature_SMA_21_adj_close_diff_4_-2.0', 'feature_SMA_21_adj_close_diff_4_-3.0', 'feature_SMA_21_adj_close_diff_4_-4.0', 'feature_SMA_21_adj_close_diff_4_0.0', 'feature_SMA_21_adj_close_diff_4_1.0', 'feature_SMA_21_adj_close_diff_4_2.0', 'feature_SMA_21_adj_close_diff_4_3.0', 'feature_SMA_21_adj_close_diff_4_4.0', 'feature_RSI_21_adj_close_quintile_lag_4_0.0', 'feature_RSI_21_adj_close_quintile_lag_4_1.0', 'feature_RSI_21_adj_close_quintile_lag_4_2.0', 'feature_RSI_21_adj_close_quintile_lag_4_3.0', 'feature_RSI_21_adj_close_quintile_lag_4_4.0', 'feature_SMA_21_adj_close_diff_0_-1.0', 'feature_SMA_21_adj_close_diff_0_-2.0', 'feature_SMA_21_adj_close_diff_0_-3.0', 'feature_SMA_21_adj_close_diff_0_-4.0', 'feature_SMA_21_adj_close_diff_0_0.0', 'feature_SMA_21_adj_close_diff_0_1.0', 'feature_SMA_21_adj_close_diff_0_2.0', 'feature_SMA_21_adj_close_diff_0_3.0', 'feature_SMA_21_adj_close_diff_0_4.0', 'feature_RSI_14_adj_close_diff_0_-1.0', 'feature_RSI_14_adj_close_diff_0_-2.0', 'feature_RSI_14_adj_close_diff_0_-3.0', 'feature_RSI_14_adj_close_diff_0_-4.0', 'feature_RSI_14_adj_close_diff_0_0.0', 'feature_RSI_14_adj_close_diff_0_1.0', 'feature_RSI_14_adj_close_diff_0_2.0', 'feature_RSI_14_adj_close_diff_0_3.0', 'feature_RSI_14_adj_close_diff_0_4.0', 'feature_RSI_21_adj_close_abs_diff_3_0.0', 'feature_RSI_21_adj_close_abs_diff_3_1.0', 'feature_RSI_21_adj_close_abs_diff_3_2.0', 'feature_RSI_21_adj_close_abs_diff_3_3.0', 'feature_RSI_21_adj_close_abs_diff_3_4.0', 'feature_RSI_21_adj_close_diff_4_-1.0', 'feature_RSI_21_adj_close_diff_4_-2.0', 'feature_RSI_21_adj_close_diff_4_-3.0', 'feature_RSI_21_adj_close_diff_4_-4.0', 'feature_RSI_21_adj_close_diff_4_0.0', 'feature_RSI_21_adj_close_diff_4_1.0', 'feature_RSI_21_adj_close_diff_4_2.0', 'feature_RSI_21_adj_close_diff_4_3.0', 'feature_RSI_21_adj_close_diff_4_4.0', 'feature_RSI_14_adj_close_abs_diff_2_0.0', 'feature_RSI_14_adj_close_abs_diff_2_1.0', 'feature_RSI_14_adj_close_abs_diff_2_2.0', 'feature_RSI_14_adj_close_abs_diff_2_3.0', 'feature_RSI_14_adj_close_abs_diff_2_4.0', 'feature_SMA_21_adj_close_quintile_lag_1_0.0', 'feature_SMA_21_adj_close_quintile_lag_1_1.0', 'feature_SMA_21_adj_close_quintile_lag_1_2.0', 'feature_SMA_21_adj_close_quintile_lag_1_3.0', 'feature_SMA_21_adj_close_quintile_lag_1_4.0', 'feature_SMA_14_adj_close_diff_0_-1.0', 'feature_SMA_14_adj_close_diff_0_-2.0', 'feature_SMA_14_adj_close_diff_0_-3.0', 'feature_SMA_14_adj_close_diff_0_-4.0', 'feature_SMA_14_adj_close_diff_0_0.0', 'feature_SMA_14_adj_close_diff_0_1.0', 'feature_SMA_14_adj_close_diff_0_2.0', 'feature_SMA_14_adj_close_diff_0_3.0', 'feature_SMA_14_adj_close_diff_0_4.0', 'feature_SMA_21_adj_close_quintile_lag_5_0.0', 'feature_SMA_21_adj_close_quintile_lag_5_1.0', 'feature_SMA_21_adj_close_quintile_lag_5_2.0', 'feature_SMA_21_adj_close_quintile_lag_5_3.0', 'feature_SMA_21_adj_close_quintile_lag_5_4.0', 'feature_SMA_14_adj_close_abs_diff_2_0.0', 'feature_SMA_14_adj_close_abs_diff_2_1.0', 'feature_SMA_14_adj_close_abs_diff_2_2.0', 'feature_SMA_14_adj_close_abs_diff_2_3.0', 'feature_SMA_14_adj_close_abs_diff_2_4.0', 'feature_SMA_14_adj_close_diff_4_-1.0', 'feature_SMA_14_adj_close_diff_4_-2.0', 'feature_SMA_14_adj_close_diff_4_-3.0', 'feature_SMA_14_adj_close_diff_4_-4.0', 'feature_SMA_14_adj_close_diff_4_0.0', 'feature_SMA_14_adj_close_diff_4_1.0', 'feature_SMA_14_adj_close_diff_4_2.0', 'feature_SMA_14_adj_close_diff_4_3.0', 'feature_SMA_14_adj_close_diff_4_4.0', 'feature_RSI_21_adj_close_diff_0_-1.0', 'feature_RSI_21_adj_close_diff_0_-2.0', 'feature_RSI_21_adj_close_diff_0_-3.0', 'feature_RSI_21_adj_close_diff_0_-4.0', 'feature_RSI_21_adj_close_diff_0_0.0', 'feature_RSI_21_adj_close_diff_0_1.0', 'feature_RSI_21_adj_close_diff_0_2.0', 'feature_RSI_21_adj_close_diff_0_3.0', 'feature_RSI_21_adj_close_diff_0_4.0', 'feature_SMA_14_adj_close_abs_diff_3_0.0', 'feature_SMA_14_adj_close_abs_diff_3_1.0', 'feature_SMA_14_adj_close_abs_diff_3_2.0', 'feature_SMA_14_adj_close_abs_diff_3_3.0', 'feature_SMA_14_adj_close_abs_diff_3_4.0', 'feature_RSI_14_adj_close_diff_1_-1.0', 'feature_RSI_14_adj_close_diff_1_-2.0', 'feature_RSI_14_adj_close_diff_1_-3.0', 'feature_RSI_14_adj_close_diff_1_-4.0', 'feature_RSI_14_adj_close_diff_1_0.0', 'feature_RSI_14_adj_close_diff_1_1.0', 'feature_RSI_14_adj_close_diff_1_2.0', 'feature_RSI_14_adj_close_diff_1_3.0', 'feature_RSI_14_adj_close_diff_1_4.0', 'feature_RSI_21_adj_close_quintile_lag_2_0.0', 'feature_RSI_21_adj_close_quintile_lag_2_1.0', 'feature_RSI_21_adj_close_quintile_lag_2_2.0', 'feature_RSI_21_adj_close_quintile_lag_2_3.0', 'feature_RSI_21_adj_close_quintile_lag_2_4.0', 'feature_SMA_14_adj_close_quintile_lag_1_0.0', 'feature_SMA_14_adj_close_quintile_lag_1_1.0', 'feature_SMA_14_adj_close_quintile_lag_1_2.0', 'feature_SMA_14_adj_close_quintile_lag_1_3.0', 'feature_SMA_14_adj_close_quintile_lag_1_4.0', 'feature_RSI_14_adj_close_diff_3_-1.0', 'feature_RSI_14_adj_close_diff_3_-2.0', 'feature_RSI_14_adj_close_diff_3_-3.0', 'feature_RSI_14_adj_close_diff_3_-4.0', 'feature_RSI_14_adj_close_diff_3_0.0', 'feature_RSI_14_adj_close_diff_3_1.0', 'feature_RSI_14_adj_close_diff_3_2.0', 'feature_RSI_14_adj_close_diff_3_3.0', 'feature_RSI_14_adj_close_diff_3_4.0', 'feature_RSI_21_adj_close_abs_diff_2_0.0', 'feature_RSI_21_adj_close_abs_diff_2_1.0', 'feature_RSI_21_adj_close_abs_diff_2_2.0', 'feature_RSI_21_adj_close_abs_diff_2_3.0', 'feature_RSI_21_adj_close_abs_diff_2_4.0', 'feature_SMA_21_adj_close_quintile_lag_4_0.0', 'feature_SMA_21_adj_close_quintile_lag_4_1.0', 'feature_SMA_21_adj_close_quintile_lag_4_2.0', 'feature_SMA_21_adj_close_quintile_lag_4_3.0', 'feature_SMA_21_adj_close_quintile_lag_4_4.0', 'feature_SMA_21_adj_close_abs_diff_1_0.0', 'feature_SMA_21_adj_close_abs_diff_1_1.0', 'feature_SMA_21_adj_close_abs_diff_1_2.0', 'feature_SMA_21_adj_close_abs_diff_1_3.0', 'feature_SMA_21_adj_close_abs_diff_1_4.0', 'feature_SMA_21_adj_close_abs_diff_4_0.0', 'feature_SMA_21_adj_close_abs_diff_4_1.0', 'feature_SMA_21_adj_close_abs_diff_4_2.0', 'feature_SMA_21_adj_close_abs_diff_4_3.0', 'feature_SMA_21_adj_close_abs_diff_4_4.0', 'feature_RSI_14_adj_close_quintile_lag_5_0.0', 'feature_RSI_14_adj_close_quintile_lag_5_1.0', 'feature_RSI_14_adj_close_quintile_lag_5_2.0', 'feature_RSI_14_adj_close_quintile_lag_5_3.0', 'feature_RSI_14_adj_close_quintile_lag_5_4.0', 'feature_RSI_21_adj_close_diff_1_-1.0', 'feature_RSI_21_adj_close_diff_1_-2.0', 'feature_RSI_21_adj_close_diff_1_-3.0', 'feature_RSI_21_adj_close_diff_1_-4.0', 'feature_RSI_21_adj_close_diff_1_0.0', 'feature_RSI_21_adj_close_diff_1_1.0', 'feature_RSI_21_adj_close_diff_1_2.0', 'feature_RSI_21_adj_close_diff_1_3.0', 'feature_RSI_21_adj_close_diff_1_4.0', 'feature_RSI_14_adj_close_quintile_lag_3_0.0', 'feature_RSI_14_adj_close_quintile_lag_3_1.0', 'feature_RSI_14_adj_close_quintile_lag_3_2.0', 'feature_RSI_14_adj_close_quintile_lag_3_3.0', 'feature_RSI_14_adj_close_quintile_lag_3_4.0', 'feature_SMA_14_adj_close_diff_1_-1.0', 'feature_SMA_14_adj_close_diff_1_-2.0', 'feature_SMA_14_adj_close_diff_1_-3.0', 'feature_SMA_14_adj_close_diff_1_-4.0', 'feature_SMA_14_adj_close_diff_1_0.0', 'feature_SMA_14_adj_close_diff_1_1.0', 'feature_SMA_14_adj_close_diff_1_2.0', 'feature_SMA_14_adj_close_diff_1_3.0', 'feature_SMA_14_adj_close_diff_1_4.0', 'feature_RSI_21_adj_close_quintile_lag_3_0.0', 'feature_RSI_21_adj_close_quintile_lag_3_1.0', 'feature_RSI_21_adj_close_quintile_lag_3_2.0', 'feature_RSI_21_adj_close_quintile_lag_3_3.0', 'feature_RSI_21_adj_close_quintile_lag_3_4.0', 'feature_SMA_21_adj_close_quintile_0', 'feature_SMA_21_adj_close_quintile_1', 'feature_SMA_21_adj_close_quintile_2', 'feature_SMA_21_adj_close_quintile_3', 'feature_SMA_21_adj_close_quintile_4', 'feature_RSI_14_adj_close_quintile_0', 'feature_RSI_14_adj_close_quintile_1', 'feature_RSI_14_adj_close_quintile_2', 'feature_RSI_14_adj_close_quintile_3', 'feature_RSI_14_adj_close_quintile_4', 'feature_RSI_21_adj_close_quintile_lag_1_0.0', 'feature_RSI_21_adj_close_quintile_lag_1_1.0', 'feature_RSI_21_adj_close_quintile_lag_1_2.0', 'feature_RSI_21_adj_close_quintile_lag_1_3.0', 'feature_RSI_21_adj_close_quintile_lag_1_4.0', 'feature_RSI_14_adj_close_quintile_lag_2_0.0', 'feature_RSI_14_adj_close_quintile_lag_2_1.0', 'feature_RSI_14_adj_close_quintile_lag_2_2.0', 'feature_RSI_14_adj_close_quintile_lag_2_3.0', 'feature_RSI_14_adj_close_quintile_lag_2_4.0', 'feature_RSI_21_adj_close_quintile_lag_0_0.0', 'feature_RSI_21_adj_close_quintile_lag_0_1.0', 'feature_RSI_21_adj_close_quintile_lag_0_2.0', 'feature_RSI_21_adj_close_quintile_lag_0_3.0', 'feature_RSI_21_adj_close_quintile_lag_0_4.0', 'feature_SMA_21_adj_close_quintile_lag_2_0.0', 'feature_SMA_21_adj_close_quintile_lag_2_1.0', 'feature_SMA_21_adj_close_quintile_lag_2_2.0', 'feature_SMA_21_adj_close_quintile_lag_2_3.0', 'feature_SMA_21_adj_close_quintile_lag_2_4.0', 'feature_SMA_14_adj_close_quintile_lag_3_0.0', 'feature_SMA_14_adj_close_quintile_lag_3_1.0', 'feature_SMA_14_adj_close_quintile_lag_3_2.0', 'feature_SMA_14_adj_close_quintile_lag_3_3.0', 'feature_SMA_14_adj_close_quintile_lag_3_4.0', 'feature_RSI_21_adj_close_diff_2_-1.0', 'feature_RSI_21_adj_close_diff_2_-2.0', 'feature_RSI_21_adj_close_diff_2_-3.0', 'feature_RSI_21_adj_close_diff_2_-4.0', 'feature_RSI_21_adj_close_diff_2_0.0', 'feature_RSI_21_adj_close_diff_2_1.0', 'feature_RSI_21_adj_close_diff_2_2.0', 'feature_RSI_21_adj_close_diff_2_3.0', 'feature_RSI_21_adj_close_diff_2_4.0', 'feature_SMA_21_adj_close_abs_diff_0_0.0', 'feature_SMA_21_adj_close_abs_diff_0_1.0', 'feature_SMA_21_adj_close_abs_diff_0_2.0', 'feature_SMA_21_adj_close_abs_diff_0_3.0', 'feature_SMA_21_adj_close_abs_diff_0_4.0', 'feature_RSI_14_adj_close_abs_diff_4_0.0', 'feature_RSI_14_adj_close_abs_diff_4_1.0', 'feature_RSI_14_adj_close_abs_diff_4_2.0', 'feature_RSI_14_adj_close_abs_diff_4_3.0', 'feature_RSI_14_adj_close_abs_diff_4_4.0', 'feature_SMA_14_adj_close_abs_diff_4_0.0', 'feature_SMA_14_adj_close_abs_diff_4_1.0', 'feature_SMA_14_adj_close_abs_diff_4_2.0', 'feature_SMA_14_adj_close_abs_diff_4_3.0', 'feature_SMA_14_adj_close_abs_diff_4_4.0', 'feature_RSI_14_adj_close_quintile_lag_0_0.0', 'feature_RSI_14_adj_close_quintile_lag_0_1.0', 'feature_RSI_14_adj_close_quintile_lag_0_2.0', 'feature_RSI_14_adj_close_quintile_lag_0_3.0', 'feature_RSI_14_adj_close_quintile_lag_0_4.0', 'feature_RSI_14_adj_close_abs_diff_3_0.0', 'feature_RSI_14_adj_close_abs_diff_3_1.0', 'feature_RSI_14_adj_close_abs_diff_3_2.0', 'feature_RSI_14_adj_close_abs_diff_3_3.0', 'feature_RSI_14_adj_close_abs_diff_3_4.0', 'feature_SMA_14_adj_close_quintile_0', 'feature_SMA_14_adj_close_quintile_1', 'feature_SMA_14_adj_close_quintile_2', 'feature_SMA_14_adj_close_quintile_3', 'feature_SMA_14_adj_close_quintile_4', 'feature_RSI_14_adj_close_abs_diff_0_0.0', 'feature_RSI_14_adj_close_abs_diff_0_1.0', 'feature_RSI_14_adj_close_abs_diff_0_2.0', 'feature_RSI_14_adj_close_abs_diff_0_3.0', 'feature_RSI_14_adj_close_abs_diff_0_4.0', 'feature_RSI_14_adj_close_abs_diff_1_0.0', 'feature_RSI_14_adj_close_abs_diff_1_1.0', 'feature_RSI_14_adj_close_abs_diff_1_2.0', 'feature_RSI_14_adj_close_abs_diff_1_3.0', 'feature_RSI_14_adj_close_abs_diff_1_4.0', 'feature_SMA_21_adj_close_quintile_lag_0_0.0', 'feature_SMA_21_adj_close_quintile_lag_0_1.0', 'feature_SMA_21_adj_close_quintile_lag_0_2.0', 'feature_SMA_21_adj_close_quintile_lag_0_3.0', 'feature_SMA_21_adj_close_quintile_lag_0_4.0', 'feature_SMA_14_adj_close_quintile_lag_4_0.0', 'feature_SMA_14_adj_close_quintile_lag_4_1.0', 'feature_SMA_14_adj_close_quintile_lag_4_2.0', 'feature_SMA_14_adj_close_quintile_lag_4_3.0', 'feature_SMA_14_adj_close_quintile_lag_4_4.0', 'feature_SMA_14_adj_close_quintile_lag_0_0.0', 'feature_SMA_14_adj_close_quintile_lag_0_1.0', 'feature_SMA_14_adj_close_quintile_lag_0_2.0', 'feature_SMA_14_adj_close_quintile_lag_0_3.0', 'feature_SMA_14_adj_close_quintile_lag_0_4.0']\n",
      "\n"
     ]
    }
   ],
   "source": [
    "output_features = get_column_names_from_ColumnTransformer(feature_transformer)"
   ]
  },
  {
   "cell_type": "code",
   "execution_count": 52,
   "id": "ff91ff58",
   "metadata": {},
   "outputs": [],
   "source": [
    "X_train_transformed = pd.DataFrame(feature_transformer.transform(X_train), columns=output_features, index=y_train.index)\n",
    "X_val_transformed = pd.DataFrame(feature_transformer.transform(X_val), columns=output_features, index=y_val.index)\n",
    "X_test_transformed = pd.DataFrame(feature_transformer.transform(X_test), columns=output_features, index=y_test.index)"
   ]
  },
  {
   "cell_type": "markdown",
   "id": "dcc18c0b",
   "metadata": {},
   "source": [
    "### model training pipeline"
   ]
  },
  {
   "cell_type": "code",
   "execution_count": 63,
   "id": "cb788bfe",
   "metadata": {
    "scrolled": false
   },
   "outputs": [
    {
     "name": "stderr",
     "output_type": "stream",
     "text": [
      "/home/melgazar9/scripts/github/trading/venv/lib/python3.9/site-packages/xgboost/data.py:262: FutureWarning: pandas.Int64Index is deprecated and will be removed from pandas in a future version. Use pandas.Index with the appropriate dtype instead.\n",
      "  elif isinstance(data.columns, (pd.Int64Index, pd.RangeIndex)):\n"
     ]
    }
   ],
   "source": [
    "model_pipe = make_pipeline(\n",
    "    #PCA(n_components=100),\n",
    "    XGBRegressor()\n",
    "    ).fit(X_train_transformed, y_train)"
   ]
  },
  {
   "cell_type": "code",
   "execution_count": 64,
   "id": "7cc3eeef",
   "metadata": {},
   "outputs": [],
   "source": [
    "df_train.loc[:, 'pred'] = model_pipe.predict(X_train_transformed)\n",
    "df_val.loc[:, 'pred'] = model_pipe.predict(X_val_transformed)\n",
    "df_test.loc[:, 'pred'] = model_pipe.predict(X_test_transformed)"
   ]
  },
  {
   "cell_type": "code",
   "execution_count": 2,
   "id": "47b9af97",
   "metadata": {},
   "outputs": [
    {
     "ename": "NameError",
     "evalue": "name 'pd' is not defined",
     "output_type": "error",
     "traceback": [
      "\u001b[0;31m---------------------------------------------------------------------------\u001b[0m",
      "\u001b[0;31mNameError\u001b[0m                                 Traceback (most recent call last)",
      "Input \u001b[0;32mIn [2]\u001b[0m, in \u001b[0;36m<cell line: 1>\u001b[0;34m()\u001b[0m\n\u001b[0;32m----> 1\u001b[0m \u001b[43mpd\u001b[49m\u001b[38;5;241m.\u001b[39mSeries(df_train[\u001b[38;5;124m'\u001b[39m\u001b[38;5;124mpred\u001b[39m\u001b[38;5;124m'\u001b[39m])\u001b[38;5;241m.\u001b[39mplot(kind\u001b[38;5;241m=\u001b[39m\u001b[38;5;124m'\u001b[39m\u001b[38;5;124mhist\u001b[39m\u001b[38;5;124m'\u001b[39m, bins\u001b[38;5;241m=\u001b[39m\u001b[38;5;241m30\u001b[39m)\n\u001b[1;32m      2\u001b[0m pd\u001b[38;5;241m.\u001b[39mSeries(df_val[\u001b[38;5;124m'\u001b[39m\u001b[38;5;124mpred\u001b[39m\u001b[38;5;124m'\u001b[39m])\u001b[38;5;241m.\u001b[39mplot(kind\u001b[38;5;241m=\u001b[39m\u001b[38;5;124m'\u001b[39m\u001b[38;5;124mhist\u001b[39m\u001b[38;5;124m'\u001b[39m, bins\u001b[38;5;241m=\u001b[39m\u001b[38;5;241m30\u001b[39m)\n",
      "\u001b[0;31mNameError\u001b[0m: name 'pd' is not defined"
     ]
    }
   ],
   "source": [
    "pd.Series(df_train['pred']).plot(kind='hist', bins=30)"
   ]
  },
  {
   "cell_type": "code",
   "execution_count": 66,
   "id": "6b91cd09",
   "metadata": {},
   "outputs": [
    {
     "data": {
      "text/plain": [
       "<AxesSubplot:ylabel='Frequency'>"
      ]
     },
     "execution_count": 66,
     "metadata": {},
     "output_type": "execute_result"
    },
    {
     "data": {
      "image/png": "[encoded data removed]",
      "text/plain": [
       "<Figure size 432x288 with 1 Axes>"
      ]
     },
     "metadata": {
      "needs_background": "light"
     },
     "output_type": "display_data"
    }
   ],
   "source": [
    "pd.Series(df_val['pred']).plot(kind='hist', bins=30)"
   ]
  },
  {
   "cell_type": "code",
   "execution_count": 67,
   "id": "8f38f0ba",
   "metadata": {},
   "outputs": [
    {
     "data": {
      "text/plain": [
       "<AxesSubplot:ylabel='Frequency'>"
      ]
     },
     "execution_count": 67,
     "metadata": {},
     "output_type": "execute_result"
    },
    {
     "data": {
      "image/png": "[encoded data removed]",
      "text/plain": [
       "<Figure size 432x288 with 1 Axes>"
      ]
     },
     "metadata": {
      "needs_background": "light"
     },
     "output_type": "display_data"
    }
   ],
   "source": [
    "pd.Series(df_test['pred']).plot(kind='hist', bins=30)"
   ]
  },
  {
   "cell_type": "markdown",
   "id": "49c6b089",
   "metadata": {},
   "source": [
    "### evaluation"
   ]
  },
  {
   "cell_type": "code",
   "execution_count": 68,
   "id": "3a0e68a2",
   "metadata": {},
   "outputs": [],
   "source": [
    "from sklearn.metrics import mean_squared_error"
   ]
  },
  {
   "cell_type": "code",
   "execution_count": 69,
   "id": "1c76025b",
   "metadata": {},
   "outputs": [
    {
     "name": "stdout",
     "output_type": "stream",
     "text": [
      "\n",
      "Train xgboost RMSE: 0.2077836798371428\n",
      "\n",
      "Test xgboost RMSE: 0.2077836798371428\n",
      "\n"
     ]
    }
   ],
   "source": [
    "print(f\"\\nTrain xgboost RMSE: {np.sqrt(mean_squared_error(df_train['pred'], df_train['target_20d']))}\\n\")\n",
    "print(f\"Test xgboost RMSE: {np.sqrt(mean_squared_error(df_train['pred'], df_train['target_20d']))}\\n\")"
   ]
  },
  {
   "cell_type": "code",
   "execution_count": 70,
   "id": "cd32786e",
   "metadata": {},
   "outputs": [],
   "source": [
    "class CalcNumeraiMetrics:\n",
    "    \n",
    "    def __init__(self, y, y_pred):\n",
    "        self.y = y\n",
    "        self.y_pred = y_pred\n",
    "    \n",
    "    def calc_coef(self):\n",
    "\n",
    "        # method=\"first\" breaks ties based on order in array\n",
    "        return np.corrcoef(self.y, self.y_pred.rank(pct=True, method=\"first\"))[0,1]\n",
    "    \n",
    "    def calc_mmc(self):\n",
    "        pass\n",
    "    \n",
    "    def calc_estimated_payout(self, stake_value, payout_factor, corr, corr_multiplier, mmc, mmc_multiplier):\n",
    "        estimated_payout = stake_value * payout_factor * (corr * corr_multiplier + mmc * mmc_multiplier)\n",
    "        return estimated_payout\n",
    "    \n",
    "    def calc_all_metrics(self):\n",
    "        coef = self.calc_coef()\n",
    "        metric_summary = {'coef': coef}\n",
    "        return metric_summary"
   ]
  },
  {
   "cell_type": "code",
   "execution_count": 71,
   "id": "6037ce26",
   "metadata": {},
   "outputs": [
    {
     "name": "stdout",
     "output_type": "stream",
     "text": [
      "Train: {'coef': 0.08674458087206326}\n",
      "\n",
      "Val: {'coef': 0.011826078157576797}\n",
      "\n",
      "Test: {'coef': nan}\n",
      "\n"
     ]
    }
   ],
   "source": [
    "print(f\"Train: {CalcNumeraiMetrics(df_train['target_20d'], df_train['pred']).calc_all_metrics()}\\n\")\n",
    "print(f\"Val: {CalcNumeraiMetrics(df_val['target_20d'], df_val['pred']).calc_all_metrics()}\\n\")\n",
    "print(f\"Test: {CalcNumeraiMetrics(df_test['target_20d'], df_test['pred']).calc_all_metrics()}\\n\")"
   ]
  },
  {
   "cell_type": "markdown",
   "id": "fc2c6cf0",
   "metadata": {},
   "source": [
    "### feature importance"
   ]
  },
  {
   "cell_type": "code",
   "execution_count": 110,
   "id": "af63ac55",
   "metadata": {},
   "outputs": [
    {
     "data": {
      "text/html": [
       "<div>\n",
       "<style scoped>\n",
       "    .dataframe tbody tr th:only-of-type {\n",
       "        vertical-align: middle;\n",
       "    }\n",
       "\n",
       "    .dataframe tbody tr th {\n",
       "        vertical-align: top;\n",
       "    }\n",
       "\n",
       "    .dataframe thead th {\n",
       "        text-align: right;\n",
       "    }\n",
       "</style>\n",
       "<table border=\"1\" class=\"dataframe\">\n",
       "  <thead>\n",
       "    <tr style=\"text-align: right;\">\n",
       "      <th></th>\n",
       "      <th>feature</th>\n",
       "      <th>importance</th>\n",
       "    </tr>\n",
       "  </thead>\n",
       "  <tbody>\n",
       "    <tr>\n",
       "      <th>335</th>\n",
       "      <td>feature_sma_14_adj_close_quintile_0</td>\n",
       "      <td>4.148208</td>\n",
       "    </tr>\n",
       "    <tr>\n",
       "      <th>336</th>\n",
       "      <td>feature_sma_14_adj_close_quintile_1</td>\n",
       "      <td>1.923712</td>\n",
       "    </tr>\n",
       "    <tr>\n",
       "      <th>305</th>\n",
       "      <td>feature_sma_21_adj_close_quintile_lag_2_3_0</td>\n",
       "      <td>0.532949</td>\n",
       "    </tr>\n",
       "    <tr>\n",
       "      <th>348</th>\n",
       "      <td>feature_sma_14_adj_close_quintile_lag_4_0_0</td>\n",
       "      <td>0.477615</td>\n",
       "    </tr>\n",
       "    <tr>\n",
       "      <th>226</th>\n",
       "      <td>feature_sma_14_adj_close_quintile_lag_1_3_0</td>\n",
       "      <td>0.368220</td>\n",
       "    </tr>\n",
       "    <tr>\n",
       "      <th>...</th>\n",
       "      <td>...</td>\n",
       "      <td>...</td>\n",
       "    </tr>\n",
       "    <tr>\n",
       "      <th>148</th>\n",
       "      <td>feature_sma_21_adj_close_diff_0_3_0_1</td>\n",
       "      <td>0.011791</td>\n",
       "    </tr>\n",
       "    <tr>\n",
       "      <th>1</th>\n",
       "      <td>feature_sma_21_adj_close_diff_2_2_0</td>\n",
       "      <td>0.011537</td>\n",
       "    </tr>\n",
       "    <tr>\n",
       "      <th>275</th>\n",
       "      <td>feature_sma_14_adj_close_diff_1_3_0_1</td>\n",
       "      <td>0.010511</td>\n",
       "    </tr>\n",
       "    <tr>\n",
       "      <th>185</th>\n",
       "      <td>feature_sma_14_adj_close_diff_0_4_0_1</td>\n",
       "      <td>0.010150</td>\n",
       "    </tr>\n",
       "    <tr>\n",
       "      <th>181</th>\n",
       "      <td>feature_sma_14_adj_close_diff_0_4_0</td>\n",
       "      <td>0.006802</td>\n",
       "    </tr>\n",
       "  </tbody>\n",
       "</table>\n",
       "<p>353 rows × 2 columns</p>\n",
       "</div>"
      ],
      "text/plain": [
       "                                         feature  importance\n",
       "335          feature_sma_14_adj_close_quintile_0    4.148208\n",
       "336          feature_sma_14_adj_close_quintile_1    1.923712\n",
       "305  feature_sma_21_adj_close_quintile_lag_2_3_0    0.532949\n",
       "348  feature_sma_14_adj_close_quintile_lag_4_0_0    0.477615\n",
       "226  feature_sma_14_adj_close_quintile_lag_1_3_0    0.368220\n",
       "..                                           ...         ...\n",
       "148        feature_sma_21_adj_close_diff_0_3_0_1    0.011791\n",
       "1            feature_sma_21_adj_close_diff_2_2_0    0.011537\n",
       "275        feature_sma_14_adj_close_diff_1_3_0_1    0.010511\n",
       "185        feature_sma_14_adj_close_diff_0_4_0_1    0.010150\n",
       "181          feature_sma_14_adj_close_diff_0_4_0    0.006802\n",
       "\n",
       "[353 rows x 2 columns]"
      ]
     },
     "execution_count": 110,
     "metadata": {},
     "output_type": "execute_result"
    }
   ],
   "source": [
    "imp_df = pd.DataFrame({'feature': model_pipe[-1].get_booster().get_score(importance_type=\"gain\").keys(),\n",
    "                       'importance': model_pipe[-1].get_booster().get_score(importance_type=\"gain\").values()})\n",
    "imp_df.sort_values(by='importance', inplace=True, ascending=False)\n",
    "\n",
    "imp_df"
   ]
  },
  {
   "cell_type": "markdown",
   "id": "affa0e32",
   "metadata": {},
   "source": [
    "### submit model"
   ]
  },
  {
   "cell_type": "code",
   "execution_count": 21,
   "id": "b9dd19ac",
   "metadata": {},
   "outputs": [],
   "source": [
    "from configparser import ConfigParser\n",
    "import numerapi"
   ]
  },
  {
   "cell_type": "code",
   "execution_count": 22,
   "id": "b62b3eff",
   "metadata": {},
   "outputs": [],
   "source": [
    "config = ConfigParser()\n",
    "config.read('/home/melgazar9/scripts/github/trading/numerai_project/numerai_keys.ini')\n",
    "napi = numerapi.SignalsAPI(config['KEYS']['NUMERAI_PUBLIC_KEY'], config['KEYS']['NUMERAI_SECRET_KEY'])"
   ]
  },
  {
   "cell_type": "code",
   "execution_count": 32,
   "id": "b0fabb62",
   "metadata": {},
   "outputs": [],
   "source": [
    "output_dir = '/media/melgazar9/HDD_10TB/trading/data/numerai/submissions/'\n",
    "output_filename = 'numerai_signals_submission.csv'\n",
    "output_loc = f\"{output_dir}{output_filename}\""
   ]
  },
  {
   "cell_type": "code",
   "execution_count": 1,
   "id": "c8f49669",
   "metadata": {},
   "outputs": [],
   "source": [
    "if output_dir is not None:\n",
    "    os.makedirs(output_dir, exist_ok=True)\n",
    "    numerai_signals_loc = f\"{output_dir}/{output_filename}\"\n",
    "\n",
    "df_to_upload = df_test.drop_duplicates(\n",
    "    subset=[\"bloomberg_ticker\", \"friday_date\"],\n",
    "    keep=\"last\")[['bloomberg_ticker', 'friday_date', 'data_type', 'pred']]\\\n",
    "    .reset_index(drop=True)\n",
    "df_to_upload = df_to_upload[df_to_upload['bloomberg_ticker'].isin(df_numerai['bloomberg_ticker'])] # only keep relevant tickers for submission\n",
    "df_to_upload.rename(columns={'pred': 'signal'}, inplace=True)"
   ]
  },
  {
   "cell_type": "code",
   "execution_count": 175,
   "id": "40277d1f",
   "metadata": {},
   "outputs": [],
   "source": [
    "df_to_upload.to_csv(output_loc, index=False)"
   ]
  },
  {
   "cell_type": "code",
   "execution_count": 193,
   "id": "61376ac4",
   "metadata": {},
   "outputs": [],
   "source": [
    "model_id = napi.get_account()['models'][1]['id']"
   ]
  },
  {
   "cell_type": "code",
   "execution_count": 195,
   "id": "d97fa526",
   "metadata": {},
   "outputs": [
    {
     "name": "stderr",
     "output_type": "stream",
     "text": [
      "2022-03-23 14:47:20,803 INFO numerapi.base_api: uploading predictions...\n"
     ]
    },
    {
     "data": {
      "text/plain": [
       "'2aa683d5-4721-468c-b7d7-3853ea74bcb5'"
      ]
     },
     "execution_count": 195,
     "metadata": {},
     "output_type": "execute_result"
    }
   ],
   "source": [
    "napi.upload_predictions(output_loc, model_id=model_id)"
   ]
  },
  {
   "cell_type": "code",
   "execution_count": 187,
   "id": "a7505d64",
   "metadata": {},
   "outputs": [
    {
     "data": {
      "text/plain": [
       "[]"
      ]
     },
     "execution_count": 187,
     "metadata": {},
     "output_type": "execute_result"
    }
   ],
   "source": [
    "napi.diagnostics(model_id=model_id, diagnostics_id=model_id)"
   ]
  },
  {
   "cell_type": "code",
   "execution_count": null,
   "id": "7dda08cd",
   "metadata": {},
   "outputs": [],
   "source": []
  }
 ],
 "metadata": {
  "kernelspec": {
   "display_name": "Python 3 (ipykernel)",
   "language": "python",
   "name": "python3"
  },
  "language_info": {
   "codemirror_mode": {
    "name": "ipython",
    "version": 3
   },
   "file_extension": ".py",
   "mimetype": "text/x-python",
   "name": "python",
   "nbconvert_exporter": "python",
   "pygments_lexer": "ipython3",
   "version": "3.9.11"
  }
 },
 "nbformat": 4,
 "nbformat_minor": 5
}
